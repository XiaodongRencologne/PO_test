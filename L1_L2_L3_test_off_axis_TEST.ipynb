{
 "cells": [
  {
   "cell_type": "code",
   "execution_count": 1,
   "id": "f1691dbf-8c73-4ebe-8189-b5277660d5f0",
   "metadata": {},
   "outputs": [],
   "source": [
    "import pyvista as pv\n",
    "import torch.profiler\n",
    "from Kirchhoffpy import lenspy\n",
    "from Kirchhoffpy import Feedpy\n",
    "import matplotlib.pyplot as plt\n",
    "import matplotlib.tri as tri\n",
    "import numpy as np\n",
    "from Kirchhoffpy import coordinate,field_storage\n",
    "from Kirchhoffpy.Vopy import CO,dotproduct,abs_v\n",
    "c=299792458\n",
    "p = pv.Plotter()\n",
    "srffolder = 'srf/'\n"
   ]
  },
  {
   "cell_type": "code",
   "execution_count": 2,
   "id": "7dbe3d4f-2c07-4d35-b11c-a2add43ad2c5",
   "metadata": {},
   "outputs": [
    {
     "name": "stdout",
     "output_type": "stream",
     "text": [
      "1.9986163866666666 3.1437675329275225\n"
     ]
    }
   ],
   "source": [
    "# 1. define frequnecy and wavelength\n",
    "freq = 150*10**9\n",
    "Lambda = c*1000/freq\n",
    "k = 2*np.pi/Lambda\n",
    "print(Lambda,k)\n"
   ]
  },
  {
   "cell_type": "code",
   "execution_count": 3,
   "id": "13b91e40-87e1-4602-8f26-31d7ddb7819d",
   "metadata": {},
   "outputs": [],
   "source": [
    "# 2. define coordinate systems\n",
    "eff_focal_length = 569.56 #mm\n",
    "coord_ref = coordinate.coord_sys([0,0,0],[0,0,0],axes = 'xyz')\n",
    "\n",
    "coord_L1 = coordinate.coord_sys([0,0,-(803.9719951339465-4.34990822154231*10)],[np.pi,0,0],axes = 'xyz',ref_coord = coord_ref)\n",
    "coord_L2 = coordinate.coord_sys([0,0,-(227.64396727901004-4.696706712699847*10)],[np.pi,0,0],axes = 'xyz',ref_coord = coord_ref)\n",
    "coord_L3 = coordinate.coord_sys([0,0,-(71.77590111674095-2.96556*10)],[np.pi,0,0],axes = 'xyz',ref_coord = coord_ref)\n",
    "\n",
    "coord_feed_offset = coordinate.coord_sys([90,0,0],[np.pi,0,0],axes = 'xyz',ref_coord = coord_ref)\n",
    "coord_feed_rotation = coordinate.coord_sys([0,0,0],[0,0,0],axes = 'xyz',ref_coord = coord_feed_offset)\n",
    "coord_feed = coordinate.coord_sys([0,0,0],[0,0,0],axes = 'xyz',ref_coord = coord_feed_rotation)\n",
    "\n",
    "\n",
    "\n",
    "coord_sky_ref = coordinate.coord_sys([0,0,0],[np.pi,0,0],axes = 'xyz',ref_coord = coord_ref)\n",
    "coord_sky = coordinate.coord_sys([0,0,0],[0,-90/569.56,0],axes = 'xyz',ref_coord = coord_sky_ref)\n"
   ]
  },
  {
   "cell_type": "code",
   "execution_count": 4,
   "id": "edf4f650-2bdc-4674-a541-0a86cd732ff3",
   "metadata": {},
   "outputs": [
    {
     "name": "stdout",
     "output_type": "stream",
     "text": [
      "26584903304305.848\n"
     ]
    }
   ],
   "source": [
    "# 3. define input Feedhorn\n",
    "feed= Feedpy.GaussiBeam(-2.1714724,\n",
    "                        10.1161095,\n",
    "                        k,        \n",
    "                        coord_feed,\n",
    "                        polarization = 'x')\n"
   ]
  },
  {
   "cell_type": "code",
   "execution_count": 5,
   "id": "621a2729-ac20-4174-b37b-7597af405653",
   "metadata": {},
   "outputs": [],
   "source": [
    "# 4. Lenses and aperture \n",
    "#outputfolder = 'output2/150GHz/x90_offaxis_TEST/'\n",
    "outputfolder = 'output2/150GHz/test/'\n",
    "L1 = lenspy.simple_Lens(3.36,\n",
    "                        4.34991*10,# Thickness\n",
    "                        44.8*10, # diameter\n",
    "                        srffolder + 'lens1_f2.rsf', \n",
    "                        srffolder + 'lens1_f1.rsf',\n",
    "                        p,\n",
    "                        coord_L1,\n",
    "                        name = 'L1',\n",
    "                        outputfolder = outputfolder)\n",
    "L2 = lenspy.simple_Lens(3.36,\n",
    "                        4.69671*10,# Thickness\n",
    "                        44.8*10, # diameter\n",
    "                        srffolder + 'lens2_f2.rsf', \n",
    "                        srffolder + 'lens2_f1.rsf',\n",
    "                        p,\n",
    "                        coord_L2,\n",
    "                        name = 'L2',\n",
    "                        outputfolder = outputfolder)\n",
    "\n",
    "L3 = lenspy.simple_Lens(3.36,\n",
    "                        2.96556*10,# Thickness\n",
    "                        44.8*10, # diameter\n",
    "                        srffolder + 'lens3_f2.rsf', \n",
    "                        srffolder + 'lens3_f1.rsf',\n",
    "                        p,\n",
    "                        coord_L3,\n",
    "                        name = 'L3',\n",
    "                        outputfolder = outputfolder)\n",
    "#L2 = lenspy.simple_Lens(2,46.9671 ,400, srffolder + 'lens2_f1.rsf', srffolder + 'lens2_f2.rsf',p,[0,0,-227.64396727901004],name = 'L2')\n",
    "#L3 = lenspy.simple_Lens(2,29.6556 ,400, srffolder + 'lens3_f1.rsf', srffolder + 'lens3_f2.rsf',p,[0,0,-71.77590111674095],name = 'L3')\n"
   ]
  },
  {
   "cell_type": "code",
   "execution_count": 6,
   "id": "cb530a7c-7782-4e22-93d2-36995513d003",
   "metadata": {},
   "outputs": [],
   "source": [
    "# 5. fiedl storage\n",
    "center_grd = field_storage.Spherical_grd(coord_sky,\n",
    "                                         0,\n",
    "                                         0,\n",
    "                                         20,\n",
    "                                         20,\n",
    "                                         501,501,\n",
    "                                         Type = 'ELoverAz', \n",
    "                                         far_near = 'far',\n",
    "                                         distance = 50000)\n"
   ]
  },
  {
   "cell_type": "code",
   "execution_count": 7,
   "id": "c3022924-72ed-4ef3-bdd4-1e7216c19be7",
   "metadata": {},
   "outputs": [
    {
     "name": "stdout",
     "output_type": "stream",
     "text": [
      "Gain of the Guassian feedhonr!\n",
      "-6.631975905905926 dB\n",
      "[[1. 0. 0.]\n",
      " [0. 1. 0.]\n",
      " [0. 0. 1.]]\n",
      "input power\n",
      "poynting value max!\n",
      "0.002770720117815049\n",
      "13.014576679252004\n",
      "******\n",
      "(array([], dtype=int64),)\n",
      "test vx\n",
      "1.0000000000000004 0.9999999999999994\n",
      "cuda:0\n",
      "cuda:0 cuda:0 cuda:0 cuda:0 cuda:0 cuda:0\n",
      "Batch size: 69\n"
     ]
    },
    {
     "name": "stderr",
     "output_type": "stream",
     "text": [
      "100%|██████████| 179/179 [00:38<00:00,  4.64it/s]\n"
     ]
    },
    {
     "name": "stdout",
     "output_type": "stream",
     "text": [
      "(array([], dtype=int64),)\n",
      "test vx\n",
      "1.0000000000000004 0.9999999999999994\n",
      "Transform f1\n",
      "poynting value max!\n",
      "0.0019451951708986971\n",
      "8.672619749979134\n",
      "f2\n",
      "poynting value max!\n",
      "0.001421642058775979\n",
      "8.8747283293015\n",
      "f2 transmission\n",
      "poynting value max!\n",
      "6.382852880099018\n",
      "****************\n",
      "-------------------------------------------------------  ------------  ------------  ------------  ------------  ------------  ------------  ------------  ------------  ------------  ------------  \n",
      "                                                   Name    Self CPU %      Self CPU   CPU total %     CPU total  CPU time avg     Self CUDA   Self CUDA %    CUDA total  CUDA time avg    # of Calls  \n",
      "-------------------------------------------------------  ------------  ------------  ------------  ------------  ------------  ------------  ------------  ------------  ------------  ------------  \n",
      "                                              aten::mul         0.06%      25.384ms        43.74%       18.398s       4.866ms       20.367s        49.17%       20.367s       5.387ms          3781  \n",
      "void at::native::elementwise_kernel<128, 4, at::nati...         0.00%       0.000us         0.00%       0.000us       0.000us        6.916s        16.69%        6.916s       3.202ms          2160  \n",
      "                                              aten::sum         0.03%      11.163ms         9.56%        4.022s       7.447ms        4.261s        10.29%        4.261s       7.891ms           540  \n",
      "void at::native::reduce_kernel<256, 1, at::native::R...         0.00%       0.000us         0.00%       0.000us       0.000us        4.254s        10.27%        4.254s       3.384ms          1257  \n",
      "                                              aten::add         0.01%       4.759ms         5.26%        2.213s       4.098ms        4.135s         9.98%        4.135s       7.657ms           540  \n",
      "void at::native::vectorized_elementwise_kernel<4, at...         0.00%       0.000us         0.00%       0.000us       0.000us        3.564s         8.60%        3.564s       4.950ms           720  \n",
      "void at::native::unrolled_elementwise_kernel<at::nat...         0.00%       0.000us         0.00%       0.000us       0.000us        3.145s         7.59%        3.145s       4.380ms           718  \n",
      "                                            aten::cross         0.00%     438.877us         0.07%      30.590ms     169.946us       0.000us         0.00%        2.827s      15.705ms           180  \n",
      "                                     aten::linalg_cross         0.01%       2.663ms         0.07%      30.151ms     167.507us        2.827s         6.82%        2.827s      15.705ms           180  \n",
      "void at::native::cross_kernel<c10::complex<double>, ...         0.00%       0.000us         0.00%       0.000us       0.000us        2.827s         6.82%        2.827s      15.705ms           180  \n",
      "-------------------------------------------------------  ------------  ------------  ------------  ------------  ------------  ------------  ------------  ------------  ------------  ------------  \n",
      "Self CPU time total: 42.064s\n",
      "Self CUDA time total: 41.425s\n",
      "\n",
      "-------------------------------------------------------  ------------  ------------  ------------  ------------  ------------  ------------  ------------  ------------  ------------  ------------  \n",
      "                                                   Name    Self CPU %      Self CPU   CPU total %     CPU total  CPU time avg     Self CUDA   Self CUDA %    CUDA total  CUDA time avg    # of Calls  \n",
      "-------------------------------------------------------  ------------  ------------  ------------  ------------  ------------  ------------  ------------  ------------  ------------  ------------  \n",
      "                                       cudaLaunchKernel        70.98%       29.857s        70.98%       29.857s       2.763ms       0.000us         0.00%      15.490ms       1.433us         10807  \n",
      "                                              aten::mul         0.06%      25.384ms        43.74%       18.398s       4.866ms       20.367s        49.17%       20.367s       5.387ms          3781  \n",
      "                                            aten::copy_         0.02%       9.004ms        13.76%        5.789s       7.422ms        2.388s         5.76%        2.403s       3.081ms           780  \n",
      "                                        cudaMemcpyAsync        12.77%        5.372s        12.77%        5.372s       9.230ms       0.000us         0.00%       0.000us       0.000us           582  \n",
      "                                              aten::sum         0.03%      11.163ms         9.56%        4.022s       7.447ms        4.261s        10.29%        4.261s       7.891ms           540  \n",
      "                                               cudaFree         8.80%        3.703s         8.80%        3.703s     112.218ms      16.323ms         0.04%      16.323ms     494.624us            33  \n",
      "                                               aten::to         0.00%     533.672us         8.80%        3.701s       8.646ms       0.000us         0.00%        1.446s       3.378ms           428  \n",
      "                                         aten::_to_copy         0.00%       1.372ms         8.80%        3.700s      16.229ms       0.000us         0.00%        1.446s       6.342ms           228  \n",
      "                                            aten::clone         0.01%       2.256ms         5.31%        2.234s       4.047ms       0.000us         0.00%     957.310ms       1.734ms           552  \n",
      "                                              aten::add         0.01%       4.759ms         5.26%        2.213s       4.098ms        4.135s         9.98%        4.135s       7.657ms           540  \n",
      "                                              aten::sub         0.01%       5.329ms         5.12%        2.152s       2.989ms        2.156s         5.20%        2.156s       2.995ms           720  \n",
      "                                              aten::div         0.01%       5.025ms         4.45%        1.872s       3.466ms        1.408s         3.40%        1.408s       2.607ms           540  \n",
      "                                        cudaMemsetAsync         4.25%        1.787s         4.25%        1.787s       2.482ms       0.000us         0.00%       0.000us       0.000us           720  \n",
      "                                             aten::mul_         0.01%       2.654ms         2.81%        1.180s       2.186ms        1.255s         3.03%        1.255s       2.323ms           540  \n",
      "                                      aten::linalg_norm         0.00%     572.010us         2.68%        1.129s       6.271ms       0.000us         0.00%     602.120ms       3.345ms           180  \n",
      "                               aten::linalg_vector_norm         0.01%       3.270ms         2.68%        1.128s       6.268ms     602.120ms         1.45%     602.120ms       3.345ms           180  \n",
      "                                      aten::reciprocal_         0.00%       1.692ms         1.82%     767.260ms       4.263ms     310.811ms         0.75%     310.811ms       1.727ms           180  \n",
      "                                             cudaMalloc         1.58%     663.782ms         1.58%     663.782ms      15.437ms       0.000us         0.00%       0.000us       0.000us            43  \n",
      "                                              aten::neg         0.03%      13.661ms         1.20%     506.624ms       2.815ms     413.877us         0.00%     413.877us       2.299us           180  \n",
      "                                         cuLaunchKernel         1.17%     493.606ms         1.17%     493.606ms       1.371ms       0.000us         0.00%       0.000us       0.000us           360  \n",
      "                                              aten::pow         0.01%       2.365ms         0.64%     267.489ms       1.486ms     368.234us         0.00%     368.234us       2.046us           180  \n",
      "                                    aten::empty_strided         0.01%       3.184ms         0.34%     140.964ms     180.724us       0.000us         0.00%       0.000us       0.000us           780  \n",
      "                                              aten::exp         0.01%       4.195ms         0.22%      94.033ms     522.404us        1.715s         4.14%        1.715s       9.526ms           180  \n",
      "                                  cudaDeviceSynchronize         0.18%      73.709ms         0.19%      79.293ms      15.859ms       1.760us         0.00%      12.320us       2.464us             5  \n",
      "                                              aten::cat         0.00%     161.165us         0.10%      40.433ms      10.108ms      71.135us         0.00%      71.135us      17.784us             4  \n",
      "                                            aten::cross         0.00%     438.877us         0.07%      30.590ms     169.946us       0.000us         0.00%        2.827s      15.705ms           180  \n",
      "                                     aten::linalg_cross         0.01%       2.663ms         0.07%      30.151ms     167.507us        2.827s         6.82%        2.827s      15.705ms           180  \n",
      "                                               Resource         0.01%       5.549ms         0.01%       5.549ms       1.387ms       7.040us         0.00%       7.040us       1.760us             4  \n",
      "                                            aten::zeros         0.00%      35.820us         0.01%       5.028ms     838.052us       0.000us         0.00%      11.518us       1.920us             6  \n",
      "                                            aten::zero_         0.00%      17.348us         0.01%       4.757ms     792.874us       0.000us         0.00%      11.518us       1.920us             6  \n",
      "                                            aten::fill_         0.00%      48.674us         0.01%       4.740ms     789.983us      11.518us         0.00%      11.518us       1.920us             6  \n",
      "                                            aten::slice         0.01%       2.274ms         0.01%       2.655ms       4.862us       0.000us         0.00%       0.000us       0.000us           546  \n",
      "                                       aten::reciprocal         0.00%       1.659ms         0.01%       2.322ms      12.902us     424.162us         0.00%     424.162us       2.356us           180  \n",
      "                                       aten::as_strided         0.00%       1.306ms         0.00%       1.306ms       0.800us       0.000us         0.00%       0.000us       0.000us          1632  \n",
      "                                     cudaGetDeviceCount         0.00%       1.177ms         0.00%       1.177ms     588.273us       0.000us         0.00%       0.000us       0.000us             2  \n",
      "                                           aten::expand         0.00%     723.298us         0.00%       1.082ms       3.006us       0.000us         0.00%       0.000us       0.000us           360  \n",
      "                                            aten::stack         0.00%      23.644us         0.00%     880.585us     440.292us       0.000us         0.00%      60.895us      30.448us             2  \n",
      "                                  cudaStreamSynchronize         0.00%     415.460us         0.00%     415.460us      12.983us       0.000us         0.00%       0.000us       0.000us            32  \n",
      "                                            aten::empty         0.00%      97.877us         0.00%     243.277us      24.328us       0.000us         0.00%       0.000us       0.000us            10  \n",
      "                                  cudaStreamIsCapturing         0.00%     124.455us         0.00%     124.455us       2.894us       0.000us         0.00%       0.000us       0.000us            43  \n",
      "                                      aten::result_type         0.00%     122.223us         0.00%     122.223us       0.679us       0.000us         0.00%       0.000us       0.000us           180  \n",
      "                                           Buffer Flush         0.00%      61.234us         0.00%      61.234us      30.617us      15.490ms         0.04%      15.490ms       7.745ms             2  \n",
      "                                cudaGetDeviceProperties         0.00%      56.501us         0.00%      56.501us      56.501us       0.000us         0.00%       0.000us       0.000us             1  \n",
      "                                           aten::detach         0.00%      16.442us         0.00%      37.747us       2.097us       0.000us         0.00%       0.000us       0.000us            18  \n",
      "                                        Instrumentation         0.00%      34.943us         0.00%      34.943us      17.471us       3.520us         0.00%       3.520us       1.760us             2  \n",
      "                                          aten::detach_         0.00%      18.857us         0.00%      29.402us       1.633us       0.000us         0.00%       0.000us       0.000us            18  \n",
      "                                           aten::select         0.00%      20.747us         0.00%      26.679us       4.447us       0.000us         0.00%       0.000us       0.000us             6  \n",
      "                                            aten::ravel         0.00%      11.371us         0.00%      25.575us       4.263us       0.000us         0.00%       0.000us       0.000us             6  \n",
      "                                                 detach         0.00%      21.305us         0.00%      21.305us       1.184us       0.000us         0.00%       0.000us       0.000us            18  \n",
      "                                             aten::view         0.00%      18.164us         0.00%      18.164us       1.816us       0.000us         0.00%       0.000us       0.000us            10  \n",
      "                                       aten::lift_fresh         0.00%      11.169us         0.00%      11.169us       0.621us       0.000us         0.00%       0.000us       0.000us            18  \n",
      "                                                detach_         0.00%      10.545us         0.00%      10.545us       0.586us       0.000us         0.00%       0.000us       0.000us            18  \n",
      "                       cudaDeviceGetStreamPriorityRange         0.00%       4.066us         0.00%       4.066us       4.066us       0.000us         0.00%       0.000us       0.000us             1  \n",
      "                                          aten::reshape         0.00%       1.594us         0.00%       3.745us       1.872us       0.000us         0.00%       0.000us       0.000us             2  \n",
      "                                     aten::resolve_conj         0.00%       1.663us         0.00%       1.663us       0.092us       0.000us         0.00%       0.000us       0.000us            18  \n",
      "                                      aten::resolve_neg         0.00%       0.825us         0.00%       0.825us       0.046us       0.000us         0.00%       0.000us       0.000us            18  \n",
      "void at::native::vectorized_elementwise_kernel<4, at...         0.00%       0.000us         0.00%       0.000us       0.000us      11.518us         0.00%      11.518us       1.920us             6  \n",
      "                       Memcpy HtoD (Pageable -> Device)         0.00%       0.000us         0.00%       0.000us       0.000us       7.404ms         0.02%       7.404ms     462.780us            16  \n",
      "                         Memcpy DtoD (Device -> Device)         0.00%       0.000us         0.00%       0.000us       0.000us     957.310ms         2.31%     957.310ms       1.741ms           550  \n",
      "void at::native::vectorized_elementwise_kernel<4, at...         0.00%       0.000us         0.00%       0.000us       0.000us     937.214ms         2.26%     937.214ms       2.596ms           361  \n",
      "void at::native::(anonymous namespace)::CatArrayBatc...         0.00%       0.000us         0.00%       0.000us       0.000us      60.895us         0.00%      60.895us      30.448us             2  \n",
      "void at::native::elementwise_kernel<128, 2, at::nati...         0.00%       0.000us         0.00%       0.000us       0.000us     430.632ms         1.04%     430.632ms       2.392ms           180  \n",
      "void at::native::reduce_kernel<512, 1, at::native::R...         0.00%       0.000us         0.00%       0.000us       0.000us     599.923ms         1.45%     599.923ms       3.352ms           179  \n",
      "void at::native::elementwise_kernel<128, 2, at::nati...         0.00%       0.000us         0.00%       0.000us       0.000us        1.406s         3.39%        1.406s       7.813ms           180  \n",
      "void at::native::vectorized_elementwise_kernel<4, at...         0.00%       0.000us         0.00%       0.000us       0.000us     310.811ms         0.75%     310.811ms       1.727ms           180  \n",
      "void at::native::vectorized_elementwise_kernel<4, at...         0.00%       0.000us         0.00%       0.000us       0.000us     424.162us         0.00%     424.162us       2.356us           180  \n",
      "void at::native::vectorized_elementwise_kernel<4, at...         0.00%       0.000us         0.00%       0.000us       0.000us     345.888us         0.00%     345.888us       1.922us           180  \n",
      "void at::native::elementwise_kernel<128, 4, at::nati...         0.00%       0.000us         0.00%       0.000us       0.000us     317.322ms         0.77%     317.322ms       1.763ms           180  \n",
      "                          neg_kernel_vectorized4_kernel         0.00%       0.000us         0.00%       0.000us       0.000us     413.877us         0.00%     413.877us       2.299us           180  \n",
      "void at::native::unrolled_elementwise_kernel<at::nat...         0.00%       0.000us         0.00%       0.000us       0.000us     870.473us         0.00%     870.473us       2.418us           360  \n",
      "void at::native::elementwise_kernel<128, 4, at::nati...         0.00%       0.000us         0.00%       0.000us       0.000us        6.916s        16.69%        6.916s       3.202ms          2160  \n",
      "                          exp_kernel_vectorized4_kernel         0.00%       0.000us         0.00%       0.000us       0.000us        1.715s         4.14%        1.715s       9.526ms           180  \n",
      "void at::native::vectorized_elementwise_kernel<4, at...         0.00%       0.000us         0.00%       0.000us       0.000us     368.234us         0.00%     368.234us       2.046us           180  \n",
      "void at::native::unrolled_elementwise_kernel<at::nat...         0.00%       0.000us         0.00%       0.000us       0.000us        3.145s         7.59%        3.145s       4.380ms           718  \n",
      "void at::native::vectorized_elementwise_kernel<4, at...         0.00%       0.000us         0.00%       0.000us       0.000us     603.461ms         1.46%     603.461ms       3.353ms           180  \n",
      "void at::native::vectorized_elementwise_kernel<4, at...         0.00%       0.000us         0.00%       0.000us       0.000us        3.564s         8.60%        3.564s       4.950ms           720  \n",
      "void at::native::unrolled_elementwise_kernel<at::nat...         0.00%       0.000us         0.00%       0.000us       0.000us        1.419s         3.43%        1.419s       3.943ms           360  \n",
      "void at::native::cross_kernel<c10::complex<double>, ...         0.00%       0.000us         0.00%       0.000us       0.000us        2.827s         6.82%        2.827s      15.705ms           180  \n",
      "void at::native::unrolled_elementwise_kernel<at::nat...         0.00%       0.000us         0.00%       0.000us       0.000us        1.858s         4.48%        1.858s       5.189ms           358  \n",
      "void at::native::vectorized_elementwise_kernel<2, at...         0.00%       0.000us         0.00%       0.000us       0.000us        1.815s         4.38%        1.815s       5.070ms           358  \n",
      "                                        Memset (Device)         0.00%       0.000us         0.00%       0.000us       0.000us     483.794us         0.00%     483.794us       0.672us           720  \n",
      "void at::native::reduce_kernel<256, 1, at::native::R...         0.00%       0.000us         0.00%       0.000us       0.000us        4.254s        10.27%        4.254s       3.384ms          1257  \n",
      "void at::native::elementwise_kernel<128, 4, at::nati...         0.00%       0.000us         0.00%       0.000us       0.000us     978.168us         0.00%     978.168us       5.434us           180  \n",
      "void at::native::vectorized_elementwise_kernel<4, at...         0.00%       0.000us         0.00%       0.000us       0.000us     927.976ms         2.24%     927.976ms       2.578ms           360  \n",
      "void at::native::unrolled_elementwise_kernel<at::nat...         0.00%       0.000us         0.00%       0.000us       0.000us        1.594s         3.85%        1.594s       4.427ms           360  \n",
      "void at::native::elementwise_kernel<128, 2, at::nati...         0.00%       0.000us         0.00%       0.000us       0.000us        2.448s         5.91%        2.448s       4.525ms           541  \n",
      "void at::native::vectorized_elementwise_kernel<4, at...         0.00%       0.000us         0.00%       0.000us       0.000us     619.898ms         1.50%     619.898ms       1.722ms           360  \n",
      "void at::native::vectorized_elementwise_kernel<4, at...         0.00%       0.000us         0.00%       0.000us       0.000us        1.347s         3.25%        1.347s       7.486ms           180  \n",
      "void at::native::unrolled_elementwise_kernel<at::nat...         0.00%       0.000us         0.00%       0.000us       0.000us        1.388s         3.35%        1.388s       7.709ms           180  \n",
      "void at::native::unrolled_elementwise_kernel<at::nat...         0.00%       0.000us         0.00%       0.000us       0.000us     516.092us         0.00%     516.092us       2.867us           180  \n",
      "void at::native::reduce_kernel<256, 2, at::native::R...         0.00%       0.000us         0.00%       0.000us       0.000us       2.197ms         0.01%       2.197ms       2.197ms             1  \n",
      "void at::native::reduce_kernel<128, 2, at::native::R...         0.00%       0.000us         0.00%       0.000us       0.000us       6.672ms         0.02%       6.672ms       3.336ms             2  \n",
      "void at::native::(anonymous namespace)::CatArrayBatc...         0.00%       0.000us         0.00%       0.000us       0.000us      10.240us         0.00%      10.240us       2.560us             4  \n",
      "                       Memcpy DtoH (Device -> Pageable)         0.00%       0.000us         0.00%       0.000us       0.000us       3.636ms         0.01%       3.636ms     227.269us            16  \n",
      "-------------------------------------------------------  ------------  ------------  ------------  ------------  ------------  ------------  ------------  ------------  ------------  ------------  \n",
      "Self CPU time total: 42.064s\n",
      "Self CUDA time total: 41.425s\n",
      "\n"
     ]
    }
   ],
   "source": [
    "#N1 =[760,1880]\n",
    "#N2 = [480,2160]\n",
    "N1 =[720,2160]\n",
    "N2 = [350,2240]\n",
    "\n",
    "N1 =[720,2160]\n",
    "N2 = [150,124]\n",
    "\n",
    "torch.set_num_threads(1)\n",
    "torch._dynamo.config.suppress_errors = True\n",
    "# Profile the PO_GPU function\n",
    "with torch.profiler.profile(\n",
    "   activities=[\n",
    "         torch.profiler.ProfilerActivity.CPU,\n",
    "         torch.profiler.ProfilerActivity.CUDA\n",
    "   ],\n",
    "   on_trace_ready=torch.profiler.tensorboard_trace_handler('./log'),\n",
    "   record_shapes=True,\n",
    "   with_stack=True,use_cuda=True\n",
    ") as prof:\n",
    "   # Run the function you want to profile\n",
    "   torch.cuda.synchronize()\n",
    "   L3.PO_analysis(#[400,1,400,1],\n",
    "               [1,N1[0],N1[1],1],\n",
    "               [1,N2[0],N2[1],1],\n",
    "               #[5,N2[0],N2[1],1],\n",
    "            feed,k,\n",
    "            sampling_type_f1='polar',\n",
    "            phi_type_f1 = 'less',\n",
    "            sampling_type_f2='polar',\n",
    "            phi_type_f2 = 'less',\n",
    "            po_name = '_po_cur_0mm.h5',\n",
    "            Method ='POPO')\n",
    "\n",
    "   # Print profiling results\n",
    "print('****************')\n",
    "print(prof.key_averages().table(sort_by=\"cuda_time_total\", row_limit=10))\n",
    "print(prof.key_averages().table(sort_by=\"cpu_time_total\"))\n",
    "\n"
   ]
  },
  {
   "cell_type": "code",
   "execution_count": 8,
   "id": "87f2354a",
   "metadata": {},
   "outputs": [
    {
     "ename": "NameError",
     "evalue": "name 'printt' is not defined",
     "output_type": "error",
     "traceback": [
      "\u001b[0;31m---------------------------------------------------------------------------\u001b[0m",
      "\u001b[0;31mNameError\u001b[0m                                 Traceback (most recent call last)",
      "Cell \u001b[0;32mIn[8], line 1\u001b[0m\n\u001b[0;32m----> 1\u001b[0m \u001b[43mprintt\u001b[49m\n",
      "\u001b[0;31mNameError\u001b[0m: name 'printt' is not defined"
     ]
    }
   ],
   "source": [
    "printt\n"
   ]
  },
  {
   "cell_type": "code",
   "execution_count": null,
   "id": "1d52ec46",
   "metadata": {},
   "outputs": [],
   "source": [
    "N1 =[2960 ,2440]\n",
    "N2 = [620,640]\n",
    "L2.PO_analysis(#[400,1,400,1],\n",
    "               [1,N1[0],N1[1],1],\n",
    "               [1,N2[0],N2[1],1],\n",
    "               #[5,N2[0],N2[1],1],\n",
    "            L3,k,\n",
    "            sampling_type_f1='polar',\n",
    "            phi_type_f1 = 'less',\n",
    "            sampling_type_f2='polar',\n",
    "            phi_type_f2 = 'less',\n",
    "            po_name = '_po_cur_0mm.h5',\n",
    "            Method ='POPO')\n"
   ]
  },
  {
   "cell_type": "code",
   "execution_count": null,
   "id": "0fa59c3d",
   "metadata": {},
   "outputs": [],
   "source": [
    "N1 =[680,2360]\n",
    "N2 = [610,305]\n",
    "L1.PO_analysis(#[400,1,400,1],\n",
    "               [1,N1[0],N1[1],1],\n",
    "               [1,N2[0],N2[1],1],\n",
    "               #[5,N2[0],N2[1],1],\n",
    "            L2,k,\n",
    "            sampling_type_f1='polar',\n",
    "            phi_type_f1 = 'less',\n",
    "            sampling_type_f2='polar',\n",
    "            phi_type_f2 = 'less',\n",
    "            po_name = '_po_cur_0mm.h5',\n",
    "            Method ='POPO')\n"
   ]
  },
  {
   "cell_type": "code",
   "execution_count": null,
   "id": "684a09e3",
   "metadata": {},
   "outputs": [],
   "source": []
  },
  {
   "cell_type": "code",
   "execution_count": null,
   "id": "5430f1b1-ca7d-4231-affb-816c4c70bf7a",
   "metadata": {},
   "outputs": [],
   "source": [
    "center_grd.grid.x = center_grd.grid.x.ravel()\n",
    "center_grd.grid.y = center_grd.grid.y.ravel()\n",
    "center_grd.grid.z = center_grd.grid.z.ravel()\n",
    "print(center_grd.grid.z.size)\n"
   ]
  },
  {
   "cell_type": "code",
   "execution_count": null,
   "id": "b030e8ed-2655-4dd4-ab99-158497024c3b",
   "metadata": {
    "scrolled": true
   },
   "outputs": [],
   "source": [
    "L1.source(center_grd,\n",
    "          k,\n",
    "          far_near = 'far')\n"
   ]
  },
  {
   "cell_type": "code",
   "execution_count": null,
   "id": "fbedef97-a3bb-4f4d-8f63-a5238db640e0",
   "metadata": {},
   "outputs": [],
   "source": [
    "r, theta, phi = center_grd.coord_sys._toSpherical(center_grd.grid.x,center_grd.grid.y,center_grd.grid.z)\n",
    "co,cx,crho = CO(theta,phi)\n",
    "E_co = dotproduct(center_grd.E,co)\n",
    "E_cx = dotproduct(center_grd.E,cx)\n"
   ]
  },
  {
   "cell_type": "code",
   "execution_count": null,
   "id": "9b084722-7a92-4bfe-bf33-d7793b7aacab",
   "metadata": {},
   "outputs": [],
   "source": [
    "fig = plt.figure(figsize = (7,6))\n",
    "vmax= np.log10(np.abs(E_co.reshape(501,-1)).max())*20\n",
    "plt.pcolor(np.log10(np.abs(E_co.reshape(501,-1)))*20,vmax = vmax, vmin = vmax-50)\n",
    "plt.colorbar()\n"
   ]
  },
  {
   "cell_type": "code",
   "execution_count": null,
   "id": "708b23e9",
   "metadata": {},
   "outputs": [],
   "source": [
    "fig = plt.figure(figsize = (7,6))\n",
    "plt.pcolor(np.log10(np.abs(E_cx.reshape(501,-1)))*20,vmax = vmax-40, vmin = vmax-70)\n",
    "plt.colorbar()\n"
   ]
  },
  {
   "cell_type": "code",
   "execution_count": null,
   "id": "1f86aa24-9dc6-4924-8f41-bf13e04aa368",
   "metadata": {},
   "outputs": [],
   "source": [
    "import h5py as h5\n",
    "def readh5(fname):\n",
    "    name = fname.split('.')\n",
    "    with h5.File(name[0]+'.h5','r') as f:\n",
    "        co = f['co-polar'][:,:]\n",
    "        cx = f['cx-polar'][:,:]\n",
    "        Az = f['Az'][:]\n",
    "        El = f['El'][:]\n",
    "    return Az, El, co, cx\n"
   ]
  },
  {
   "cell_type": "code",
   "execution_count": null,
   "id": "bbc5940a-e90c-4de5-8c7f-c4e4c1b48255",
   "metadata": {},
   "outputs": [],
   "source": [
    "Az, El, grasp_co,grasp_cx = readh5('output2/150GHz/150GHz_test/_H5/_x90_y0GHz.h5')\n"
   ]
  },
  {
   "cell_type": "code",
   "execution_count": null,
   "id": "6b07a328-bce7-4bbb-aab2-0a34a3430647",
   "metadata": {},
   "outputs": [],
   "source": [
    "fig = plt.figure(figsize = (7,6))\n",
    "plt.pcolor(np.log10(np.abs(grasp_co.reshape(501,-1)))*20,vmax = vmax-40, vmin = vmax-70)\n",
    "plt.colorbar()\n"
   ]
  },
  {
   "cell_type": "code",
   "execution_count": null,
   "id": "31e138bb-5cb8-4daa-b33a-5397cb0691ac",
   "metadata": {},
   "outputs": [],
   "source": [
    "fig = plt.figure(figsize = (7,6))\n",
    "plt.pcolor(np.log10(np.abs(grasp_cx.reshape(501,-1)))*20,vmax = vmax-40, vmin = vmax-70)\n",
    "plt.colorbar()\n"
   ]
  },
  {
   "cell_type": "code",
   "execution_count": null,
   "id": "3a48100b-6d55-4c35-ad7c-84b312dd0d00",
   "metadata": {},
   "outputs": [],
   "source": [
    "fig  =  plt.figure(figsize= (10,6))\n",
    "plt.plot(np.log10(np.abs(grasp_co.reshape(501,-1)[250,:])/np.abs(grasp_co.reshape(501,-1)[250,:]).max())*20,'k-')\n",
    "plt.plot(np.log10(np.abs(E_co.reshape(501,-1)[250,:])/np.abs(E_co.reshape(501,-1)[250,:]).max())*20,'-')\n"
   ]
  },
  {
   "cell_type": "code",
   "execution_count": null,
   "id": "1974bd54-2132-488e-9e4e-2aabcd84caae",
   "metadata": {},
   "outputs": [],
   "source": [
    "fig  =  plt.figure(figsize= (10,6))\n",
    "plt.plot(np.log10(np.abs(grasp_co.reshape(501,-1)[250,:]))*20,'k-')\n",
    "plt.plot(np.log10(np.abs(E_co.reshape(501,-1)[250,:])**2)*10,'-')\n"
   ]
  },
  {
   "cell_type": "code",
   "execution_count": null,
   "id": "f155c057-599a-4003-961e-8b19449145de",
   "metadata": {},
   "outputs": [],
   "source": [
    "fig  =  plt.figure(figsize= (10,6))\n",
    "plt.plot(np.angle(grasp_co.reshape(501,-1)[250,:]/np.abs(grasp_co.reshape(501,-1)[250,:]).max()),'k-')\n",
    "plt.plot(np.angle(E_co.reshape(501,-1)[250,:]/np.abs(E_co.reshape(501,-1)[250,:]).max()),'-')\n"
   ]
  },
  {
   "cell_type": "code",
   "execution_count": null,
   "id": "e2ac64f3-90a6-4133-8aba-86bb519ba8f7",
   "metadata": {},
   "outputs": [],
   "source": [
    "fig  =  plt.figure(figsize= (10,6))\n",
    "plt.plot(np.log10(np.abs(grasp_co.reshape(501,-1)[250,:]))*20,'k-')\n",
    "plt.plot(np.log10(np.abs(E_co.reshape(501,-1)[250,:])**2)*10,'-')\n"
   ]
  },
  {
   "cell_type": "code",
   "execution_count": null,
   "id": "475fb48c-bbe4-4427-b658-89cdab575b2c",
   "metadata": {},
   "outputs": [],
   "source": [
    "G_co = grasp_co.reshape(501,-1)/grasp_co.reshape(501,-1)[250,250]\n",
    "H_co = E_co.reshape(501,-1)/E_co.reshape(501,-1)[250,250]\n",
    "err = H_co-G_co\n"
   ]
  },
  {
   "cell_type": "code",
   "execution_count": null,
   "id": "0640f733-cc9f-46c6-9326-ecee6f88151d",
   "metadata": {},
   "outputs": [],
   "source": [
    "fig = plt.figure(figsize=(5,5))\n",
    "plt.pcolor(np.abs(err))\n",
    "plt.colorbar()\n"
   ]
  },
  {
   "cell_type": "code",
   "execution_count": null,
   "id": "952e9e41-9ba6-4012-8681-f6d3f146f007",
   "metadata": {},
   "outputs": [],
   "source": [
    "fig  =  plt.figure(figsize= (10,6))\n",
    "plt.plot(Az,np.log10(np.abs(grasp_co.reshape(501,-1)[250,:]))*20,'k-')\n"
   ]
  },
  {
   "cell_type": "code",
   "execution_count": null,
   "id": "0f0a2014-7c13-40c8-8ae4-746d0ab85408",
   "metadata": {},
   "outputs": [],
   "source": [
    "fig  =  plt.figure(figsize= (10,6))\n",
    "plt.plot(Az,np.log10(np.abs(np.diagonal(grasp_cx.reshape(501,-1))))*20,'k-')\n",
    "plt.plot(Az,np.log10(np.abs(np.diagonal(center_grd.E.y.reshape(501,-1))))*20,'-')\n",
    "plt.ylim([0,10])\n",
    "plt.xlim(-1,1)\n"
   ]
  },
  {
   "cell_type": "code",
   "execution_count": null,
   "id": "ed4a3ff9-7266-4ba6-abbb-5957e8d3de35",
   "metadata": {},
   "outputs": [],
   "source": [
    "L_lensFp_3   = 7.177590111674096\n",
    "L_lens3_2    = 15.586806616226909\n",
    "L_lens2_1    = 57.632802785493645\n",
    "L_lens1_Lyot = 1.162050628144469\n",
    "L_Ly_vw      = 22.7114\n",
    "\n",
    "L_lens1_ref = L_lensFp_3 + L_lens3_2 + L_lens2_1\n",
    "L_lens2_ref = L_lensFp_3 + L_lens3_2\n",
    "L_lens3_ref = L_lensFp_3 \n",
    "L_Ly_ref = L_lens1_ref + L_lens1_Lyot\n",
    "L_vw_ref = L_Ly_ref + L_Ly_vw\n"
   ]
  },
  {
   "cell_type": "code",
   "execution_count": null,
   "id": "4f405b0a",
   "metadata": {},
   "outputs": [],
   "source": [
    "print(L_lens1_ref*10)\n",
    "print(L_lens2_ref*10)\n",
    "print(L_lens3_ref*10)\n"
   ]
  },
  {
   "cell_type": "code",
   "execution_count": null,
   "id": "7e7e6fe1",
   "metadata": {},
   "outputs": [],
   "source": [
    "Az.size\n"
   ]
  },
  {
   "cell_type": "code",
   "execution_count": null,
   "id": "55d84180",
   "metadata": {},
   "outputs": [],
   "source": [
    "import torch\n",
    "\n",
    "# Define a simple function\n",
    "def my_function(x):\n",
    "    return torch.sin(x) + torch.cos(x)\n",
    "\n",
    "# Convert to TorchScript using tracing\n",
    "x = torch.randn(100000, 10)\n",
    "traced_function = torch.jit.trace(my_function,X)\n",
    "\n"
   ]
  },
  {
   "cell_type": "code",
   "execution_count": null,
   "id": "4cfccf5a",
   "metadata": {},
   "outputs": [],
   "source": [
    "# Test speed\n",
    "for i in range(10000):\n",
    "    traced_function(x)\n"
   ]
  },
  {
   "cell_type": "code",
   "execution_count": null,
   "id": "7c30934f",
   "metadata": {},
   "outputs": [],
   "source": [
    "for i in range(10000):\n",
    "    my_function(x)\n"
   ]
  },
  {
   "cell_type": "code",
   "execution_count": null,
   "id": "59ece7a3",
   "metadata": {},
   "outputs": [],
   "source": [
    "import h5py as h5\n",
    "\n",
    "with h5.File(outputfolder+'L3_po_cur_0mm.h5','r') as f:\n",
    "    Ex0 = f['f2/Ex'][:]\n",
    "    Ey0 = f['f2/Ey'][:]\n",
    "    Ez0 = f['f2/Ez'][:]\n",
    "    Hx0 = f['f2/Hx'][:]\n",
    "    Hy0 = f['f2/Hy'][:]\n",
    "    Hz0 = f['f2/Hz'][:]\n",
    "    T0 = f['f2/T'][:]\n",
    "with h5.File(outputfolder+'L3_po_cur_0mm_2.h5','r') as f:\n",
    "    Ex2 = f['f2/Ex'][:]\n",
    "    Ey2 = f['f2/Ey'][:]\n",
    "    Ez2 = f['f2/Ez'][:]\n",
    "    Hx2 = f['f2/Hx'][:]\n",
    "    Hy2 = f['f2/Hy'][:]\n",
    "    Hz2 = f['f2/Hz'][:]\n",
    "    T2 = f['f2/T'][:]\n",
    "print(np.abs(Ex0 - Ex2).max())\n",
    "print(np.abs(Ey0 - Ey2).max())\n",
    "print(np.abs(Ez0 - Ez2).max())\n",
    "print(np.abs(Hx0 - Hx2).max())\n",
    "print(np.abs(Hx0 - Hy2).max())\n",
    "print(np.abs(Hx0 - Hz2).max())\n",
    "print(np.abs(T0 - T2).max())\n"
   ]
  },
  {
   "cell_type": "code",
   "execution_count": null,
   "id": "f7f91242",
   "metadata": {},
   "outputs": [],
   "source": [
    "import torch as T\n"
   ]
  },
  {
   "cell_type": "code",
   "execution_count": null,
   "id": "310ba90d",
   "metadata": {},
   "outputs": [],
   "source": [
    "a = T.tensor([100,200.0]).to(T.device('cuda'))\n"
   ]
  },
  {
   "cell_type": "code",
   "execution_count": null,
   "id": "ce84d5de",
   "metadata": {},
   "outputs": [],
   "source": [
    "a.mul_(a)\n"
   ]
  },
  {
   "cell_type": "code",
   "execution_count": null,
   "id": "c9152e69",
   "metadata": {},
   "outputs": [],
   "source": [
    "a\n"
   ]
  },
  {
   "cell_type": "code",
   "execution_count": null,
   "id": "275a5ad6",
   "metadata": {},
   "outputs": [],
   "source": [
    "a = T.tensor([100,200.0]).to(T.device('cuda'))\n",
    "for i in range(1000000):\n",
    "    b = a**2\n"
   ]
  },
  {
   "cell_type": "code",
   "execution_count": null,
   "id": "084ade8d",
   "metadata": {},
   "outputs": [],
   "source": [
    "a = T.tensor([100,200.0]).to(T.device('cuda'))\n",
    "for i in range(1000000):\n",
    "    b = a.mul_(a)\n"
   ]
  },
  {
   "cell_type": "code",
   "execution_count": null,
   "id": "d6be3819",
   "metadata": {},
   "outputs": [],
   "source": [
    "a\n"
   ]
  },
  {
   "cell_type": "code",
   "execution_count": null,
   "id": "6251373e",
   "metadata": {},
   "outputs": [],
   "source": []
  }
 ],
 "metadata": {
  "kernelspec": {
   "display_name": "ccatholo",
   "language": "python",
   "name": "python3"
  },
  "language_info": {
   "codemirror_mode": {
    "name": "ipython",
    "version": 3
   },
   "file_extension": ".py",
   "mimetype": "text/x-python",
   "name": "python",
   "nbconvert_exporter": "python",
   "pygments_lexer": "ipython3",
   "version": "3.9.21"
  }
 },
 "nbformat": 4,
 "nbformat_minor": 5
}
