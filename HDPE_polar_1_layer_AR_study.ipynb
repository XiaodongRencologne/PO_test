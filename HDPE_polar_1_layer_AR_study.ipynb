{
 "cells": [
  {
   "cell_type": "code",
   "execution_count": null,
   "metadata": {},
   "outputs": [],
   "source": [
    "from twolenspy.HDPE_lens import HDEP_2lens\n",
    "import h5py as h5\n",
    "import numpy as np\n",
    "import matplotlib.pyplot as plt\n"
   ]
  },
  {
   "cell_type": "code",
   "execution_count": null,
   "metadata": {},
   "outputs": [],
   "source": [
    "PO_sampling_file = 'twolenspy/HDPE_PO_points.h5'\n"
   ]
  },
  {
   "cell_type": "markdown",
   "metadata": {},
   "source": [
    "## Using uniform sampling to study the polarizaiton rotation at 45deg"
   ]
  },
  {
   "cell_type": "code",
   "execution_count": null,
   "metadata": {},
   "outputs": [],
   "source": [
    "dx_list = [20,40,60,80,100,120]\n",
    "angle_list = [0,15,30,45,60,75,90,105,120,135,150,165]\n",
    "freq_list = [120,150]\n",
    "for freq in freq_list:\n",
    "    factor = 1.0\n",
    "    if freq < 90:\n",
    "        freq_check = 90\n",
    "    elif freq < 120:\n",
    "        freq_check = 120\n",
    "    elif freq < 150:\n",
    "        freq_check = 150\n",
    "    elif freq >150:\n",
    "        freq_check = 150\n",
    "        factor = 2\n",
    "    for angle in angle_list:\n",
    "        for item in dx_list:\n",
    "            print(freq, angle,item)\n",
    "            with h5.File(PO_sampling_file,'r') as f:\n",
    "                PO_no = f[str(freq_check)+'GHz'][str(item)][str(45)]['POpoints'][:]\n",
    "\n",
    "            Model1 = HDEP_2lens(freq,\n",
    "                        feedpos = [item,0,0],\n",
    "                        feedrot = [0,0,angle],\n",
    "                        AR_file = 'AR_LIB/HDPE_ARC.h5',\n",
    "                        groupname= str(freq)+'GHz',\n",
    "                        outputfolder = '../Data/HDPE/AR/'+str(freq)+'GHz/',\n",
    "                        grid_sizex = 0.2,\n",
    "                        grid_sizey = 0.2)\n",
    "            \n",
    "            Model1.run_po(PO_no[0:2],\n",
    "                          PO_no[2:4],\n",
    "                        sampling_type = 'less')\n",
    "# 120GHz, 0mm, 135 missing\n"
   ]
  },
  {
   "cell_type": "code",
   "execution_count": null,
   "metadata": {},
   "outputs": [],
   "source": [
    "dx_list = [40,60,80,100,120] #[0,20,]\n",
    "angle_list = [45]#[0,15,30,45,60,75,90,105,120,135,150,165]\n",
    "freq_list = [155,160,165,170]\n",
    "for freq in freq_list:\n",
    "    for angle in angle_list:\n",
    "        for item in dx_list:\n",
    "            print(freq, angle,item)\n",
    "            freq_check = 150\n",
    "            with h5.File(PO_sampling_file,'r') as f:\n",
    "                PO_no = f[str(freq_check)+'GHz'][str(item)][str(angle)]['POpoints'][:]\n",
    "\n",
    "            Model1 = HDEP_2lens(freq,\n",
    "                        feedpos = [item,0,0],\n",
    "                        feedrot = [0,0,angle],\n",
    "                        AR_file = 'AR_LIB/HDPE_ARC.h5',\n",
    "                        groupname= str(freq)+'GHz',\n",
    "                        outputfolder = '../Data/HDPE/AR/'+str(freq)+'GHz/')\n",
    "            factor = 2            \n",
    "            PO_No = np.array(PO_no,dtype = np.int32)*factor\n",
    "            PO_No = PO_No.tolist()\n",
    "            Model1.run_po(PO_No[0:2],\n",
    "                          PO_No[2:4],\n",
    "                        sampling_type = 'less')\n"
   ]
  },
  {
   "cell_type": "code",
   "execution_count": null,
   "metadata": {},
   "outputs": [],
   "source": [
    "dx_list = [0,20]#[40,60,80,100,120] #\n",
    "angle_list = [45]#[0,15,30,45,60,75,90,105,120,135,150,165]\n",
    "freq_list = [160,165,170]#[155,160,165,170]\n",
    "for freq in freq_list:\n",
    "    for angle in angle_list:\n",
    "        for item in dx_list:\n",
    "            print(freq, angle,item)\n",
    "            freq_check = 150\n",
    "            with h5.File(PO_sampling_file,'r') as f:\n",
    "                PO_no = f[str(freq_check)+'GHz'][str(item)][str(angle)]['POpoints'][:]\n",
    "\n",
    "            Model1 = HDEP_2lens(freq,\n",
    "                        feedpos = [item,0,0],\n",
    "                        feedrot = [0,0,angle],\n",
    "                        AR_file = 'AR_LIB/HDPE_ARC.h5',\n",
    "                        groupname= str(freq)+'GHz',\n",
    "                        outputfolder = '../Data/HDPE/AR/'+str(freq)+'GHz/')\n",
    "            factor = 2            \n",
    "            PO_No = np.array(PO_no,dtype = np.int32)*factor\n",
    "            PO_No = PO_No.tolist()\n",
    "            Model1.run_po(PO_No[0:2],\n",
    "                          PO_No[2:4],\n",
    "                        sampling_type = 'less')\n",
    "\n"
   ]
  },
  {
   "cell_type": "markdown",
   "metadata": {},
   "source": [
    "150GHz: Lens3 2.5 2.5, lens2 3.5,2.5, lens1 3.5 2.5"
   ]
  },
  {
   "cell_type": "code",
   "execution_count": null,
   "metadata": {},
   "outputs": [],
   "source": [
    "dx_list = [20,40,60,80,100,120] \n",
    "angle_list = [0,90]#[0,15,30,45,60,75,90,105,120,135,150,165]\n",
    "freq_list = [155,160,165,170]\n",
    "for freq in freq_list:\n",
    "    for angle in angle_list:\n",
    "        for item in dx_list:\n",
    "            print(freq, angle,item)\n",
    "            freq_check = 150\n",
    "            with h5.File(PO_sampling_file,'r') as f:\n",
    "                PO_no = f[str(freq_check)+'GHz'][str(item)][str(angle)]['POpoints'][:]\n",
    "\n",
    "            Model1 = HDEP_2lens(freq,\n",
    "                        feedpos = [item,0,0],\n",
    "                        feedrot = [0,0,angle],\n",
    "                        AR_file = 'AR_LIB/HDPE_ARC.h5',\n",
    "                        groupname= str(freq)+'GHz',\n",
    "                        outputfolder = '../Data/HDPE/AR/'+str(freq)+'GHz/')\n",
    "            factor = 2            \n",
    "            PO_No = np.array(PO_no,dtype = np.int32)*factor\n",
    "            PO_No = PO_No.tolist()\n",
    "            Model1.run_po(PO_No[0:2],\n",
    "                          PO_No[2:4],\n",
    "                        sampling_type = 'less')\n"
   ]
  },
  {
   "cell_type": "code",
   "execution_count": 4,
   "metadata": {},
   "outputs": [
    {
     "name": "stdout",
     "output_type": "stream",
     "text": [
      "90 135 0\n",
      "sampling type : less\n",
      "sampling type : less\n",
      "Gain of the Guassian feedhonr!\n",
      "-5.274703200714645 dB\n",
      "Batch size: 253\n"
     ]
    },
    {
     "name": "stderr",
     "output_type": "stream",
     "text": [
      "100%|██████████| 45/45 [00:00<00:00, 2463.63it/s]\n",
      "/home/xren/Documents/Lens_PO/PO_test/Kirchhoffpy/FresnelCoeff.py:240: ComplexWarning: Casting complex values to real discards the imaginary part\n",
      "  r_p[NN_t] = 1.0 * np.exp(1j*np.pi)\n",
      "/home/xren/Documents/Lens_PO/PO_test/Kirchhoffpy/FresnelCoeff.py:241: ComplexWarning: Casting complex values to real discards the imaginary part\n",
      "  r_s[NN_t] = 1.0 * np.exp(1j*np.pi)\n"
     ]
    },
    {
     "name": "stdout",
     "output_type": "stream",
     "text": [
      "Transform f1\n",
      "poynting value max!\n",
      "0.0005231092981681856\n",
      "12.760281863791008\n",
      "f2\n",
      "poynting value max!\n",
      "0.0003633455507100834\n",
      "12.264634430638965\n",
      "f2 transmission\n",
      "poynting value max!\n",
      "12.210014570607719\n",
      "sampling type : less\n",
      "sampling type : less\n",
      "../Data/HDPE/AR/90GHz/L2_po_cur_0_0_0mm_polar_135deg.h5\n",
      "Here\n",
      "Batch size: 1530\n"
     ]
    },
    {
     "name": "stderr",
     "output_type": "stream",
     "text": [
      "100%|██████████| 29/29 [00:00<00:00, 6258.22it/s]\n"
     ]
    },
    {
     "name": "stdout",
     "output_type": "stream",
     "text": [
      "Batch size: 387\n"
     ]
    },
    {
     "name": "stderr",
     "output_type": "stream",
     "text": [
      "100%|██████████| 103/103 [00:01<00:00, 55.91it/s]\n"
     ]
    },
    {
     "name": "stdout",
     "output_type": "stream",
     "text": [
      "Transform f1\n",
      "poynting value max!\n",
      "4.171586535396372e-05\n",
      "6.847292600854186\n",
      "f2\n",
      "poynting value max!\n",
      "4.5661724707153455e-05\n",
      "6.628779923200628\n",
      "f2 transmission\n",
      "poynting value max!\n",
      "6.747623211299302\n",
      "../Data/HDPE/AR/90GHz/L1_po_cur_0_0_0mm_polar_135deg.h5\n",
      "[[1. 0. 0.]\n",
      " [0. 1. 0.]\n",
      " [0. 0. 1.]]\n",
      "*(**)\n",
      "Batch size: 1459\n"
     ]
    },
    {
     "name": "stderr",
     "output_type": "stream",
     "text": [
      "100%|██████████| 27/27 [00:00<00:00, 5914.57it/s]\n"
     ]
    },
    {
     "name": "stdout",
     "output_type": "stream",
     "text": [
      "120 135 0\n",
      "sampling type : less\n",
      "sampling type : less\n",
      "Gain of the Guassian feedhonr!\n",
      "-7.773477846357553 dB\n",
      "Batch size: 191\n"
     ]
    },
    {
     "name": "stderr",
     "output_type": "stream",
     "text": [
      "100%|██████████| 101/101 [00:01<00:00, 57.30it/s]\n"
     ]
    },
    {
     "name": "stdout",
     "output_type": "stream",
     "text": [
      "Transform f1\n",
      "poynting value max!\n",
      "0.00029614970160216\n",
      "12.860831535888686\n",
      "f2\n",
      "poynting value max!\n",
      "0.00020515483640975128\n",
      "12.360447901591382\n",
      "f2 transmission\n",
      "poynting value max!\n",
      "12.385912248059393\n",
      "sampling type : less\n",
      "sampling type : less\n",
      "../Data/HDPE/AR/120GHz/L2_po_cur_0_0_0mm_polar_135deg.h5\n",
      "Here\n",
      "Batch size: 899\n"
     ]
    },
    {
     "name": "stderr",
     "output_type": "stream",
     "text": [
      "100%|██████████| 85/85 [00:01<00:00, 67.35it/s]\n"
     ]
    },
    {
     "name": "stdout",
     "output_type": "stream",
     "text": [
      "Batch size: 226\n"
     ]
    },
    {
     "name": "stderr",
     "output_type": "stream",
     "text": [
      "100%|██████████| 314/314 [00:08<00:00, 37.66it/s]\n"
     ]
    },
    {
     "name": "stdout",
     "output_type": "stream",
     "text": [
      "Transform f1\n",
      "poynting value max!\n",
      "2.423623725239955e-05\n",
      "6.988575778566329\n",
      "f2\n",
      "poynting value max!\n",
      "2.7179114160645918e-05\n",
      "6.767148472484606\n",
      "f2 transmission\n",
      "poynting value max!\n",
      "6.937739789062086\n",
      "../Data/HDPE/AR/120GHz/L1_po_cur_0_0_0mm_polar_135deg.h5\n",
      "[[1. 0. 0.]\n",
      " [0. 1. 0.]\n",
      " [0. 0. 1.]]\n",
      "*(**)\n",
      "Batch size: 819\n"
     ]
    },
    {
     "name": "stderr",
     "output_type": "stream",
     "text": [
      "100%|██████████| 49/49 [00:00<00:00, 130.82it/s]\n"
     ]
    },
    {
     "name": "stdout",
     "output_type": "stream",
     "text": [
      "150 135 0\n",
      "sampling type : less\n",
      "sampling type : less\n",
      "Gain of the Guassian feedhonr!\n",
      "-9.711678082057606 dB\n",
      "Batch size: 124\n"
     ]
    },
    {
     "name": "stderr",
     "output_type": "stream",
     "text": [
      "100%|██████████| 241/241 [00:06<00:00, 39.03it/s]\n"
     ]
    },
    {
     "name": "stdout",
     "output_type": "stream",
     "text": [
      "Transform f1\n",
      "poynting value max!\n",
      "0.00018820136224542233\n",
      "12.802683637253883\n",
      "f2\n",
      "poynting value max!\n",
      "0.00013148013278210972\n",
      "12.303373914421423\n",
      "f2 transmission\n",
      "poynting value max!\n",
      "12.243928371083172\n",
      "sampling type : less\n",
      "sampling type : less\n",
      "../Data/HDPE/AR/150GHz/L2_po_cur_0_0_0mm_polar_135deg.h5\n",
      "Here\n",
      "Batch size: 584\n"
     ]
    },
    {
     "name": "stderr",
     "output_type": "stream",
     "text": [
      "100%|██████████| 205/205 [00:05<00:00, 40.99it/s]\n"
     ]
    },
    {
     "name": "stdout",
     "output_type": "stream",
     "text": [
      "Batch size: 145\n"
     ]
    },
    {
     "name": "stderr",
     "output_type": "stream",
     "text": [
      "100%|██████████| 740/740 [00:21<00:00, 34.18it/s]\n"
     ]
    },
    {
     "name": "stdout",
     "output_type": "stream",
     "text": [
      "Transform f1\n",
      "poynting value max!\n",
      "1.508426985129749e-05\n",
      "6.853602008550696\n",
      "f2\n",
      "poynting value max!\n",
      "1.5789202194036312e-05\n",
      "6.636753071299137\n",
      "f2 transmission\n",
      "poynting value max!\n",
      "6.765954019405857\n",
      "../Data/HDPE/AR/150GHz/L1_po_cur_0_0_0mm_polar_135deg.h5\n",
      "[[1. 0. 0.]\n",
      " [0. 1. 0.]\n",
      " [0. 0. 1.]]\n",
      "*(**)\n",
      "Batch size: 542\n"
     ]
    },
    {
     "name": "stderr",
     "output_type": "stream",
     "text": [
      "100%|██████████| 74/74 [00:01<00:00, 49.05it/s]\n"
     ]
    }
   ],
   "source": [
    "dx_list = [0] \n",
    "angle_list = [135]#[0,15,30,45,60,75,90,105,120,135,150,165]\n",
    "freq_list = [90,120,150]#[155,160,165,170]\n",
    "for freq in freq_list:\n",
    "    for angle in angle_list:\n",
    "        for item in dx_list:\n",
    "            print(freq, angle,item)\n",
    "            freq_check = freq\n",
    "            with h5.File(PO_sampling_file,'r') as f:\n",
    "                PO_no = f[str(freq_check)+'GHz'][str(item)][str(45)]['POpoints'][:]\n",
    "\n",
    "            Model1 = HDEP_2lens(freq,\n",
    "                        feedpos = [item,0,0],\n",
    "                        feedrot = [0,0,angle],\n",
    "                        AR_file = 'AR_LIB/HDPE_ARC.h5',\n",
    "                        groupname= str(freq)+'GHz',\n",
    "                        outputfolder = '../Data/HDPE/AR/'+str(freq)+'GHz/')\n",
    "            factor = 1          \n",
    "            PO_No = np.array(PO_no,dtype = np.int32)*factor\n",
    "            PO_No = PO_No.tolist()\n",
    "            Model1.run_po(PO_No[0:2],\n",
    "                          PO_No[2:4],\n",
    "                        sampling_type = 'less')\n"
   ]
  },
  {
   "cell_type": "code",
   "execution_count": null,
   "metadata": {},
   "outputs": [],
   "source": []
  }
 ],
 "metadata": {
  "kernelspec": {
   "display_name": "ccatholo",
   "language": "python",
   "name": "python3"
  },
  "language_info": {
   "codemirror_mode": {
    "name": "ipython",
    "version": 3
   },
   "file_extension": ".py",
   "mimetype": "text/x-python",
   "name": "python",
   "nbconvert_exporter": "python",
   "pygments_lexer": "ipython3",
   "version": "3.9.21"
  }
 },
 "nbformat": 4,
 "nbformat_minor": 2
}
