{
 "cells": [
  {
   "cell_type": "code",
   "execution_count": 1,
   "id": "f1691dbf-8c73-4ebe-8189-b5277660d5f0",
   "metadata": {},
   "outputs": [],
   "source": [
    "import pyvista as pv\n",
    "from Kirchhoffpy import lenspy\n",
    "from Kirchhoffpy import Feedpy\n",
    "import matplotlib.pyplot as plt\n",
    "import matplotlib.tri as tri\n",
    "import numpy as np\n",
    "from Kirchhoffpy import LensPO,coordinate\n",
    "c=299792458"
   ]
  },
  {
   "cell_type": "code",
   "execution_count": 2,
   "id": "7dbe3d4f-2c07-4d35-b11c-a2add43ad2c5",
   "metadata": {},
   "outputs": [
    {
     "name": "stdout",
     "output_type": "stream",
     "text": [
      "3.3310273111111113 1.8862605197565134\n"
     ]
    }
   ],
   "source": [
    "# 1. define frequnecy and wavelength\n",
    "freq = 90*10**9\n",
    "Lambda = c*1000/freq\n",
    "k = 2*np.pi/Lambda\n",
    "print(Lambda,k)"
   ]
  },
  {
   "cell_type": "code",
   "execution_count": 3,
   "id": "13b91e40-87e1-4602-8f26-31d7ddb7819d",
   "metadata": {},
   "outputs": [],
   "source": [
    "# 2. define coordinate systems\n",
    "coord_ref = coordinate.coord_sys([0,0,0],[0,0,0],axes = 'xyz')\n",
    "\n",
    "coord_L1 = coordinate.coord_sys([0,0,-960],[np.pi,0,0],axes = 'xyz',ref_coord = coord_ref)\n",
    "\n",
    "coord_feed = coordinate.coord_sys([0,0,0],[np.pi,0,0],axes = 'xyz',ref_coord = coord_ref)\n",
    "\n",
    "coord_sky = coordinate.coord_sys([0,0,-960-43.499082],[np.pi,0,0],axes = 'xyz',ref_coord = coord_ref)"
   ]
  },
  {
   "cell_type": "code",
   "execution_count": 4,
   "id": "edf4f650-2bdc-4674-a541-0a86cd732ff3",
   "metadata": {},
   "outputs": [],
   "source": [
    "feed= Feedpy.GaussiBeam(-8,8,\n",
    "                        k,\n",
    "                        coord_feed,\n",
    "                        polarization = 'x')"
   ]
  },
  {
   "cell_type": "code",
   "execution_count": 5,
   "id": "621a2729-ac20-4174-b37b-7597af405653",
   "metadata": {},
   "outputs": [],
   "source": [
    "p = pv.Plotter()\n",
    "\n",
    "srffolder = 'srf2/'\n",
    "L1 = lenspy.simple_Lens(3.36,\n",
    "                        43.499082,# Thickness\n",
    "                        433.70409, # diameter\n",
    "                        srffolder + 'lens1_f2.rsf', \n",
    "                        srffolder + 'lens1_f1.rsf',\n",
    "                        p,\n",
    "                        coord_L1,\n",
    "                        name = 'L1',\n",
    "                        outputfolder = 'output/')\n",
    "#L2 = lenspy.simple_Lens(2,46.9671 ,400, srffolder + 'lens2_f1.rsf', srffolder + 'lens2_f2.rsf',p,[0,0,-227.64396727901004],name = 'L2')\n",
    "#L3 = lenspy.simple_Lens(2,29.6556 ,400, srffolder + 'lens3_f1.rsf', srffolder + 'lens3_f2.rsf',p,[0,0,-71.77590111674095],name = 'L3')"
   ]
  },
  {
   "cell_type": "code",
   "execution_count": null,
   "id": "c3022924-72ed-4ef3-bdd4-1e7216c19be7",
   "metadata": {},
   "outputs": [
    {
     "name": "stdout",
     "output_type": "stream",
     "text": [
      "Gain of the Guassian feedhonr!\n",
      "34.78920463969227 dB\n",
      "input power\n",
      "poynting value max!\n",
      "2.438619718624981e-06\n",
      "0.458715596329271\n",
      "cores: 116\n"
     ]
    },
    {
     "name": "stderr",
     "output_type": "stream",
     "text": [
      " 79%|██████████████████████████████▊        | 1707/2163 [10:45<02:54,  2.61it/s]"
     ]
    }
   ],
   "source": [
    "L1.method = LensPO.lensPO\n",
    "N1 =[81,1401]\n",
    "N2 = [501,501]\n",
    "L1.PO_analysis([5,N1[0],N1[1],1],\n",
    "            [N2[0],1,N2[1],1],\n",
    "            feed,k,\n",
    "            sampling_type_f1='polar',\n",
    "            phi_type_f1 = 'less',\n",
    "            sampling_type_f2='rectangle',\n",
    "            phi_type_f2 = 'uniform',)"
   ]
  },
  {
   "cell_type": "code",
   "execution_count": null,
   "id": "8b97ba19-2697-4e6f-b764-9210da584f9f",
   "metadata": {},
   "outputs": [],
   "source": []
  }
 ],
 "metadata": {
  "kernelspec": {
   "display_name": "Python 3 (ipykernel)",
   "language": "python",
   "name": "python3"
  },
  "language_info": {
   "codemirror_mode": {
    "name": "ipython",
    "version": 3
   },
   "file_extension": ".py",
   "mimetype": "text/x-python",
   "name": "python",
   "nbconvert_exporter": "python",
   "pygments_lexer": "ipython3",
   "version": "3.9.21"
  }
 },
 "nbformat": 4,
 "nbformat_minor": 5
}
