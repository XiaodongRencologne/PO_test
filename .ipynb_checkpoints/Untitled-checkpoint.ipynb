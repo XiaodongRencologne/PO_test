{
 "cells": [
  {
   "cell_type": "code",
   "execution_count": 1,
   "id": "f1691dbf-8c73-4ebe-8189-b5277660d5f0",
   "metadata": {},
   "outputs": [],
   "source": [
    "import pyvista as pv\n",
    "from Kirchhoffpy import lenspy\n",
    "import matplotlib.pyplot as plt\n",
    "import numpy as np"
   ]
  },
  {
   "cell_type": "code",
   "execution_count": 2,
   "id": "e6acd8d2",
   "metadata": {},
   "outputs": [
    {
     "data": {
      "text/plain": [
       "\"\\nsrffolder = 'srf2/'\\nx = np.linspace(0,200,101)/10\\nf1 = lenspy.read_rsf(srffolder + 'lens1_f1.rsf')\\nf2 = lenspy.read_rsf2(srffolder + 'lens1_f1.rsf')\\nz1,n1 = f1(x,np.zeros(x.shape))\\nz2,n2 = f2(x,np.zeros(x.shape))\\n\""
      ]
     },
     "execution_count": 2,
     "metadata": {},
     "output_type": "execute_result"
    }
   ],
   "source": [
    "\"\"\"\n",
    "srffolder = 'srf2/'\n",
    "x = np.linspace(0,200,101)/10\n",
    "f1 = lenspy.read_rsf(srffolder + 'lens1_f1.rsf')\n",
    "f2 = lenspy.read_rsf2(srffolder + 'lens1_f1.rsf')\n",
    "z1,n1 = f1(x,np.zeros(x.shape))\n",
    "z2,n2 = f2(x,np.zeros(x.shape))\n",
    "\"\"\""
   ]
  },
  {
   "cell_type": "code",
   "execution_count": 3,
   "id": "621a2729-ac20-4174-b37b-7597af405653",
   "metadata": {},
   "outputs": [],
   "source": [
    "p = pv.Plotter()\n",
    "srffolder = 'srf2/'\n",
    "L1 = lenspy.simple_Lens(2,43.4991 ,400, srffolder + 'lens1_f1.rsf', srffolder + 'lens1_f2.rsf',p,[0,0,-803.9719951339464],name = 'L1')\n",
    "L2 = lenspy.simple_Lens(2,46.9671 ,400, srffolder + 'lens2_f1.rsf', srffolder + 'lens2_f2.rsf',p,[0,0,-227.64396727901004],name = 'L2')\n",
    "L3 = lenspy.simple_Lens(2,29.6556 ,400, srffolder + 'lens3_f1.rsf', srffolder + 'lens3_f2.rsf',p,[0,0,-71.77590111674095],name = 'L3')"
   ]
  },
  {
   "cell_type": "code",
   "execution_count": 4,
   "id": "e38c6444-6e9f-44a3-83bd-44e925f23d14",
   "metadata": {},
   "outputs": [
    {
     "name": "stdout",
     "output_type": "stream",
     "text": [
      "tensor([ 0.0000,  0.7193,  1.4379,  2.1548,  2.8691,  3.5799,  4.2857,  4.9850,\n",
      "         5.6753,  6.3535,  7.0156,  7.6559,  8.2675,  8.8416,  9.3673,  9.8314,\n",
      "        10.2181, 10.5088, 10.6819, 10.7120, 10.5700], dtype=torch.float64)\n",
      "tensor([ 0.0000,  2.4176,  4.8365,  7.2577,  9.6822, 12.1105, 14.5422, 16.9756,\n",
      "        19.4067, 21.8283, 24.2291, 26.5918, 28.8916, 31.0941, 33.1535, 35.0098,\n",
      "        36.5873, 37.7937, 38.5207, 38.6479, 38.0498], dtype=torch.float64)\n",
      "T_s: tensor([1.5413, 1.5416, 1.5424, 1.5439, 1.5459, 1.5485, 1.5517, 1.5555, 1.5600,\n",
      "        1.5650, 1.5705, 1.5766, 1.5831, 1.5899, 1.5968, 1.6033, 1.6092, 1.6139,\n",
      "        1.6169, 1.6174, 1.6150], dtype=torch.float64)\n",
      "T_p: tensor([1.5413, 1.5422, 1.5452, 1.5500, 1.5569, 1.5658, 1.5769, 1.5902, 1.6058,\n",
      "        1.6238, 1.6442, 1.6668, 1.6915, 1.7179, 1.7450, 1.7717, 1.7961, 1.8160,\n",
      "        1.8285, 1.8307, 1.8204], dtype=torch.float64)\n",
      "R_s: tensor([0.5413, 0.5416, 0.5424, 0.5439, 0.5459, 0.5485, 0.5517, 0.5555, 0.5600,\n",
      "        0.5650, 0.5705, 0.5766, 0.5831, 0.5899, 0.5968, 0.6033, 0.6092, 0.6139,\n",
      "        0.6169, 0.6174, 0.6150], dtype=torch.float64)\n",
      "R_p: tensor([-0.5413, -0.5410, -0.5401, -0.5387, -0.5366, -0.5340, -0.5307, -0.5267,\n",
      "        -0.5221, -0.5167, -0.5107, -0.5039, -0.4966, -0.4887, -0.4807, -0.4727,\n",
      "        -0.4654, -0.4595, -0.4558, -0.4551, -0.4582], dtype=torch.float64)\n"
     ]
    },
    {
     "name": "stderr",
     "output_type": "stream",
     "text": [
      "/home/xren/miniconda3/envs/ccatholo/lib/python3.9/site-packages/pyvista/core/filters/poly_data.py:3144: PyVistaFutureWarning: The default value of the ``capping`` keyword argument will change in a future version to ``True`` to match the behavior of VTK. We recommend passing the keyword explicitly to prevent future surprises.\n",
      "  warnings.warn(\n",
      "/home/xren/Documents/PO_test/Kirchhoffpy/Vopy.py:73: UserWarning: Using torch.cross without specifying the dim arg is deprecated.\n",
      "Please either pass the dim explicitly or simply use torch.linalg.cross.\n",
      "The default value of dim will change to agree with that of linalg.cross in a future release. (Triggered internally at /pytorch/aten/src/ATen/native/Cross.cpp:62.)\n",
      "  C = T.cross(A,B)\n"
     ]
    },
    {
     "data": {
      "application/vnd.jupyter.widget-view+json": {
       "model_id": "f51a1f9e254e4d608572e7c1b3501403",
       "version_major": 2,
       "version_minor": 0
      },
      "text/plain": [
       "Widget(value='<iframe src=\"http://localhost:45531/index.html?ui=P_0x76aca2849400_0&reconnect=auto\" class=\"pyvi…"
      ]
     },
     "metadata": {},
     "output_type": "display_data"
    }
   ],
   "source": [
    "L1.view(21,11)\n",
    "#L2.view(201,201)\n",
    "#L3.view(201,201)\n",
    "#p.show()"
   ]
  },
  {
   "cell_type": "code",
   "execution_count": 5,
   "id": "57287a14-a21a-45d0-bc7a-bc6878607d52",
   "metadata": {},
   "outputs": [],
   "source": [
    "def plot(L):\n",
    "    figure = plt.figure(figsize = (10,8))\n",
    "    plt.plot(L.v_x1,L.v_z1,'k-')\n",
    "    plt.plot(-L.v_x1,L.v_z1,'k-')\n",
    "    plt.plot(L.v_x2,L.v_z2,'k-')\n",
    "    plt.plot(-L.v_x2,L.v_z2,'k-')\n",
    "    plt.ylim([0,800])\n",
    "    plt.axis('equal')\n",
    "    plt.show()"
   ]
  },
  {
   "cell_type": "code",
   "execution_count": 6,
   "id": "632a65be-161f-4538-a879-37075c4b0168",
   "metadata": {},
   "outputs": [
    {
     "data": {
      "image/png": "[encoded data removed]",
      "text/plain": [
       "<Figure size 1000x800 with 1 Axes>"
      ]
     },
     "metadata": {},
     "output_type": "display_data"
    }
   ],
   "source": [
    "plot(L1)"
   ]
  },
  {
   "cell_type": "code",
   "execution_count": null,
   "id": "44450a1e-8954-42f4-98f8-e2d59077bb33",
   "metadata": {},
   "outputs": [],
   "source": []
  }
 ],
 "metadata": {
  "kernelspec": {
   "display_name": "Python 3 (ipykernel)",
   "language": "python",
   "name": "python3"
  },
  "language_info": {
   "codemirror_mode": {
    "name": "ipython",
    "version": 3
   },
   "file_extension": ".py",
   "mimetype": "text/x-python",
   "name": "python",
   "nbconvert_exporter": "python",
   "pygments_lexer": "ipython3",
   "version": "3.9.21"
  }
 },
 "nbformat": 4,
 "nbformat_minor": 5
}
