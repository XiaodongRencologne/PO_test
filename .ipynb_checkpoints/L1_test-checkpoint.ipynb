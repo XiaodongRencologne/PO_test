{
 "cells": [
  {
   "cell_type": "code",
   "execution_count": 1,
   "id": "f1691dbf-8c73-4ebe-8189-b5277660d5f0",
   "metadata": {},
   "outputs": [],
   "source": [
    "import pyvista as pv\n",
    "from Kirchhoffpy import lenspy\n",
    "from Kirchhoffpy import Feedpy\n",
    "import matplotlib.pyplot as plt\n",
    "import matplotlib.tri as tri\n",
    "import numpy as np\n",
    "from Kirchhoffpy import LensPO\n",
    "c=299792458"
   ]
  },
  {
   "cell_type": "code",
   "execution_count": 2,
   "id": "7dbe3d4f-2c07-4d35-b11c-a2add43ad2c5",
   "metadata": {},
   "outputs": [
    {
     "name": "stdout",
     "output_type": "stream",
     "text": [
      "3.3310273111111113 1.8862605197565134\n"
     ]
    }
   ],
   "source": [
    "freq = 90*10**9\n",
    "Lambda = c*1000/freq\n",
    "k = 2*np.pi/Lambda\n",
    "print(Lambda,k)"
   ]
  },
  {
   "cell_type": "code",
   "execution_count": 3,
   "id": "edf4f650-2bdc-4674-a541-0a86cd732ff3",
   "metadata": {},
   "outputs": [],
   "source": [
    "feed= Feedpy.GaussiBeam(-8,8,\n",
    "                        k,\n",
    "                        [0,0,0],\n",
    "                        [0,0,-960],\n",
    "                        polarization = 'x')"
   ]
  },
  {
   "cell_type": "code",
   "execution_count": 4,
   "id": "621a2729-ac20-4174-b37b-7597af405653",
   "metadata": {},
   "outputs": [],
   "source": [
    "p = pv.Plotter()\n",
    "srffolder = 'srf2/'\n",
    "L1 = lenspy.simple_Lens(3.36,\n",
    "                        43.499082,# Thickness\n",
    "                        433.70409, # diameter\n",
    "                        srffolder + 'lens1_f2.rsf', \n",
    "                        srffolder + 'lens1_f1.rsf',\n",
    "                        p,\n",
    "                        [0,0,-803.972001+43.499082],name = 'L1')\n",
    "#L2 = lenspy.simple_Lens(2,46.9671 ,400, srffolder + 'lens2_f1.rsf', srffolder + 'lens2_f2.rsf',p,[0,0,-227.64396727901004],name = 'L2')\n",
    "#L3 = lenspy.simple_Lens(2,29.6556 ,400, srffolder + 'lens3_f1.rsf', srffolder + 'lens3_f2.rsf',p,[0,0,-71.77590111674095],name = 'L3')"
   ]
  },
  {
   "cell_type": "code",
   "execution_count": 5,
   "id": "c3022924-72ed-4ef3-bdd4-1e7216c19be7",
   "metadata": {},
   "outputs": [
    {
     "name": "stdout",
     "output_type": "stream",
     "text": [
      "34.78920463969227\n",
      "input power\n",
      "27.831926403004424\n",
      "poynting value max!\n",
      "2.438619718624981e-06\n",
      "1.5412844036663507\n",
      "cores: 116\n"
     ]
    },
    {
     "name": "stderr",
     "output_type": "stream",
     "text": [
      "  9%|███▋                                      | 31/348 [00:18<03:08,  1.68it/s]\n"
     ]
    },
    {
     "ename": "KeyboardInterrupt",
     "evalue": "",
     "output_type": "error",
     "traceback": [
      "\u001b[0;31m---------------------------------------------------------------------------\u001b[0m",
      "\u001b[0;31mKeyboardInterrupt\u001b[0m                         Traceback (most recent call last)",
      "Cell \u001b[0;32mIn[5], line 4\u001b[0m\n\u001b[1;32m      2\u001b[0m N1 \u001b[38;5;241m=\u001b[39m[\u001b[38;5;241m81\u001b[39m,\u001b[38;5;241m1401\u001b[39m]\n\u001b[1;32m      3\u001b[0m N2 \u001b[38;5;241m=\u001b[39m [\u001b[38;5;241m201\u001b[39m,\u001b[38;5;241m201\u001b[39m]\n\u001b[0;32m----> 4\u001b[0m \u001b[43mL1\u001b[49m\u001b[38;5;241;43m.\u001b[39;49m\u001b[43manalysis\u001b[49m\u001b[43m(\u001b[49m\u001b[43m[\u001b[49m\u001b[38;5;241;43m5\u001b[39;49m\u001b[43m,\u001b[49m\u001b[43mN1\u001b[49m\u001b[43m[\u001b[49m\u001b[38;5;241;43m0\u001b[39;49m\u001b[43m]\u001b[49m\u001b[43m,\u001b[49m\u001b[43mN1\u001b[49m\u001b[43m[\u001b[49m\u001b[38;5;241;43m1\u001b[39;49m\u001b[43m]\u001b[49m\u001b[43m,\u001b[49m\u001b[38;5;241;43m1\u001b[39;49m\u001b[43m]\u001b[49m\u001b[43m,\u001b[49m\n\u001b[1;32m      5\u001b[0m \u001b[43m            \u001b[49m\u001b[43m[\u001b[49m\u001b[43mN2\u001b[49m\u001b[43m[\u001b[49m\u001b[38;5;241;43m0\u001b[39;49m\u001b[43m]\u001b[49m\u001b[43m,\u001b[49m\u001b[38;5;241;43m1\u001b[39;49m\u001b[43m,\u001b[49m\u001b[43mN2\u001b[49m\u001b[43m[\u001b[49m\u001b[38;5;241;43m1\u001b[39;49m\u001b[43m]\u001b[49m\u001b[43m,\u001b[49m\u001b[38;5;241;43m1\u001b[39;49m\u001b[43m]\u001b[49m\u001b[43m,\u001b[49m\n\u001b[1;32m      6\u001b[0m \u001b[43m            \u001b[49m\u001b[43mfeed\u001b[49m\u001b[38;5;241;43m.\u001b[39;49m\u001b[43mbeam\u001b[49m\u001b[43m,\u001b[49m\u001b[43mk\u001b[49m\u001b[43m,\u001b[49m\n\u001b[1;32m      7\u001b[0m \u001b[43m            \u001b[49m\u001b[43msampling_type_f1\u001b[49m\u001b[38;5;241;43m=\u001b[39;49m\u001b[38;5;124;43m'\u001b[39;49m\u001b[38;5;124;43mpolar\u001b[39;49m\u001b[38;5;124;43m'\u001b[39;49m\u001b[43m,\u001b[49m\n\u001b[1;32m      8\u001b[0m \u001b[43m            \u001b[49m\u001b[43mphi_type_f1\u001b[49m\u001b[43m \u001b[49m\u001b[38;5;241;43m=\u001b[39;49m\u001b[43m \u001b[49m\u001b[38;5;124;43m'\u001b[39;49m\u001b[38;5;124;43mless\u001b[39;49m\u001b[38;5;124;43m'\u001b[39;49m\u001b[43m,\u001b[49m\n\u001b[1;32m      9\u001b[0m \u001b[43m            \u001b[49m\u001b[43msampling_type_f2\u001b[49m\u001b[38;5;241;43m=\u001b[39;49m\u001b[38;5;124;43m'\u001b[39;49m\u001b[38;5;124;43mrectangle\u001b[39;49m\u001b[38;5;124;43m'\u001b[39;49m\u001b[43m,\u001b[49m\n\u001b[1;32m     10\u001b[0m \u001b[43m            \u001b[49m\u001b[43mphi_type_f2\u001b[49m\u001b[43m \u001b[49m\u001b[38;5;241;43m=\u001b[39;49m\u001b[43m \u001b[49m\u001b[38;5;124;43m'\u001b[39;49m\u001b[38;5;124;43muniform\u001b[39;49m\u001b[38;5;124;43m'\u001b[39;49m\u001b[43m,\u001b[49m\u001b[43m)\u001b[49m\n",
      "File \u001b[0;32m~/Documents/PO_test/Kirchhoffpy/lenspy.py:194\u001b[0m, in \u001b[0;36msimple_Lens.analysis\u001b[0;34m(self, N1, N2, feed, k, sampling_type_f1, phi_type_f1, sampling_type_f2, phi_type_f2, device)\u001b[0m\n\u001b[1;32m    191\u001b[0m \u001b[38;5;28mprint\u001b[39m(abs_v(p_n)\u001b[38;5;241m.\u001b[39mmax())\n\u001b[1;32m    192\u001b[0m \u001b[38;5;250m\u001b[39m\u001b[38;5;124;03m'''double PO analysis!!!'''\u001b[39;00m\n\u001b[1;32m    193\u001b[0m \u001b[38;5;28mself\u001b[39m\u001b[38;5;241m.\u001b[39mf2_E,\u001b[38;5;28mself\u001b[39m\u001b[38;5;241m.\u001b[39mf2_H, \u001b[38;5;28mself\u001b[39m\u001b[38;5;241m.\u001b[39mf2_E_t, \u001b[38;5;28mself\u001b[39m\u001b[38;5;241m.\u001b[39mf2_E_r, \u001b[38;5;28mself\u001b[39m\u001b[38;5;241m.\u001b[39mf2_H_t,\\\n\u001b[0;32m--> 194\u001b[0m \u001b[38;5;28mself\u001b[39m\u001b[38;5;241m.\u001b[39mf2_H_r, \u001b[38;5;28mself\u001b[39m\u001b[38;5;241m.\u001b[39mf1_E_t, \u001b[38;5;28mself\u001b[39m\u001b[38;5;241m.\u001b[39mf1_E_r,  \u001b[38;5;28mself\u001b[39m\u001b[38;5;241m.\u001b[39mf1_H_t , \u001b[38;5;28mself\u001b[39m\u001b[38;5;241m.\u001b[39mf1_H_r \u001b[38;5;241m=\u001b[39m \u001b[38;5;28;43mself\u001b[39;49m\u001b[38;5;241;43m.\u001b[39;49m\u001b[43mmethod\u001b[49m\u001b[43m(\u001b[49m\u001b[38;5;28;43mself\u001b[39;49m\u001b[38;5;241;43m.\u001b[39;49m\u001b[43mf1\u001b[49m\u001b[43m,\u001b[49m\u001b[38;5;28;43mself\u001b[39;49m\u001b[38;5;241;43m.\u001b[39;49m\u001b[43mf1_n\u001b[49m\u001b[43m,\u001b[49m\u001b[38;5;28;43mself\u001b[39;49m\u001b[38;5;241;43m.\u001b[39;49m\u001b[43mf1\u001b[49m\u001b[38;5;241;43m.\u001b[39;49m\u001b[43mw\u001b[49m\u001b[43m,\u001b[49m\n\u001b[1;32m    195\u001b[0m \u001b[43m                                       \u001b[49m\u001b[38;5;28;43mself\u001b[39;49m\u001b[38;5;241;43m.\u001b[39;49m\u001b[43mf2\u001b[49m\u001b[43m,\u001b[49m\u001b[38;5;28;43mself\u001b[39;49m\u001b[38;5;241;43m.\u001b[39;49m\u001b[43mf2_n\u001b[49m\u001b[43m,\u001b[49m\n\u001b[1;32m    196\u001b[0m \u001b[43m                                       \u001b[49m\u001b[38;5;28;43mself\u001b[39;49m\u001b[38;5;241;43m.\u001b[39;49m\u001b[43mf_E_in\u001b[49m\u001b[43m,\u001b[49m\u001b[38;5;28;43mself\u001b[39;49m\u001b[38;5;241;43m.\u001b[39;49m\u001b[43mf_H_in\u001b[49m\u001b[43m,\u001b[49m\n\u001b[1;32m    197\u001b[0m \u001b[43m                                       \u001b[49m\u001b[43mk\u001b[49m\u001b[43m,\u001b[49m\u001b[38;5;28;43mself\u001b[39;49m\u001b[38;5;241;43m.\u001b[39;49m\u001b[43mn\u001b[49m\u001b[43m,\u001b[49m\n\u001b[1;32m    198\u001b[0m \u001b[43m                                       \u001b[49m\u001b[43mdevice\u001b[49m\u001b[43m \u001b[49m\u001b[38;5;241;43m=\u001b[39;49m\u001b[43m \u001b[49m\u001b[43mdevice\u001b[49m\u001b[43m)\u001b[49m\n\u001b[1;32m    199\u001b[0m \u001b[38;5;28mprint\u001b[39m(\u001b[38;5;124m'\u001b[39m\u001b[38;5;124mTransform f1\u001b[39m\u001b[38;5;124m'\u001b[39m)\n\u001b[1;32m    200\u001b[0m \u001b[38;5;28mprint\u001b[39m((\u001b[38;5;28mself\u001b[39m\u001b[38;5;241m.\u001b[39mf1\u001b[38;5;241m.\u001b[39mw\u001b[38;5;241m*\u001b[39mnp\u001b[38;5;241m.\u001b[39mabs(\u001b[38;5;28mself\u001b[39m\u001b[38;5;241m.\u001b[39mf1_E_t\u001b[38;5;241m.\u001b[39mx)\u001b[38;5;241m*\u001b[39m\u001b[38;5;241m*\u001b[39m\u001b[38;5;241m2\u001b[39m)\u001b[38;5;241m.\u001b[39msum())\n",
      "File \u001b[0;32m~/Documents/PO_test/Kirchhoffpy/LensPO.py:47\u001b[0m, in \u001b[0;36mlensPO\u001b[0;34m(face1, face1_n, face1_dS, face2, face2_n, Field_in_E, Field_in_H, k, n, device)\u001b[0m\n\u001b[1;32m     41\u001b[0m \u001b[38;5;66;03m#print('T_n1')\u001b[39;00m\n\u001b[1;32m     42\u001b[0m \u001b[38;5;66;03m#p_t_n1 = poyntingVector(f1_E_t,f1_H_t)\u001b[39;00m\n\u001b[1;32m     43\u001b[0m \u001b[38;5;66;03m#p_t_n1 = scalarproduct(1/abs_v(p_t_n1),p_t_n1)\u001b[39;00m\n\u001b[1;32m     44\u001b[0m \u001b[38;5;66;03m#printF(p_t_n1)\u001b[39;00m\n\u001b[1;32m     46\u001b[0m Z \u001b[38;5;241m=\u001b[39m Z0\u001b[38;5;241m/\u001b[39mn\n\u001b[0;32m---> 47\u001b[0m F2_in_E,F2_in_H \u001b[38;5;241m=\u001b[39m \u001b[43mPO_GPU\u001b[49m\u001b[43m(\u001b[49m\u001b[43mface1\u001b[49m\u001b[43m,\u001b[49m\u001b[43mface1_n\u001b[49m\u001b[43m,\u001b[49m\u001b[43mface1_dS\u001b[49m\u001b[43m,\u001b[49m\n\u001b[1;32m     48\u001b[0m \u001b[43m                       \u001b[49m\u001b[43mface2\u001b[49m\u001b[43m,\u001b[49m\n\u001b[1;32m     49\u001b[0m \u001b[43m                       \u001b[49m\u001b[43mf1_E_t\u001b[49m\u001b[43m,\u001b[49m\u001b[43mf1_H_t\u001b[49m\u001b[43m,\u001b[49m\n\u001b[1;32m     50\u001b[0m \u001b[43m                       \u001b[49m\u001b[43mk_n\u001b[49m\u001b[43m,\u001b[49m\u001b[43mZ\u001b[49m\u001b[43m,\u001b[49m\n\u001b[1;32m     51\u001b[0m \u001b[43m                       \u001b[49m\u001b[43mdevice\u001b[49m\u001b[43m \u001b[49m\u001b[38;5;241;43m=\u001b[39;49m\u001b[43m \u001b[49m\u001b[43mdevice\u001b[49m\u001b[43m)\u001b[49m\n\u001b[1;32m     53\u001b[0m f2_E_t,f2_E_r,f2_H_t,f2_H_r, p_n2\u001b[38;5;241m=\u001b[39m Fresnel_coeffi(n,n0,face2_n,F2_in_E,F2_in_H)\n\u001b[1;32m     55\u001b[0m \u001b[38;5;66;03m#printF(p_n2)\u001b[39;00m\n",
      "File \u001b[0;32m~/Documents/PO_test/Kirchhoffpy/POpyGPU.py:451\u001b[0m, in \u001b[0;36mPO_GPU\u001b[0;34m(face1, face1_n, face1_dS, face2, Field_in_E, Field_in_H, k, Z, device)\u001b[0m\n\u001b[1;32m    449\u001b[0m Ni \u001b[38;5;241m=\u001b[39m \u001b[38;5;28mint\u001b[39m(N\u001b[38;5;241m/\u001b[39mcores)\n\u001b[1;32m    450\u001b[0m \u001b[38;5;28;01mfor\u001b[39;00m i \u001b[38;5;129;01min\u001b[39;00m tqdm(\u001b[38;5;28mrange\u001b[39m(Ni)):\n\u001b[0;32m--> 451\u001b[0m     E_X,E_Y,E_Z,H_X,H_Y,H_Z\u001b[38;5;241m=\u001b[39m\u001b[43mcalcu\u001b[49m\u001b[43m(\u001b[49m\u001b[43mface2\u001b[49m\u001b[38;5;241;43m.\u001b[39;49m\u001b[43mx\u001b[49m\u001b[43m[\u001b[49m\u001b[43mi\u001b[49m\u001b[38;5;241;43m*\u001b[39;49m\u001b[43mcores\u001b[49m\u001b[43m:\u001b[49m\u001b[43m(\u001b[49m\u001b[43mi\u001b[49m\u001b[38;5;241;43m+\u001b[39;49m\u001b[38;5;241;43m1\u001b[39;49m\u001b[43m)\u001b[49m\u001b[38;5;241;43m*\u001b[39;49m\u001b[43mcores\u001b[49m\u001b[43m]\u001b[49m\u001b[43m,\u001b[49m\n\u001b[1;32m    452\u001b[0m \u001b[43m                                  \u001b[49m\u001b[43mface2\u001b[49m\u001b[38;5;241;43m.\u001b[39;49m\u001b[43my\u001b[49m\u001b[43m[\u001b[49m\u001b[43mi\u001b[49m\u001b[38;5;241;43m*\u001b[39;49m\u001b[43mcores\u001b[49m\u001b[43m:\u001b[49m\u001b[43m(\u001b[49m\u001b[43mi\u001b[49m\u001b[38;5;241;43m+\u001b[39;49m\u001b[38;5;241;43m1\u001b[39;49m\u001b[43m)\u001b[49m\u001b[38;5;241;43m*\u001b[39;49m\u001b[43mcores\u001b[49m\u001b[43m]\u001b[49m\u001b[43m,\u001b[49m\n\u001b[1;32m    453\u001b[0m \u001b[43m                                  \u001b[49m\u001b[43mface2\u001b[49m\u001b[38;5;241;43m.\u001b[39;49m\u001b[43mz\u001b[49m\u001b[43m[\u001b[49m\u001b[43mi\u001b[49m\u001b[38;5;241;43m*\u001b[39;49m\u001b[43mcores\u001b[49m\u001b[43m:\u001b[49m\u001b[43m(\u001b[49m\u001b[43mi\u001b[49m\u001b[38;5;241;43m+\u001b[39;49m\u001b[38;5;241;43m1\u001b[39;49m\u001b[43m)\u001b[49m\u001b[38;5;241;43m*\u001b[39;49m\u001b[43mcores\u001b[49m\u001b[43m]\u001b[49m\u001b[43m,\u001b[49m\n\u001b[1;32m    454\u001b[0m \u001b[43m                                  \u001b[49m\u001b[43mJE\u001b[49m\u001b[43m)\u001b[49m\n\u001b[1;32m    455\u001b[0m     Field_E\u001b[38;5;241m.\u001b[39mx[i\u001b[38;5;241m*\u001b[39mcores:(i\u001b[38;5;241m+\u001b[39m\u001b[38;5;241m1\u001b[39m)\u001b[38;5;241m*\u001b[39mcores] \u001b[38;5;241m=\u001b[39m E_X\u001b[38;5;241m.\u001b[39mcpu()\u001b[38;5;241m.\u001b[39mnumpy()\n\u001b[1;32m    456\u001b[0m     Field_E\u001b[38;5;241m.\u001b[39my[i\u001b[38;5;241m*\u001b[39mcores:(i\u001b[38;5;241m+\u001b[39m\u001b[38;5;241m1\u001b[39m)\u001b[38;5;241m*\u001b[39mcores] \u001b[38;5;241m=\u001b[39m E_Y\u001b[38;5;241m.\u001b[39mcpu()\u001b[38;5;241m.\u001b[39mnumpy()\n",
      "File \u001b[0;32m~/Documents/PO_test/Kirchhoffpy/POpyGPU.py:420\u001b[0m, in \u001b[0;36mPO_GPU.<locals>.calcu\u001b[0;34m(x2, y2, z2, Je)\u001b[0m\n\u001b[1;32m    418\u001b[0m he\u001b[38;5;241m=\u001b[39mT\u001b[38;5;241m.\u001b[39mexp(\u001b[38;5;241m1\u001b[39mj\u001b[38;5;241m*\u001b[39mphase)\u001b[38;5;241m*\u001b[39mk\u001b[38;5;241m*\u001b[39m\u001b[38;5;241m*\u001b[39m\u001b[38;5;241m2\u001b[39m\n\u001b[1;32m    419\u001b[0m he1\u001b[38;5;241m=\u001b[39m(R\u001b[38;5;241m*\u001b[39m\u001b[38;5;241m1\u001b[39m\u001b[38;5;241m/\u001b[39m(r2)\u001b[38;5;241m*\u001b[39m(\u001b[38;5;241m1\u001b[39m\u001b[38;5;241m-\u001b[39m\u001b[38;5;241m1\u001b[39mj\u001b[38;5;241m*\u001b[39mphase))\n\u001b[0;32m--> 420\u001b[0m he2 \u001b[38;5;241m=\u001b[39m \u001b[43mT\u001b[49m\u001b[38;5;241;43m.\u001b[39;49m\u001b[43mzeros\u001b[49m\u001b[43m(\u001b[49m\u001b[43m(\u001b[49m\u001b[38;5;241;43m3\u001b[39;49m\u001b[43m,\u001b[49m\u001b[43mN_points\u001b[49m\u001b[43m,\u001b[49m\u001b[43m \u001b[49m\u001b[43mN_current\u001b[49m\u001b[43m)\u001b[49m\u001b[43m,\u001b[49m\u001b[43mdtype\u001b[49m\u001b[38;5;241;43m=\u001b[39;49m\u001b[43mT\u001b[49m\u001b[38;5;241;43m.\u001b[39;49m\u001b[43mcomplex128\u001b[49m\u001b[43m)\u001b[49m\u001b[38;5;241;43m.\u001b[39;49m\u001b[43mto\u001b[49m\u001b[43m(\u001b[49m\u001b[43mdevice\u001b[49m\u001b[43m)\u001b[49m\n\u001b[1;32m    422\u001b[0m \u001b[38;5;250m\u001b[39m\u001b[38;5;124;03m'''\u001b[39;00m\n\u001b[1;32m    423\u001b[0m \u001b[38;5;124;03mhe2[0,...]=Je[1,...]*he1[2,...]-Je[2,...]*he1[1,...]\u001b[39;00m\n\u001b[1;32m    424\u001b[0m \u001b[38;5;124;03mhe2[1,...]=Je[2,...]*he1[0,...]-Je[0,...]*he1[2,...]\u001b[39;00m\n\u001b[1;32m    425\u001b[0m \u001b[38;5;124;03mhe2[2,...]=Je[0,...]*he1[1,...]-Je[1,...]*he1[0,...]\u001b[39;00m\n\u001b[1;32m    426\u001b[0m \u001b[38;5;124;03m'''\u001b[39;00m\n\u001b[1;32m    428\u001b[0m he2 \u001b[38;5;241m=\u001b[39m T\u001b[38;5;241m.\u001b[39mcross(Je, he1,dim\u001b[38;5;241m=\u001b[39m\u001b[38;5;241m0\u001b[39m)\n",
      "\u001b[0;31mKeyboardInterrupt\u001b[0m: "
     ]
    }
   ],
   "source": [
    "L1.method = LensPO.lensPO\n",
    "N1 =[81,1401]\n",
    "N2 = [201,201]\n",
    "L1.analysis([5,N1[0],N1[1],1],\n",
    "            [N2[0],1,N2[1],1],\n",
    "            feed.beam,k,\n",
    "            sampling_type_f1='polar',\n",
    "            phi_type_f1 = 'less',\n",
    "            sampling_type_f2='rectangle',\n",
    "            phi_type_f2 = 'uniform',)"
   ]
  },
  {
   "cell_type": "code",
   "execution_count": null,
   "id": "4bee1668-7298-41b3-a861-255eecc8f60c",
   "metadata": {},
   "outputs": [],
   "source": [
    "L1.method = LensPO.lensPO\n",
    "N1 =[81,1401]\n",
    "N2 = [201,201]\n",
    "L1.analysis([5,N1[0],N1[1]],\n",
    "            [1,N2[0],N2[1]],\n",
    "            feed.beam,k,\n",
    "            sampling_type_f1='polar',\n",
    "            phi_type_f1 = 'less',\n",
    "            sampling_type_f2='polar',\n",
    "            phi_type_f2 = 'less',)"
   ]
  },
  {
   "cell_type": "code",
   "execution_count": null,
   "id": "a9ac836a-7c22-4b7c-a793-fad6208bed52",
   "metadata": {},
   "outputs": [],
   "source": [
    "plt.plot(L1.f1.x,L1.f1.y,'*')"
   ]
  },
  {
   "cell_type": "code",
   "execution_count": null,
   "id": "5f11a0fb-bd93-4673-8697-335cf3a908b6",
   "metadata": {},
   "outputs": [],
   "source": [
    "'''\n",
    "fig = plt.figure(figsize = (6,5))\n",
    "vmax = 20*np.log10(np.abs(L1.f1_E_t.x.reshape(N1[0],-1)).max())\n",
    "print(vmax)\n",
    "vmin = vmax -10\n",
    "triang = tri.Triangulation(L1.f1.y,L1.f1.x)\n",
    "plt.tripcolor(triang,\n",
    "           20*np.log10(np.abs(L1.f1_E_t.x)),vmax=vmax,vmin=vmin)\n",
    "plt.colorbar()\n",
    "'''"
   ]
  },
  {
   "cell_type": "code",
   "execution_count": null,
   "id": "94b8e422-cf42-47bf-aa49-9b9b3293918a",
   "metadata": {},
   "outputs": [],
   "source": [
    "'''\n",
    "fig = plt.figure(figsize = (6,5))\n",
    "plt.tripcolor(triang,\n",
    "              20*np.log10(np.abs(L1.f1_E_t.y)),vmax=vmax,vmin=vmax-80)\n",
    "plt.colorbar()\n",
    "'''"
   ]
  },
  {
   "cell_type": "code",
   "execution_count": null,
   "id": "832174bc-9cd1-4edf-8fad-1e23b8e545b3",
   "metadata": {},
   "outputs": [],
   "source": [
    "'''\n",
    "fig = plt.figure(figsize = (6,5))\n",
    "plt.tripcolor(triang,\n",
    "              20*np.log10(np.abs(L1.f1_E_t.z)),vmax=vmax,vmin=vmax-50)\n",
    "plt.colorbar()\n",
    "'''"
   ]
  },
  {
   "cell_type": "code",
   "execution_count": null,
   "id": "18057577-e9e5-4d28-a399-14270e2b5ee1",
   "metadata": {},
   "outputs": [],
   "source": [
    "'''\n",
    "plt.plot(L1.f2.x.reshape(N2[1],-1)[0,:],L1.f2.z.reshape(N2[1],N2[0])[int(N2[1]/2),:])\n",
    "plt.plot(L1.f1.x.reshape(N1[0],N1[1])[:,0],L1.f1.z.reshape(N1[0],N1[1])[:,0])\n",
    "plt.plot(L1.f1.x.reshape(N1[0],N1[1])[:,int(N1[1]/2)],L1.f1.z.reshape(N1[0],N1[1])[:,int(N1[1]/2)])\n",
    "plt.axis('equal')\n",
    "'''"
   ]
  },
  {
   "cell_type": "code",
   "execution_count": null,
   "id": "356cfb0c-dd60-4fef-b5df-7dc46065fd76",
   "metadata": {},
   "outputs": [],
   "source": [
    "fig = plt.figure(figsize = (6,5))\n",
    "vmax = 20*np.log10(np.abs(L1.f2_E.x.reshape(N2[0],-1)).max())\n",
    "print(vmax)\n",
    "vmin = vmax -10\n",
    "plt.pcolor(L1.f2.y.reshape(N2[1],-1)[:,0], L1.f2.x.reshape(N2[1],-1)[0,:],\n",
    "    20*np.log10(np.abs(L1.f2_E.x.reshape(N2[1],-1))),vmax = vmax, vmin = vmin)\n",
    "plt.colorbar()\n",
    "plt.axis('equal')"
   ]
  },
  {
   "cell_type": "code",
   "execution_count": null,
   "id": "c04d2d0b-f471-471f-99fa-fdd16d786b15",
   "metadata": {},
   "outputs": [],
   "source": [
    "fig = plt.figure(figsize = (6,5))\n",
    "plt.pcolor(L1.f2.y.reshape(N2[1],-1)[:,0], L1.f2.x.reshape(N2[1],-1)[0,:],\n",
    "    20*np.log10(np.abs(L1.f2_E.y.reshape(N2[1],-1))),vmax = vmax, vmin = vmin-60)\n",
    "plt.colorbar()\n",
    "plt.axis('equal')"
   ]
  },
  {
   "cell_type": "code",
   "execution_count": null,
   "id": "b8df658d-cb1d-49ef-b2f4-fe7e57d65853",
   "metadata": {},
   "outputs": [],
   "source": [
    "fig = plt.figure(figsize = (6,5))\n",
    "plt.pcolor(20*np.log10(np.abs(L1.f2_E.z.reshape(N2[1],-1))),vmax = vmax, vmin = vmax -80)\n",
    "plt.colorbar()\n",
    "plt.axis('equal')"
   ]
  },
  {
   "cell_type": "code",
   "execution_count": null,
   "id": "60c886a7-a60d-4f29-a26e-20e36df31123",
   "metadata": {},
   "outputs": [],
   "source": [
    "fig = plt.figure(figsize = (6,5))\n",
    "vmax = 20*np.log10(np.abs(L1.f2_H.y.reshape(N2[1],-1)).max())\n",
    "print(vmax)\n",
    "vmin = vmax -10\n",
    "plt.pcolor(20*np.log10(np.abs(L1.f2_H.y.reshape(N2[1],-1))),vmax = vmax, vmin = vmin)\n",
    "plt.colorbar()\n",
    "plt.axis('equal')"
   ]
  },
  {
   "cell_type": "code",
   "execution_count": null,
   "id": "c3b09285-245c-4f85-822b-7b7cc24d0219",
   "metadata": {},
   "outputs": [],
   "source": [
    "fig = plt.figure(figsize = (6,5))\n",
    "plt.pcolor(20*np.log10(np.abs(L1.f2_H.x.reshape(N2[1],-1))),vmax = vmax, vmin = vmin-80)\n",
    "plt.colorbar()\n",
    "plt.axis('equal')"
   ]
  },
  {
   "cell_type": "code",
   "execution_count": null,
   "id": "5d98b22f-27c9-4421-8e90-0aafe066d430",
   "metadata": {},
   "outputs": [],
   "source": [
    "fig = plt.figure(figsize = (6,5))\n",
    "plt.pcolor(20*np.log10(np.abs(L1.f2_H.z.reshape(N2[1],-1))),vmax = vmax, vmin = vmax - 80)\n",
    "plt.colorbar()\n",
    "plt.axis('equal')"
   ]
  },
  {
   "cell_type": "code",
   "execution_count": null,
   "id": "4d7574f2-7cc0-4257-8f90-496f396229e8",
   "metadata": {},
   "outputs": [],
   "source": [
    "fig = plt.figure(figsize = (6,5))\n",
    "vmax = 20*np.log10(np.nanmax(np.abs(L1.f2_E_t.x.reshape(N2[1],-1))))\n",
    "print(vmax)\n",
    "vmin =vmax -10\n",
    "Masker = np.ones(L1.f2_E_t.x.shape)\n",
    "NN = np.where(L1.f2.w == 0.0)\n",
    "Masker[NN] = 0.0\n",
    "plt.pcolor(20*np.log10(np.abs((L1.f2_E_t.x).reshape(N2[1],-1))),vmax = vmax, vmin = vmin)\n",
    "plt.colorbar()\n",
    "plt.axis('equal')"
   ]
  },
  {
   "cell_type": "code",
   "execution_count": null,
   "id": "1afab039-61a7-40af-9694-7dfd8a55157c",
   "metadata": {},
   "outputs": [],
   "source": [
    "fig = plt.figure(figsize = (6,5))\n",
    "plt.pcolor(20*np.log10(np.abs(L1.f2_E_t.y.reshape(N2[1],-1))),vmax = vmax, vmin = vmax-80)\n",
    "plt.colorbar()\n",
    "plt.axis('equal')"
   ]
  },
  {
   "cell_type": "code",
   "execution_count": null,
   "id": "618cbf65-9377-4bb2-8b85-0b682ce1b126",
   "metadata": {},
   "outputs": [],
   "source": [
    "fig = plt.figure(figsize = (6,5))\n",
    "plt.pcolor(20*np.log10(np.abs(L1.f2_E_t.z.reshape(N2[1],-1))),vmax = vmax, vmin = vmax-80)\n",
    "plt.colorbar()\n",
    "plt.axis('equal')"
   ]
  },
  {
   "cell_type": "code",
   "execution_count": null,
   "id": "332b8413-82b2-484c-af8f-edb6006ed4ba",
   "metadata": {},
   "outputs": [],
   "source": [
    "fig = plt.figure(figsize = (6,5))\n",
    "vmax = 20*np.log10(np.nanmax(np.abs(L1.f2_H_t.y.reshape(N2[1],-1))))\n",
    "print(vmax)\n",
    "vmin =vmax -10\n",
    "plt.pcolor(20*np.log10(np.abs(L1.f2_H_t.y.reshape(N2[1],-1))),vmax = vmax, vmin = vmin)\n",
    "plt.colorbar()\n",
    "plt.axis('equal')"
   ]
  },
  {
   "cell_type": "code",
   "execution_count": null,
   "id": "2fe1860f-4a9f-4946-943d-4baef711378d",
   "metadata": {},
   "outputs": [],
   "source": [
    "fig = plt.figure(figsize = (6,5))\n",
    "plt.pcolor(20*np.log10(np.abs((L1.f2_H_t.x*L1.f2.masker).reshape(N2[1],-1))),vmax = vmax, vmin = vmax - 80)\n",
    "plt.colorbar()\n",
    "plt.axis('equal')\n"
   ]
  },
  {
   "cell_type": "code",
   "execution_count": null,
   "id": "a35615ee-9ee1-4459-96d3-82fb18469692",
   "metadata": {},
   "outputs": [],
   "source": [
    "fig = plt.figure(figsize = (6,5))\n",
    "plt.pcolor(20*np.log10(np.abs(L1.f2_H_t.z.reshape(N2[1],-1))),vmax = vmax, vmin = vmax - 60)\n",
    "plt.colorbar()\n",
    "plt.axis('equal')"
   ]
  },
  {
   "cell_type": "code",
   "execution_count": null,
   "id": "8b97ba19-2697-4e6f-b764-9210da584f9f",
   "metadata": {},
   "outputs": [],
   "source": []
  }
 ],
 "metadata": {
  "kernelspec": {
   "display_name": "Python 3 (ipykernel)",
   "language": "python",
   "name": "python3"
  },
  "language_info": {
   "codemirror_mode": {
    "name": "ipython",
    "version": 3
   },
   "file_extension": ".py",
   "mimetype": "text/x-python",
   "name": "python",
   "nbconvert_exporter": "python",
   "pygments_lexer": "ipython3",
   "version": "3.9.21"
  }
 },
 "nbformat": 4,
 "nbformat_minor": 5
}
