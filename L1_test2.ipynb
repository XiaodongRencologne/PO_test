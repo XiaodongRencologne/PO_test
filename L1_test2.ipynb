{
 "cells": [
  {
   "cell_type": "code",
   "execution_count": null,
   "id": "f1691dbf-8c73-4ebe-8189-b5277660d5f0",
   "metadata": {},
   "outputs": [],
   "source": [
    "import pyvista as pv\n",
    "from Kirchhoffpy import lenspy\n",
    "from Kirchhoffpy import Feedpy\n",
    "import matplotlib.pyplot as plt\n",
    "import matplotlib.tri as tri\n",
    "import numpy as np\n",
    "import torch as T\n",
    "from Kirchhoffpy import coordinate,field_storage\n",
    "from Kirchhoffpy.Vopy import CO,dotproduct,abs_v\n",
    "c=299792458\n",
    "mu=4*np.pi*10**(-7);\n",
    "epsilon=8.854187817*10**(-12);\n",
    "Z0=np.sqrt(mu/epsilon,dtype = np.float64)\n",
    "p = pv.Plotter()\n",
    "srffolder = 'srf2/'\n"
   ]
  },
  {
   "cell_type": "code",
   "execution_count": null,
   "id": "7dbe3d4f-2c07-4d35-b11c-a2add43ad2c5",
   "metadata": {},
   "outputs": [],
   "source": [
    "# 1. define frequnecy and wavelength\n",
    "freq = 90*10**9\n",
    "Lambda = c*1000/freq\n",
    "k = 2*np.pi/Lambda\n",
    "print(Lambda,k)\n"
   ]
  },
  {
   "cell_type": "code",
   "execution_count": null,
   "id": "13b91e40-87e1-4602-8f26-31d7ddb7819d",
   "metadata": {},
   "outputs": [],
   "source": [
    "# 2. define coordinate systems\n",
    "coord_ref = coordinate.coord_sys([0,0,0],[0,0,0],axes = 'xyz')\n",
    "\n",
    "coord_L1 = coordinate.coord_sys([0,0,-(844.621988-4.34990822154231*10)],[np.pi,0,0],axes = 'xyz',ref_coord = coord_ref)\n",
    "\n",
    "coord_feed = coordinate.coord_sys([0,0,0],[np.pi,0,0],axes = 'xyz',ref_coord = coord_ref)\n",
    "\n",
    "coord_sky = coordinate.coord_sys([0,0,0],[np.pi,0,0],axes = 'xyz',ref_coord = coord_ref)\n"
   ]
  },
  {
   "cell_type": "code",
   "execution_count": null,
   "id": "edf4f650-2bdc-4674-a541-0a86cd732ff3",
   "metadata": {},
   "outputs": [],
   "source": [
    "# 3. define input Feedhorn\n",
    "feed= Feedpy.GaussiBeam(-8,8,\n",
    "                        k,\n",
    "                        coord_feed,\n",
    "                        polarization = 'x')\n"
   ]
  },
  {
   "cell_type": "code",
   "execution_count": null,
   "id": "621a2729-ac20-4174-b37b-7597af405653",
   "metadata": {},
   "outputs": [],
   "source": [
    "# 4. Lenses and aperture \n",
    "L1 = lenspy.simple_Lens(3.36,\n",
    "                        4.34990822154231*10,# Thickness\n",
    "                        44.3704085511817*10, # diameter\n",
    "                        srffolder + 'lens1_f2.rsf', \n",
    "                        srffolder + 'lens1_f1.rsf',\n",
    "                        p,\n",
    "                        coord_L1,\n",
    "                        name = 'L1',\n",
    "                        outputfolder = 'output/')\n",
    "#L2 = lenspy.simple_Lens(2,46.9671 ,400, srffolder + 'lens2_f1.rsf', srffolder + 'lens2_f2.rsf',p,[0,0,-227.64396727901004],name = 'L2')\n",
    "#L3 = lenspy.simple_Lens(2,29.6556 ,400, srffolder + 'lens3_f1.rsf', srffolder + 'lens3_f2.rsf',p,[0,0,-71.77590111674095],name = 'L3')\n"
   ]
  },
  {
   "cell_type": "code",
   "execution_count": null,
   "id": "cb530a7c-7782-4e22-93d2-36995513d003",
   "metadata": {},
   "outputs": [],
   "source": [
    "# 5. fiedl storage\n",
    "center_grd = field_storage.Spherical_grd(coord_sky,\n",
    "                                         0,\n",
    "                                         0,\n",
    "                                         20,\n",
    "                                         20,\n",
    "                                         501,501,\n",
    "                                         Type = 'ELoverAz', \n",
    "                                         far_near = 'far',\n",
    "                                         distance = 50000)\n"
   ]
  },
  {
   "cell_type": "code",
   "execution_count": null,
   "id": "c3022924-72ed-4ef3-bdd4-1e7216c19be7",
   "metadata": {},
   "outputs": [],
   "source": [
    "\n",
    "N1 =[380,1360]\n",
    "#N1 = [501,501]\n",
    "N2 = [380,380]\n",
    "L1.PO_analysis(#[N1[0],1,N1[1],1],\n",
    "               [1,N1[0],N1[1],1],\n",
    "               [1,N2[0],N2[1],1],\n",
    "               #[N2[0],1,N2[1],1],\n",
    "               #[5,N2[0],N2[1],1],\n",
    "            feed,k,\n",
    "            sampling_type_f1='polar',\n",
    "            phi_type_f1 = 'less',\n",
    "            sampling_type_f2='polar',#'rectangle',#\n",
    "            phi_type_f2 = 'less',\n",
    "            po_name = '_po_cur_0mm_x_cpu.h5',\n",
    "            Method ='POPO',\n",
    "            device = T.device('cuda'))\n",
    "\n"
   ]
  },
  {
   "cell_type": "code",
   "execution_count": null,
   "id": "5430f1b1-ca7d-4231-affb-816c4c70bf7a",
   "metadata": {},
   "outputs": [],
   "source": [
    "center_grd.grid.x = center_grd.grid.x.ravel()\n",
    "center_grd.grid.y = center_grd.grid.y.ravel()\n",
    "center_grd.grid.z = center_grd.grid.z.ravel()\n",
    "print(center_grd.grid.z.size)\n"
   ]
  },
  {
   "cell_type": "code",
   "execution_count": null,
   "id": "b030e8ed-2655-4dd4-ab99-158497024c3b",
   "metadata": {
    "scrolled": true
   },
   "outputs": [],
   "source": [
    "device = T.device('cuda')\n",
    "L1.source(center_grd,k,\n",
    "          far_near = 'far')\n"
   ]
  },
  {
   "cell_type": "code",
   "execution_count": null,
   "id": "fbedef97-a3bb-4f4d-8f63-a5238db640e0",
   "metadata": {},
   "outputs": [],
   "source": [
    "r, theta, phi = center_grd.coord_sys._toSpherical(center_grd.grid.x,center_grd.grid.y,center_grd.grid.z)\n",
    "co,cx,crho = CO(theta,phi)\n",
    "E_co = dotproduct(center_grd.E,co)\n",
    "E_cx = dotproduct(center_grd.E,cx)\n",
    "#H_co = dotproduct(center_grd.H,co)\n",
    "#H_cx = dotproduct(center_grd.H,cx)\n",
    "#E_co = center_grd.E.x\n",
    "#E_cx = center_grd.E.y\n",
    "#E_z = center_grd.E.z\n"
   ]
  },
  {
   "cell_type": "code",
   "execution_count": null,
   "id": "9b084722-7a92-4bfe-bf33-d7793b7aacab",
   "metadata": {},
   "outputs": [],
   "source": [
    "fig = plt.figure(figsize = (7,6))\n",
    "plt.pcolor(np.log10(np.abs(E_co.reshape(501,-1)))*20,vmax = 50, vmin = -20)\n",
    "plt.colorbar()\n"
   ]
  },
  {
   "cell_type": "code",
   "execution_count": null,
   "id": "c87782e3",
   "metadata": {},
   "outputs": [],
   "source": [
    "fig = plt.figure(figsize = (7,6))\n",
    "plt.pcolor(np.log10(np.abs(E_cx.reshape(501,-1)))*20,vmax = 50-40, vmin = -20-40)\n",
    "plt.colorbar()\n"
   ]
  },
  {
   "cell_type": "code",
   "execution_count": null,
   "id": "1f86aa24-9dc6-4924-8f41-bf13e04aa368",
   "metadata": {},
   "outputs": [],
   "source": [
    "import h5py as h5\n",
    "def readh5(fname):\n",
    "    name = fname.split('.')\n",
    "    with h5.File(name[0]+'.h5','r') as f:\n",
    "        co = f['co-polar'][:,:]\n",
    "        cx = f['cx-polar'][:,:]\n",
    "        Az = f['Az'][:]\n",
    "        El = f['El'][:]\n",
    "    return Az, El, co, cx\n"
   ]
  },
  {
   "cell_type": "code",
   "execution_count": null,
   "id": "bbc5940a-e90c-4de5-8c7f-c4e4c1b48255",
   "metadata": {},
   "outputs": [],
   "source": [
    "Az, El, grasp_co,grasp_cx = readh5('output/_H5/Lens1_POPO_nostop_GaussianBeam_force_farGHz.h5')\n",
    "#Az, El, grasp_co_2,grasp_cx_2 = readh5('output/_H5/Lens1_POPO_nostop_GaussianBeamGHz.h5')\n"
   ]
  },
  {
   "cell_type": "code",
   "execution_count": null,
   "id": "6b07a328-bce7-4bbb-aab2-0a34a3430647",
   "metadata": {},
   "outputs": [],
   "source": [
    "fig = plt.figure(figsize = (7,6))\n",
    "plt.pcolor(np.log10(np.abs(grasp_co.reshape(501,-1)))*20,vmax = 50, vmin = -20)\n",
    "plt.colorbar()\n"
   ]
  },
  {
   "cell_type": "code",
   "execution_count": null,
   "id": "31e138bb-5cb8-4daa-b33a-5397cb0691ac",
   "metadata": {},
   "outputs": [],
   "source": [
    "fig = plt.figure(figsize = (7,6))\n",
    "plt.pcolor(np.log10(np.abs(grasp_cx.reshape(501,-1)))*20,vmax = 50-40, vmin = -20-40)\n",
    "plt.colorbar()\n"
   ]
  },
  {
   "cell_type": "code",
   "execution_count": null,
   "id": "3a48100b-6d55-4c35-ad7c-84b312dd0d00",
   "metadata": {},
   "outputs": [],
   "source": [
    "fig  =  plt.figure(figsize= (10,6))\n",
    "plt.plot(np.log10(np.abs(grasp_co.reshape(501,-1)[250,:])/np.abs(grasp_co.reshape(501,-1)[250,:]).max())*20,'k-')\n",
    "plt.plot(np.log10(np.abs(E_co.reshape(501,-1)[250,:])/np.abs(E_co.reshape(501,-1)[250,:]).max())*20,'-')\n"
   ]
  },
  {
   "cell_type": "code",
   "execution_count": null,
   "id": "1974bd54-2132-488e-9e4e-2aabcd84caae",
   "metadata": {},
   "outputs": [],
   "source": [
    "fig  =  plt.figure(figsize= (10,6))\n",
    "plt.plot(np.log10(np.abs(grasp_co.reshape(501,-1)[250,:]))*20,'k-')\n",
    "plt.plot(np.log10(np.abs(E_co.reshape(501,-1)[250,:])**2)*10,'-')\n"
   ]
  },
  {
   "cell_type": "code",
   "execution_count": null,
   "id": "f155c057-599a-4003-961e-8b19449145de",
   "metadata": {},
   "outputs": [],
   "source": [
    "fig  =  plt.figure(figsize= (10,6))\n",
    "plt.plot(np.angle(grasp_co.reshape(501,-1)[250,:]/np.abs(grasp_co.reshape(501,-1)[250,:]).max()),'k-')\n",
    "plt.plot(np.angle(E_co.reshape(501,-1)[250,:]/np.abs(E_co.reshape(501,-1)[250,:]).max()),'-')\n"
   ]
  },
  {
   "cell_type": "code",
   "execution_count": null,
   "id": "c50d6720-7b59-46cb-8b42-1ccdf0862e81",
   "metadata": {},
   "outputs": [],
   "source": [
    "ratio = np.abs(E_co.reshape(501,-1)[250,:]).max()*np.sqrt(4*np.pi/Z0)/k/np.abs(grasp_co.reshape(501,-1)[250,:]).max()\n",
    "print(ratio)\n"
   ]
  },
  {
   "cell_type": "code",
   "execution_count": null,
   "id": "e2ac64f3-90a6-4133-8aba-86bb519ba8f7",
   "metadata": {},
   "outputs": [],
   "source": [
    "fig  =  plt.figure(figsize= (10,6))\n",
    "plt.plot(np.log10(np.abs(grasp_co.reshape(501,-1)[250,:]))*20,'k-')\n",
    "plt.plot(np.log10(np.abs(E_co.reshape(501,-1)[250,:])**2)*10,'-')\n"
   ]
  },
  {
   "cell_type": "code",
   "execution_count": null,
   "id": "475fb48c-bbe4-4427-b658-89cdab575b2c",
   "metadata": {},
   "outputs": [],
   "source": [
    "G_co = grasp_co.reshape(501,-1).T/grasp_co.reshape(501,-1)[250,250]\n",
    "H_co = E_co.reshape(501,-1).T/E_co.reshape(501,-1)[250,250]\n"
   ]
  },
  {
   "cell_type": "code",
   "execution_count": null,
   "id": "c09ca8ac-9d83-4573-9432-572ef2f25bda",
   "metadata": {},
   "outputs": [],
   "source": [
    "G_co = grasp_co.reshape(501,-1)/grasp_co.reshape(501,-1)[250,250]\n",
    "H_co = E_co.reshape(501,-1)/E_co.reshape(501,-1)[250,250]\n",
    "err = H_co-G_co\n",
    "fig = plt.figure(figsize=(5,5))\n",
    "plt.pcolor(np.abs(err))\n",
    "plt.colorbar()\n"
   ]
  },
  {
   "cell_type": "code",
   "execution_count": null,
   "id": "769576fc",
   "metadata": {},
   "outputs": [],
   "source": [
    "G_cx = grasp_cx.reshape(501,-1)/grasp_co.reshape(501,-1)[250,250]\n",
    "H_cx = E_cx.reshape(501,-1)/E_co.reshape(501,-1)[250,250]\n",
    "err = G_cx-H_cx\n",
    "fig = plt.figure(figsize=(5,5))\n",
    "plt.pcolor(np.abs(err))\n",
    "plt.colorbar()\n"
   ]
  },
  {
   "cell_type": "code",
   "execution_count": null,
   "id": "952e9e41-9ba6-4012-8681-f6d3f146f007",
   "metadata": {},
   "outputs": [],
   "source": [
    "fig  =  plt.figure(figsize= (10,6))\n",
    "plt.plot(np.log10(np.abs(grasp_co.reshape(501,-1)[250,:]))*20,'k-')\n",
    "plt.plot(np.log10(np.abs(E_co.reshape(501,-1)[250,:])**2)*10,'-')\n"
   ]
  },
  {
   "cell_type": "code",
   "execution_count": null,
   "id": "0f0a2014-7c13-40c8-8ae4-746d0ab85408",
   "metadata": {},
   "outputs": [],
   "source": [
    "fig  =  plt.figure(figsize= (10,6))\n",
    "plt.plot(center_grd.x,np.log10(np.abs(np.diagonal(grasp_cx.reshape(501,-1))))*20,'k-')\n",
    "plt.plot(center_grd.x,np.log10(np.abs(np.diagonal(np.flip(E_cx.reshape(501,-1),axis=-1))))*20,'-')\n",
    "plt.ylim([-80,0])\n",
    "plt.xlim([-5,5])\n"
   ]
  },
  {
   "cell_type": "markdown",
   "id": "add3d0ba",
   "metadata": {},
   "source": []
  },
  {
   "cell_type": "code",
   "execution_count": null,
   "id": "ff6e3c3a",
   "metadata": {},
   "outputs": [],
   "source": [
    "center_grd.grid.x.reshape\n"
   ]
  },
  {
   "cell_type": "code",
   "execution_count": null,
   "id": "d7924dad",
   "metadata": {},
   "outputs": [],
   "source": []
  }
 ],
 "metadata": {
  "kernelspec": {
   "display_name": "ccatholo",
   "language": "python",
   "name": "python3"
  },
  "language_info": {
   "codemirror_mode": {
    "name": "ipython",
    "version": 3
   },
   "file_extension": ".py",
   "mimetype": "text/x-python",
   "name": "python",
   "nbconvert_exporter": "python",
   "pygments_lexer": "ipython3",
   "version": "3.9.21"
  }
 },
 "nbformat": 4,
 "nbformat_minor": 5
}
