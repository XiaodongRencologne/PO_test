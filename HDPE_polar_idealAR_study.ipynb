{
 "cells": [
  {
   "cell_type": "code",
   "execution_count": 1,
   "metadata": {},
   "outputs": [
    {
     "name": "stdout",
     "output_type": "stream",
     "text": [
      "10\n"
     ]
    }
   ],
   "source": [
    "from twolenspy.HDPE_lens import HDEP_2lens\n",
    "import h5py as h5\n",
    "import numpy as np\n",
    "import matplotlib.pyplot as plt\n"
   ]
  },
  {
   "cell_type": "code",
   "execution_count": null,
   "metadata": {},
   "outputs": [],
   "source": [
    "PO_sampling_file = 'twolenspy/HDPE_PO_points.h5'\n"
   ]
  },
  {
   "cell_type": "markdown",
   "metadata": {},
   "source": [
    "## Using uniform sampling to study the polarizaiton rotation at 45deg"
   ]
  },
  {
   "cell_type": "code",
   "execution_count": null,
   "metadata": {},
   "outputs": [],
   "source": [
    "dx_list = [0]#[20,40,60,80,100,120]\n",
    "freq_list = [90,120,150]\n",
    "angle_list = [0,45,90,135]\n",
    "\n",
    "factor = 1.0\n",
    "for freq in freq_list:\n",
    "    factor = 90/freq \n",
    "    for item in dx_list:\n",
    "        for angle in angle_list:\n",
    "            print(freq, angle,item)\n",
    "            with h5.File(PO_sampling_file,'r') as f:\n",
    "                PO_no = f[str(freq)+'GHz'][str(item)][str(angle)]['POpoints'][:]\n",
    "\n",
    "            Model1 = HDEP_2lens(freq,\n",
    "                        feedpos = [item,0,0],\n",
    "                        feedrot = [0,0,angle],\n",
    "                        AR_file = 'AR_LIB/Ideal_AR.h5',\n",
    "                        groupname= 'ideal_AR',\n",
    "                        outputfolder = '../Data/HDPE/idealAR/'+str(freq)+'GHz/',\n",
    "                        grid_sizex = 0.2*factor,\n",
    "                        grid_sizey = 0.2*factor)\n",
    "\n",
    "            Model1.run_po(PO_no[0:2],\n",
    "                          PO_no[2:4],\n",
    "                        sampling_type = 'less')\n"
   ]
  },
  {
   "cell_type": "markdown",
   "metadata": {},
   "source": [
    "150GHz: Lens3 2.5 2.5, lens2 3.5,2.5, lens1 3.5 2.5"
   ]
  },
  {
   "cell_type": "code",
   "execution_count": null,
   "metadata": {},
   "outputs": [],
   "source": [
    "for freq in freq_list:\n",
    "    factor = 90/freq \n",
    "    for item in dx_list:\n",
    "        for angle in angle_list:\n",
    "            print(freq, angle,item)\n",
    "            with h5.File(PO_sampling_file,'r') as f:\n",
    "                PO_no = f[str(freq)+'GHz'][str(item)][str(45)]['POpoints'][:]\n",
    "\n",
    "            Model1 = HDEP_2lens(freq,\n",
    "                        feedpos = [item,0,0],\n",
    "                        feedrot = [0,0,angle],\n",
    "                        AR_file = 'AR_LIB/Ideal_AR.h5',\n",
    "                        groupname= 'ideal_AR',\n",
    "                        outputfolder = '../Data/HDPE/idealAR/'+str(freq)+'GHz/',\n",
    "                        grid_sizex = 0.2*factor,\n",
    "                        grid_sizey = 0.2*factor)\n",
    "\n",
    "            Model1.plot_beam(cmap = 'inferno',plot = True)\n"
   ]
  },
  {
   "cell_type": "code",
   "execution_count": null,
   "metadata": {},
   "outputs": [],
   "source": []
  }
 ],
 "metadata": {
  "kernelspec": {
   "display_name": "ccatholo",
   "language": "python",
   "name": "python3"
  },
  "language_info": {
   "codemirror_mode": {
    "name": "ipython",
    "version": 3
   },
   "file_extension": ".py",
   "mimetype": "text/x-python",
   "name": "python",
   "nbconvert_exporter": "python",
   "pygments_lexer": "ipython3",
   "version": "3.9.21"
  }
 },
 "nbformat": 4,
 "nbformat_minor": 2
}
