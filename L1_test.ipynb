{
 "cells": [
  {
   "cell_type": "code",
   "execution_count": 1,
   "id": "f1691dbf-8c73-4ebe-8189-b5277660d5f0",
   "metadata": {},
   "outputs": [],
   "source": [
    "import pyvista as pv\n",
    "from Kirchhoffpy import lenspy\n",
    "from Kirchhoffpy import Feedpy\n",
    "import matplotlib.pyplot as plt\n",
    "import matplotlib.tri as tri\n",
    "import numpy as np\n",
    "from Kirchhoffpy import LensPO\n",
    "c=299792458"
   ]
  },
  {
   "cell_type": "code",
   "execution_count": 2,
   "id": "7dbe3d4f-2c07-4d35-b11c-a2add43ad2c5",
   "metadata": {},
   "outputs": [
    {
     "name": "stdout",
     "output_type": "stream",
     "text": [
      "3.3310273111111113 1.8862605197565134\n"
     ]
    }
   ],
   "source": [
    "freq = 90*10**9\n",
    "Lambda = c*1000/freq\n",
    "k = 2*np.pi/Lambda\n",
    "print(Lambda,k)"
   ]
  },
  {
   "cell_type": "code",
   "execution_count": 3,
   "id": "edf4f650-2bdc-4674-a541-0a86cd732ff3",
   "metadata": {},
   "outputs": [],
   "source": [
    "feed= Feedpy.GaussiBeam(-8,8,\n",
    "                        k,\n",
    "                        [0,0,0],\n",
    "                        [0,0,-960],\n",
    "                        polarization = 'x')"
   ]
  },
  {
   "cell_type": "code",
   "execution_count": 4,
   "id": "621a2729-ac20-4174-b37b-7597af405653",
   "metadata": {},
   "outputs": [],
   "source": [
    "p = pv.Plotter()\n",
    "srffolder = 'srf2/'\n",
    "L1 = lenspy.simple_Lens(3.36,\n",
    "                        43.499082,# Thickness\n",
    "                        433.70409, # diameter\n",
    "                        srffolder + 'lens1_f2.rsf', \n",
    "                        srffolder + 'lens1_f1.rsf',\n",
    "                        p,\n",
    "                        [0,0,-803.972001+43.499082],name = 'L1')\n",
    "#L2 = lenspy.simple_Lens(2,46.9671 ,400, srffolder + 'lens2_f1.rsf', srffolder + 'lens2_f2.rsf',p,[0,0,-227.64396727901004],name = 'L2')\n",
    "#L3 = lenspy.simple_Lens(2,29.6556 ,400, srffolder + 'lens3_f1.rsf', srffolder + 'lens3_f2.rsf',p,[0,0,-71.77590111674095],name = 'L3')"
   ]
  },
  {
   "cell_type": "code",
   "execution_count": 5,
   "id": "c3022924-72ed-4ef3-bdd4-1e7216c19be7",
   "metadata": {},
   "outputs": [
    {
     "name": "stdout",
     "output_type": "stream",
     "text": [
      "Gain of the Guassian feedhonr!\n",
      "34.78920463969227 dB\n",
      "input power\n",
      "27.831926403004424\n",
      "poynting value max!\n",
      "2.438619718624981e-06\n",
      "1.5412844036663507\n",
      "cores: 116\n"
     ]
    },
    {
     "name": "stderr",
     "output_type": "stream",
     "text": [
      "100%|█████████████████████████████████████████| 348/348 [03:26<00:00,  1.68it/s]\n"
     ]
    },
    {
     "name": "stdout",
     "output_type": "stream",
     "text": [
      "Transform f1\n",
      "5.822941859252523\n",
      "poynting value max!\n",
      "1.724131439813363e-06\n",
      "f2\n",
      "5.804076932383014\n",
      "poynting value max!\n",
      "2.0977250713527666e-07\n",
      "13.906229676935132\n",
      "poynting value max!\n",
      "1.4831151081022845e-07\n"
     ]
    }
   ],
   "source": [
    "L1.method = LensPO.lensPO\n",
    "N1 =[81,1401]\n",
    "N2 = [201,201]\n",
    "L1.analysis([5,N1[0],N1[1],1],\n",
    "            [N2[0],1,N2[1],1],\n",
    "            feed.beam,k,\n",
    "            sampling_type_f1='polar',\n",
    "            phi_type_f1 = 'less',\n",
    "            sampling_type_f2='rectangle',\n",
    "            phi_type_f2 = 'uniform',)"
   ]
  },
  {
   "cell_type": "code",
   "execution_count": null,
   "id": "a9ac836a-7c22-4b7c-a793-fad6208bed52",
   "metadata": {},
   "outputs": [],
   "source": [
    "plt.plot(L1.f1.x,L1.f1.y,'*')"
   ]
  },
  {
   "cell_type": "code",
   "execution_count": null,
   "id": "5f11a0fb-bd93-4673-8697-335cf3a908b6",
   "metadata": {},
   "outputs": [],
   "source": [
    "'''\n",
    "fig = plt.figure(figsize = (6,5))\n",
    "vmax = 20*np.log10(np.abs(L1.f1_E_t.x.reshape(N1[0],-1)).max())\n",
    "print(vmax)\n",
    "vmin = vmax -10\n",
    "triang = tri.Triangulation(L1.f1.y,L1.f1.x)\n",
    "plt.tripcolor(triang,\n",
    "           20*np.log10(np.abs(L1.f1_E_t.x)),vmax=vmax,vmin=vmin)\n",
    "plt.colorbar()\n",
    "'''"
   ]
  },
  {
   "cell_type": "code",
   "execution_count": null,
   "id": "94b8e422-cf42-47bf-aa49-9b9b3293918a",
   "metadata": {},
   "outputs": [],
   "source": [
    "'''\n",
    "fig = plt.figure(figsize = (6,5))\n",
    "plt.tripcolor(triang,\n",
    "              20*np.log10(np.abs(L1.f1_E_t.y)),vmax=vmax,vmin=vmax-80)\n",
    "plt.colorbar()\n",
    "'''"
   ]
  },
  {
   "cell_type": "code",
   "execution_count": null,
   "id": "832174bc-9cd1-4edf-8fad-1e23b8e545b3",
   "metadata": {},
   "outputs": [],
   "source": [
    "'''\n",
    "fig = plt.figure(figsize = (6,5))\n",
    "plt.tripcolor(triang,\n",
    "              20*np.log10(np.abs(L1.f1_E_t.z)),vmax=vmax,vmin=vmax-50)\n",
    "plt.colorbar()\n",
    "'''"
   ]
  },
  {
   "cell_type": "code",
   "execution_count": null,
   "id": "18057577-e9e5-4d28-a399-14270e2b5ee1",
   "metadata": {},
   "outputs": [],
   "source": [
    "'''\n",
    "plt.plot(L1.f2.x.reshape(N2[1],-1)[0,:],L1.f2.z.reshape(N2[1],N2[0])[int(N2[1]/2),:])\n",
    "plt.plot(L1.f1.x.reshape(N1[0],N1[1])[:,0],L1.f1.z.reshape(N1[0],N1[1])[:,0])\n",
    "plt.plot(L1.f1.x.reshape(N1[0],N1[1])[:,int(N1[1]/2)],L1.f1.z.reshape(N1[0],N1[1])[:,int(N1[1]/2)])\n",
    "plt.axis('equal')\n",
    "'''"
   ]
  },
  {
   "cell_type": "code",
   "execution_count": null,
   "id": "356cfb0c-dd60-4fef-b5df-7dc46065fd76",
   "metadata": {},
   "outputs": [],
   "source": [
    "fig = plt.figure(figsize = (6,5))\n",
    "vmax = 20*np.log10(np.abs(L1.f2_E.x.reshape(N2[0],-1)).max())\n",
    "print(vmax)\n",
    "vmin = vmax -10\n",
    "plt.pcolor(L1.f2.y.reshape(N2[1],-1)[:,0], L1.f2.x.reshape(N2[1],-1)[0,:],\n",
    "    20*np.log10(np.abs(L1.f2_E.x.reshape(N2[1],-1))),vmax = vmax, vmin = vmin)\n",
    "plt.colorbar()\n",
    "plt.axis('equal')"
   ]
  },
  {
   "cell_type": "code",
   "execution_count": null,
   "id": "c04d2d0b-f471-471f-99fa-fdd16d786b15",
   "metadata": {},
   "outputs": [],
   "source": [
    "fig = plt.figure(figsize = (6,5))\n",
    "plt.pcolor(L1.f2.y.reshape(N2[1],-1)[:,0], L1.f2.x.reshape(N2[1],-1)[0,:],\n",
    "    20*np.log10(np.abs(L1.f2_E.y.reshape(N2[1],-1))),vmax = vmax, vmin = vmin-60)\n",
    "plt.colorbar()\n",
    "plt.axis('equal')"
   ]
  },
  {
   "cell_type": "code",
   "execution_count": null,
   "id": "b8df658d-cb1d-49ef-b2f4-fe7e57d65853",
   "metadata": {},
   "outputs": [],
   "source": [
    "fig = plt.figure(figsize = (6,5))\n",
    "plt.pcolor(20*np.log10(np.abs(L1.f2_E.z.reshape(N2[1],-1))),vmax = vmax, vmin = vmax -80)\n",
    "plt.colorbar()\n",
    "plt.axis('equal')"
   ]
  },
  {
   "cell_type": "code",
   "execution_count": null,
   "id": "60c886a7-a60d-4f29-a26e-20e36df31123",
   "metadata": {},
   "outputs": [],
   "source": [
    "fig = plt.figure(figsize = (6,5))\n",
    "vmax = 20*np.log10(np.abs(L1.f2_H.y.reshape(N2[1],-1)).max())\n",
    "print(vmax)\n",
    "vmin = vmax -10\n",
    "plt.pcolor(20*np.log10(np.abs(L1.f2_H.y.reshape(N2[1],-1))),vmax = vmax, vmin = vmin)\n",
    "plt.colorbar()\n",
    "plt.axis('equal')"
   ]
  },
  {
   "cell_type": "code",
   "execution_count": null,
   "id": "c3b09285-245c-4f85-822b-7b7cc24d0219",
   "metadata": {},
   "outputs": [],
   "source": [
    "fig = plt.figure(figsize = (6,5))\n",
    "plt.pcolor(20*np.log10(np.abs(L1.f2_H.x.reshape(N2[1],-1))),vmax = vmax, vmin = vmin-80)\n",
    "plt.colorbar()\n",
    "plt.axis('equal')"
   ]
  },
  {
   "cell_type": "code",
   "execution_count": null,
   "id": "5d98b22f-27c9-4421-8e90-0aafe066d430",
   "metadata": {},
   "outputs": [],
   "source": [
    "fig = plt.figure(figsize = (6,5))\n",
    "plt.pcolor(20*np.log10(np.abs(L1.f2_H.z.reshape(N2[1],-1))),vmax = vmax, vmin = vmax - 80)\n",
    "plt.colorbar()\n",
    "plt.axis('equal')"
   ]
  },
  {
   "cell_type": "code",
   "execution_count": null,
   "id": "4d7574f2-7cc0-4257-8f90-496f396229e8",
   "metadata": {},
   "outputs": [],
   "source": [
    "fig = plt.figure(figsize = (6,5))\n",
    "vmax = 20*np.log10(np.nanmax(np.abs(L1.f2_E_t.x.reshape(N2[1],-1))))\n",
    "print(vmax)\n",
    "vmin =vmax -10\n",
    "Masker = np.ones(L1.f2_E_t.x.shape)\n",
    "NN = np.where(L1.f2.w == 0.0)\n",
    "Masker[NN] = 0.0\n",
    "plt.pcolor(20*np.log10(np.abs((L1.f2_E_t.x).reshape(N2[1],-1))),vmax = vmax, vmin = vmin)\n",
    "plt.colorbar()\n",
    "plt.axis('equal')"
   ]
  },
  {
   "cell_type": "code",
   "execution_count": null,
   "id": "1afab039-61a7-40af-9694-7dfd8a55157c",
   "metadata": {},
   "outputs": [],
   "source": [
    "fig = plt.figure(figsize = (6,5))\n",
    "plt.pcolor(20*np.log10(np.abs(L1.f2_E_t.y.reshape(N2[1],-1))),vmax = vmax, vmin = vmax-80)\n",
    "plt.colorbar()\n",
    "plt.axis('equal')"
   ]
  },
  {
   "cell_type": "code",
   "execution_count": null,
   "id": "618cbf65-9377-4bb2-8b85-0b682ce1b126",
   "metadata": {},
   "outputs": [],
   "source": [
    "fig = plt.figure(figsize = (6,5))\n",
    "plt.pcolor(20*np.log10(np.abs(L1.f2_E_t.z.reshape(N2[1],-1))),vmax = vmax, vmin = vmax-80)\n",
    "plt.colorbar()\n",
    "plt.axis('equal')"
   ]
  },
  {
   "cell_type": "code",
   "execution_count": null,
   "id": "332b8413-82b2-484c-af8f-edb6006ed4ba",
   "metadata": {},
   "outputs": [],
   "source": [
    "fig = plt.figure(figsize = (6,5))\n",
    "vmax = 20*np.log10(np.nanmax(np.abs(L1.f2_H_t.y.reshape(N2[1],-1))))\n",
    "print(vmax)\n",
    "vmin =vmax -10\n",
    "plt.pcolor(20*np.log10(np.abs(L1.f2_H_t.y.reshape(N2[1],-1))),vmax = vmax, vmin = vmin)\n",
    "plt.colorbar()\n",
    "plt.axis('equal')"
   ]
  },
  {
   "cell_type": "code",
   "execution_count": null,
   "id": "2fe1860f-4a9f-4946-943d-4baef711378d",
   "metadata": {},
   "outputs": [],
   "source": [
    "fig = plt.figure(figsize = (6,5))\n",
    "plt.pcolor(20*np.log10(np.abs((L1.f2_H_t.x*L1.f2.masker).reshape(N2[1],-1))),vmax = vmax, vmin = vmax - 80)\n",
    "plt.colorbar()\n",
    "plt.axis('equal')\n"
   ]
  },
  {
   "cell_type": "code",
   "execution_count": null,
   "id": "a35615ee-9ee1-4459-96d3-82fb18469692",
   "metadata": {},
   "outputs": [],
   "source": [
    "fig = plt.figure(figsize = (6,5))\n",
    "plt.pcolor(20*np.log10(np.abs(L1.f2_H_t.z.reshape(N2[1],-1))),vmax = vmax, vmin = vmax - 60)\n",
    "plt.colorbar()\n",
    "plt.axis('equal')"
   ]
  },
  {
   "cell_type": "code",
   "execution_count": null,
   "id": "8b97ba19-2697-4e6f-b764-9210da584f9f",
   "metadata": {},
   "outputs": [],
   "source": []
  }
 ],
 "metadata": {
  "kernelspec": {
   "display_name": "Python 3 (ipykernel)",
   "language": "python",
   "name": "python3"
  },
  "language_info": {
   "codemirror_mode": {
    "name": "ipython",
    "version": 3
   },
   "file_extension": ".py",
   "mimetype": "text/x-python",
   "name": "python",
   "nbconvert_exporter": "python",
   "pygments_lexer": "ipython3",
   "version": "3.9.21"
  }
 },
 "nbformat": 4,
 "nbformat_minor": 5
}
