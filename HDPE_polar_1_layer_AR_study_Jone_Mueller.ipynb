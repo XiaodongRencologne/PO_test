{
 "cells": [
  {
   "cell_type": "code",
   "execution_count": 1,
   "metadata": {},
   "outputs": [
    {
     "name": "stdout",
     "output_type": "stream",
     "text": [
      "10\n"
     ]
    }
   ],
   "source": [
    "from twolenspy.HDPE_lens import HDEP_2lens\n",
    "import h5py as h5\n",
    "import numpy as np\n",
    "import matplotlib.pyplot as plt\n",
    "from polarizationpy.stoke_param import Jone_Matrix, Mueller_Matrix,unpolarized_s_beam\n"
   ]
  },
  {
   "cell_type": "code",
   "execution_count": 2,
   "metadata": {},
   "outputs": [],
   "source": [
    "Polar_offset = {}\n"
   ]
  },
  {
   "cell_type": "code",
   "execution_count": 8,
   "metadata": {},
   "outputs": [
    {
     "name": "stdout",
     "output_type": "stream",
     "text": [
      "90 0 45\n",
      "90 0 135\n"
     ]
    },
    {
     "ename": "FileNotFoundError",
     "evalue": "[Errno 2] Unable to synchronously open file (unable to open file: name = '../Data/HDPE/AR/90GHz/0_0_0mm_polar_135_grd.h5', errno = 2, error message = 'No such file or directory', flags = 0, o_flags = 0)",
     "output_type": "error",
     "traceback": [
      "\u001b[0;31m---------------------------------------------------------------------------\u001b[0m",
      "\u001b[0;31mFileNotFoundError\u001b[0m                         Traceback (most recent call last)",
      "Cell \u001b[0;32mIn[8], line 22\u001b[0m\n\u001b[1;32m     15\u001b[0m \u001b[38;5;28mprint\u001b[39m(freq,item, angle_list[\u001b[38;5;241m1\u001b[39m])\n\u001b[1;32m     16\u001b[0m Model1 \u001b[38;5;241m=\u001b[39m HDEP_2lens(freq,\n\u001b[1;32m     17\u001b[0m             feedpos \u001b[38;5;241m=\u001b[39m [item,\u001b[38;5;241m0\u001b[39m,\u001b[38;5;241m0\u001b[39m],\n\u001b[1;32m     18\u001b[0m             feedrot \u001b[38;5;241m=\u001b[39m [\u001b[38;5;241m0\u001b[39m,\u001b[38;5;241m0\u001b[39m,angle_list[\u001b[38;5;241m1\u001b[39m]],\n\u001b[1;32m     19\u001b[0m             AR_file \u001b[38;5;241m=\u001b[39m \u001b[38;5;28;01mNone\u001b[39;00m,\n\u001b[1;32m     20\u001b[0m             groupname\u001b[38;5;241m=\u001b[39m \u001b[38;5;28;01mNone\u001b[39;00m,\n\u001b[1;32m     21\u001b[0m             outputfolder \u001b[38;5;241m=\u001b[39m \u001b[38;5;124m'\u001b[39m\u001b[38;5;124m../Data/HDPE/AR/\u001b[39m\u001b[38;5;124m'\u001b[39m\u001b[38;5;241m+\u001b[39m\u001b[38;5;28mstr\u001b[39m(freq)\u001b[38;5;241m+\u001b[39m\u001b[38;5;124m'\u001b[39m\u001b[38;5;124mGHz/\u001b[39m\u001b[38;5;124m'\u001b[39m)\n\u001b[0;32m---> 22\u001b[0m Eco_90,Ecx_90,x90,y90 \u001b[38;5;241m=\u001b[39m \u001b[43mModel1\u001b[49m\u001b[38;5;241;43m.\u001b[39;49m\u001b[43mread_beam\u001b[49m\u001b[43m(\u001b[49m\u001b[43m)\u001b[49m\n\u001b[1;32m     23\u001b[0m \u001b[38;5;28mprint\u001b[39m(x90\u001b[38;5;241m.\u001b[39mmax(),x0\u001b[38;5;241m.\u001b[39mmax())\n\u001b[1;32m     24\u001b[0m Juv \u001b[38;5;241m=\u001b[39m Jone_Matrix(Eco_0,Ecx_0,Eco_90,Ecx_90)\n",
      "File \u001b[0;32m~/Documents/Lens_PO/PO_test/twolenspy/HDPE_lens.py:307\u001b[0m, in \u001b[0;36mHDEP_2lens.read_beam\u001b[0;34m(self, field_name)\u001b[0m\n\u001b[1;32m    305\u001b[0m \u001b[38;5;28;01mif\u001b[39;00m field_name \u001b[38;5;241m==\u001b[39m \u001b[38;5;28;01mNone\u001b[39;00m:\n\u001b[1;32m    306\u001b[0m     field_name \u001b[38;5;241m=\u001b[39m \u001b[38;5;28mself\u001b[39m\u001b[38;5;241m.\u001b[39mfield_grid_fname\n\u001b[0;32m--> 307\u001b[0m x, y, Ex, Ey, Ez \u001b[38;5;241m=\u001b[39m \u001b[43mfield_storage\u001b[49m\u001b[38;5;241;43m.\u001b[39;49m\u001b[43mread_grd\u001b[49m\u001b[43m(\u001b[49m\u001b[43mfield_name\u001b[49m\u001b[43m)\u001b[49m\n\u001b[1;32m    308\u001b[0m E \u001b[38;5;241m=\u001b[39m vector()\n\u001b[1;32m    309\u001b[0m E\u001b[38;5;241m.\u001b[39mx \u001b[38;5;241m=\u001b[39m Ex\n",
      "File \u001b[0;32m~/Documents/Lens_PO/PO_test/Kirchhoffpy/field_storage.py:75\u001b[0m, in \u001b[0;36mread_grd\u001b[0;34m(fname)\u001b[0m\n\u001b[1;32m     74\u001b[0m \u001b[38;5;28;01mdef\u001b[39;00m\u001b[38;5;250m \u001b[39m\u001b[38;5;21mread_grd\u001b[39m(fname):\n\u001b[0;32m---> 75\u001b[0m     \u001b[38;5;28;01mwith\u001b[39;00m \u001b[43mh5py\u001b[49m\u001b[38;5;241;43m.\u001b[39;49m\u001b[43mFile\u001b[49m\u001b[43m(\u001b[49m\u001b[43mfname\u001b[49m\u001b[43m,\u001b[49m\u001b[38;5;124;43m'\u001b[39;49m\u001b[38;5;124;43mr\u001b[39;49m\u001b[38;5;124;43m'\u001b[39;49m\u001b[43m)\u001b[49m \u001b[38;5;28;01mas\u001b[39;00m f:\n\u001b[1;32m     76\u001b[0m         Type \u001b[38;5;241m=\u001b[39m f\u001b[38;5;241m.\u001b[39mattrs[\u001b[38;5;124m'\u001b[39m\u001b[38;5;124mgrid_type\u001b[39m\u001b[38;5;124m'\u001b[39m]\n\u001b[1;32m     77\u001b[0m         \u001b[38;5;28;01mif\u001b[39;00m Type \u001b[38;5;241m==\u001b[39m \u001b[38;5;124m'\u001b[39m\u001b[38;5;124muv\u001b[39m\u001b[38;5;124m'\u001b[39m:\n",
      "File \u001b[0;32m~/miniconda3/envs/ccatholo/lib/python3.9/site-packages/h5py/_hl/files.py:564\u001b[0m, in \u001b[0;36mFile.__init__\u001b[0;34m(self, name, mode, driver, libver, userblock_size, swmr, rdcc_nslots, rdcc_nbytes, rdcc_w0, track_order, fs_strategy, fs_persist, fs_threshold, fs_page_size, page_buf_size, min_meta_keep, min_raw_keep, locking, alignment_threshold, alignment_interval, meta_block_size, **kwds)\u001b[0m\n\u001b[1;32m    555\u001b[0m     fapl \u001b[38;5;241m=\u001b[39m make_fapl(driver, libver, rdcc_nslots, rdcc_nbytes, rdcc_w0,\n\u001b[1;32m    556\u001b[0m                      locking, page_buf_size, min_meta_keep, min_raw_keep,\n\u001b[1;32m    557\u001b[0m                      alignment_threshold\u001b[38;5;241m=\u001b[39malignment_threshold,\n\u001b[1;32m    558\u001b[0m                      alignment_interval\u001b[38;5;241m=\u001b[39malignment_interval,\n\u001b[1;32m    559\u001b[0m                      meta_block_size\u001b[38;5;241m=\u001b[39mmeta_block_size,\n\u001b[1;32m    560\u001b[0m                      \u001b[38;5;241m*\u001b[39m\u001b[38;5;241m*\u001b[39mkwds)\n\u001b[1;32m    561\u001b[0m     fcpl \u001b[38;5;241m=\u001b[39m make_fcpl(track_order\u001b[38;5;241m=\u001b[39mtrack_order, fs_strategy\u001b[38;5;241m=\u001b[39mfs_strategy,\n\u001b[1;32m    562\u001b[0m                      fs_persist\u001b[38;5;241m=\u001b[39mfs_persist, fs_threshold\u001b[38;5;241m=\u001b[39mfs_threshold,\n\u001b[1;32m    563\u001b[0m                      fs_page_size\u001b[38;5;241m=\u001b[39mfs_page_size)\n\u001b[0;32m--> 564\u001b[0m     fid \u001b[38;5;241m=\u001b[39m \u001b[43mmake_fid\u001b[49m\u001b[43m(\u001b[49m\u001b[43mname\u001b[49m\u001b[43m,\u001b[49m\u001b[43m \u001b[49m\u001b[43mmode\u001b[49m\u001b[43m,\u001b[49m\u001b[43m \u001b[49m\u001b[43muserblock_size\u001b[49m\u001b[43m,\u001b[49m\u001b[43m \u001b[49m\u001b[43mfapl\u001b[49m\u001b[43m,\u001b[49m\u001b[43m \u001b[49m\u001b[43mfcpl\u001b[49m\u001b[43m,\u001b[49m\u001b[43m \u001b[49m\u001b[43mswmr\u001b[49m\u001b[38;5;241;43m=\u001b[39;49m\u001b[43mswmr\u001b[49m\u001b[43m)\u001b[49m\n\u001b[1;32m    566\u001b[0m \u001b[38;5;28;01mif\u001b[39;00m \u001b[38;5;28misinstance\u001b[39m(libver, \u001b[38;5;28mtuple\u001b[39m):\n\u001b[1;32m    567\u001b[0m     \u001b[38;5;28mself\u001b[39m\u001b[38;5;241m.\u001b[39m_libver \u001b[38;5;241m=\u001b[39m libver\n",
      "File \u001b[0;32m~/miniconda3/envs/ccatholo/lib/python3.9/site-packages/h5py/_hl/files.py:238\u001b[0m, in \u001b[0;36mmake_fid\u001b[0;34m(name, mode, userblock_size, fapl, fcpl, swmr)\u001b[0m\n\u001b[1;32m    236\u001b[0m     \u001b[38;5;28;01mif\u001b[39;00m swmr \u001b[38;5;129;01mand\u001b[39;00m swmr_support:\n\u001b[1;32m    237\u001b[0m         flags \u001b[38;5;241m|\u001b[39m\u001b[38;5;241m=\u001b[39m h5f\u001b[38;5;241m.\u001b[39mACC_SWMR_READ\n\u001b[0;32m--> 238\u001b[0m     fid \u001b[38;5;241m=\u001b[39m \u001b[43mh5f\u001b[49m\u001b[38;5;241;43m.\u001b[39;49m\u001b[43mopen\u001b[49m\u001b[43m(\u001b[49m\u001b[43mname\u001b[49m\u001b[43m,\u001b[49m\u001b[43m \u001b[49m\u001b[43mflags\u001b[49m\u001b[43m,\u001b[49m\u001b[43m \u001b[49m\u001b[43mfapl\u001b[49m\u001b[38;5;241;43m=\u001b[39;49m\u001b[43mfapl\u001b[49m\u001b[43m)\u001b[49m\n\u001b[1;32m    239\u001b[0m \u001b[38;5;28;01melif\u001b[39;00m mode \u001b[38;5;241m==\u001b[39m \u001b[38;5;124m'\u001b[39m\u001b[38;5;124mr+\u001b[39m\u001b[38;5;124m'\u001b[39m:\n\u001b[1;32m    240\u001b[0m     fid \u001b[38;5;241m=\u001b[39m h5f\u001b[38;5;241m.\u001b[39mopen(name, h5f\u001b[38;5;241m.\u001b[39mACC_RDWR, fapl\u001b[38;5;241m=\u001b[39mfapl)\n",
      "File \u001b[0;32mh5py/_objects.pyx:54\u001b[0m, in \u001b[0;36mh5py._objects.with_phil.wrapper\u001b[0;34m()\u001b[0m\n",
      "File \u001b[0;32mh5py/_objects.pyx:55\u001b[0m, in \u001b[0;36mh5py._objects.with_phil.wrapper\u001b[0;34m()\u001b[0m\n",
      "File \u001b[0;32mh5py/h5f.pyx:102\u001b[0m, in \u001b[0;36mh5py.h5f.open\u001b[0;34m()\u001b[0m\n",
      "\u001b[0;31mFileNotFoundError\u001b[0m: [Errno 2] Unable to synchronously open file (unable to open file: name = '../Data/HDPE/AR/90GHz/0_0_0mm_polar_135_grd.h5', errno = 2, error message = 'No such file or directory', flags = 0, o_flags = 0)"
     ]
    }
   ],
   "source": [
    "dx_list = [0]\n",
    "angle = 45\n",
    "angle_list = [angle,angle +90]\n",
    "freq_list = [90]\n",
    "for freq in freq_list:\n",
    "    for item in dx_list:\n",
    "        print(freq,item, angle_list[0])\n",
    "        Model1 = HDEP_2lens(freq,\n",
    "                    feedpos = [item,0,0],\n",
    "                    feedrot = [0,0,angle_list[0]],\n",
    "                    AR_file = None,\n",
    "                    groupname= None,\n",
    "                    outputfolder = '../Data/HDPE/AR/'+str(freq)+'GHz/')\n",
    "        Eco_0,Ecx_0,x0,y0 = Model1.read_beam()\n",
    "        print(freq,item, angle_list[1])\n",
    "        Model1 = HDEP_2lens(freq,\n",
    "                    feedpos = [item,0,0],\n",
    "                    feedrot = [0,0,angle_list[1]],\n",
    "                    AR_file = None,\n",
    "                    groupname= None,\n",
    "                    outputfolder = '../Data/HDPE/AR/'+str(freq)+'GHz/')\n",
    "        Eco_90,Ecx_90,x90,y90 = Model1.read_beam()\n",
    "        print(x90.max(),x0.max())\n",
    "        Juv = Jone_Matrix(Eco_0,Ecx_0,Eco_90,Ecx_90)\n",
    "        print(Juv.shape)\n",
    "        Muv = Mueller_Matrix(Juv)\n",
    "        I,q,u,v = unpolarized_s_beam(Muv,np.ones(1))\n",
    "\n",
    "\n",
    "phi = 1/2*np.atan2(Muv[:,2,1]-Muv[:,1,2],Muv[:,1,1]+Muv[:,2,2])*180/np.pi\n",
    "phi2 = 1/2*np.atan2(u,q)*180/np.pi\n",
    "i = Muv[:,0,0]\n",
    "NN = np.where(i/i.max()>= 10**(-7/10))\n",
    "print(phi[NN].mean())\n",
    "print((phi[NN]).std())\n",
    "\n",
    "print(phi2[NN].mean())\n",
    "print(phi2[NN].std())\n"
   ]
  },
  {
   "cell_type": "code",
   "execution_count": null,
   "metadata": {},
   "outputs": [],
   "source": [
    "fig,ax= plt.subplots(2,2, figsize=(10,8))\n",
    "cmap = 'inferno'\n",
    "vmax = 0\n",
    "vmin = -60\n",
    "ax[0,0].pcolor(np.log10(I.reshape(201,-1))*10,cmap=cmap,vmin=vmin,vmax=vmax)\n",
    "ax[0,1].pcolor(np.log10(np.abs(q).reshape(201,-1))*10,cmap=cmap,vmin=vmin,vmax=vmax)\n",
    "ax[1,0].pcolor(np.log10(np.abs(u).reshape(201,-1))*10,cmap=cmap,vmin=vmin,vmax=vmax)\n",
    "ax[1,1].pcolor(np.log10(np.abs(v).reshape(201,-1))*10,cmap=cmap,vmin=vmin,vmax=vmax)\n",
    "plt.show()\n",
    "\n",
    "fig = plt.figure(figsize=(6,5))\n",
    "#plt.pcolor((phi.reshape(201,-1)),cmap='jet',vmin = -20 ,vmax=20)\n",
    "plt.pcolor((phi2.reshape(201,-1)-angle),cmap='jet')\n",
    "plt.colorbar()\n",
    "plt.show()\n",
    "\n",
    "fig = plt.figure(figsize=(6,5))\n",
    "#plt.pcolor((phi.reshape(201,-1)-angle),cmap='jet',vmin = -10 ,vmax=10)\n",
    "plt.pcolor(np.log10(np.abs(np.sqrt(q**2+u**2)).reshape(201,-1))*10,cmap=cmap,vmin = -40,vmax = -20)\n",
    "plt.colorbar()\n",
    "plt.show()\n",
    "print(np.log10(np.abs(np.sqrt(q**2+u**2).max()))*10)\n"
   ]
  },
  {
   "cell_type": "code",
   "execution_count": null,
   "metadata": {},
   "outputs": [],
   "source": [
    "fig,ax= plt.subplots(2,2, figsize=(10,8))\n",
    "cmap = 'inferno'\n",
    "vmax = 10*np.log10(Muv[:,0,0].max())\n",
    "vmin = vmax-60\n",
    "ax[0,0].pcolor(np.log10(Muv[:,0,0].reshape(201,-1))*10,cmap=cmap)\n",
    "ax[0,1].pcolor(np.log10(np.abs(Muv[:,0,1]).reshape(201,-1))*10,cmap=cmap,vmin=vmin,vmax=vmax)\n",
    "ax[1,0].pcolor(np.log10(np.abs(Muv[:,0,2]).reshape(201,-1))*10,cmap=cmap,vmin=vmin,vmax=vmax)\n",
    "ax[1,1].pcolor(np.log10(np.abs(Muv[:,0,3]).reshape(201,-1))*10,cmap=cmap,vmin=vmin,vmax=vmax)\n",
    "plt.show()\n"
   ]
  },
  {
   "cell_type": "code",
   "execution_count": null,
   "metadata": {},
   "outputs": [],
   "source": [
    "angle = 45\n",
    "angle_list = [angle,angle +90]\n",
    "for freq in freq_list:\n",
    "    for item in dx_list:\n",
    "        print(freq,item, angle_list[0])\n",
    "        Model1 = HDEP_2lens(freq,\n",
    "                    feedpos = [item,0,0],\n",
    "                    feedrot = [0,0,angle_list[0]],\n",
    "                    AR_file = None,\n",
    "                    groupname= None,\n",
    "                    outputfolder = '../Data/HDPE/AR/'+str(freq)+'GHz/')\n",
    "        Eco_0,Ecx_0,x0,y0 = Model1.read_beam()\n",
    "        print(freq,item, angle_list[1])\n",
    "        Model1 = HDEP_2lens(freq,\n",
    "                    feedpos = [item,0,0],\n",
    "                    feedrot = [0,0,angle_list[1]],\n",
    "                    AR_file = None,\n",
    "                    groupname= None,\n",
    "                    outputfolder = '../Data/HDPE/AR/'+str(freq)+'GHz/')\n",
    "        Eco_90,Ecx_90,x90,y90 = Model1.read_beam()\n",
    "        print(x90.max(),x0.max())\n",
    "        Juv = Jone_Matrix(Eco_0,Ecx_0,Eco_90,Ecx_90)\n",
    "        print(Juv.shape)\n",
    "        Muv = Mueller_Matrix(Juv)\n",
    "        I,q,u,v= unpolarized_s_beam(Muv,np.ones(1))\n",
    "\n",
    "phi = 1/2*np.atan2(Muv[:,2,1]-Muv[:,1,2],Muv[:,1,1]+Muv[:,2,2])*180/np.pi\n",
    "phi2 = 1/2*np.atan2(u,q)*180/np.pi\n",
    "i = Muv[:,0,0]\n",
    "NN = np.where(i/i.max()>= 10**(-10/10))\n",
    "print(phi[NN].mean())\n",
    "print((phi[NN]).std())\n",
    "\n",
    "print(phi2[NN].mean())\n",
    "print(phi2[NN].std())\n"
   ]
  },
  {
   "cell_type": "code",
   "execution_count": null,
   "metadata": {},
   "outputs": [],
   "source": [
    "fig,ax= plt.subplots(2,2, figsize=(10,8))\n",
    "cmap = 'inferno'\n",
    "vmax = 0\n",
    "vmin = -60\n",
    "ax[0,0].pcolor(np.log10(I.reshape(201,-1))*10,cmap=cmap,vmin=vmin,vmax=vmax)\n",
    "ax[0,1].pcolor(np.log10(np.abs(q).reshape(201,-1))*10,cmap=cmap,vmin=vmin,vmax=vmax)\n",
    "ax[1,0].pcolor(np.log10(np.abs(u).reshape(201,-1))*10,cmap=cmap,vmin=vmin,vmax=vmax)\n",
    "ax[1,1].pcolor(np.log10(np.abs(v).reshape(201,-1))*10,cmap=cmap,vmin=vmin,vmax=vmax)\n",
    "plt.show()\n",
    "\n",
    "fig = plt.figure(figsize=(6,5))\n",
    "#plt.pcolor((phi.reshape(201,-1)-angle),cmap='jet',vmin = -10 ,vmax=10)\n",
    "plt.pcolor((phi.reshape(201,-1)+angle),cmap='jet',vmin = -10 ,vmax=10)\n",
    "plt.colorbar()\n",
    "plt.show()\n",
    "\n",
    "fig = plt.figure(figsize=(6,5))\n",
    "#plt.pcolor((phi.reshape(201,-1)-angle),cmap='jet',vmin = -10 ,vmax=10)\n",
    "plt.pcolor(np.log10(np.abs(np.sqrt(q**2+u**2)).reshape(201,-1))*10,cmap=cmap,vmin = -30,vmax = -10)\n",
    "plt.colorbar()\n",
    "plt.show()\n",
    "print(np.log10(np.abs(np.sqrt(q**2+u**2).max()))*10)\n",
    "fig = plt.figure(figsize=(6,5))\n",
    "#plt.pcolor((phi.reshape(201,-1)-angle),cmap='jet',vmin = -10 ,vmax=10)\n",
    "plt.pcolor(np.log10(np.abs(np.sqrt(q0**2+u0**2)).reshape(201,-1))*10,cmap=cmap,vmin = -30,vmax = -10)\n",
    "plt.colorbar()\n",
    "plt.show()\n",
    "print(np.log10(np.abs(np.sqrt(q0**2+u0**2).max()))*10)\n"
   ]
  },
  {
   "cell_type": "code",
   "execution_count": null,
   "metadata": {},
   "outputs": [],
   "source": [
    "fig,ax= plt.subplots(2,2, figsize=(10,8))\n",
    "cmap = 'inferno'\n",
    "vmax = 10*np.log10(Muv[:,0,0].max())\n",
    "vmin = vmax-60\n",
    "ax[0,0].pcolor(np.log10(Muv[:,0,0].reshape(201,-1))*10,cmap=cmap)\n",
    "ax[0,1].pcolor(np.log10(np.abs(Muv[:,0,1]).reshape(201,-1))*10,cmap=cmap,vmin=vmin,vmax=vmax)\n",
    "ax[1,0].pcolor(np.log10(np.abs(Muv[:,0,2]).reshape(201,-1))*10,cmap=cmap,vmin=vmin,vmax=vmax)\n",
    "ax[1,1].pcolor(np.log10(np.abs(Muv[:,0,3]).reshape(201,-1))*10,cmap=cmap,vmin=vmin,vmax=vmax)\n",
    "plt.show()\n"
   ]
  },
  {
   "cell_type": "code",
   "execution_count": null,
   "metadata": {},
   "outputs": [],
   "source": [
    "phi.reshape(201,-1)[110,110] +45\n"
   ]
  },
  {
   "cell_type": "code",
   "execution_count": null,
   "metadata": {},
   "outputs": [],
   "source": [
    "print(Muv[:,0,2][NN])\n",
    "print(Muv[:,0,1][NN])\n"
   ]
  },
  {
   "cell_type": "code",
   "execution_count": null,
   "metadata": {},
   "outputs": [],
   "source": [
    "np.arctan2(Muv[:,0,2][NN],Muv[:,0,1][NN])*180/np.pi/2\n"
   ]
  },
  {
   "cell_type": "code",
   "execution_count": null,
   "metadata": {},
   "outputs": [],
   "source": []
  },
  {
   "cell_type": "code",
   "execution_count": null,
   "metadata": {},
   "outputs": [],
   "source": []
  }
 ],
 "metadata": {
  "kernelspec": {
   "display_name": "ccatholo",
   "language": "python",
   "name": "python3"
  },
  "language_info": {
   "codemirror_mode": {
    "name": "ipython",
    "version": 3
   },
   "file_extension": ".py",
   "mimetype": "text/x-python",
   "name": "python",
   "nbconvert_exporter": "python",
   "pygments_lexer": "ipython3",
   "version": "3.9.21"
  }
 },
 "nbformat": 4,
 "nbformat_minor": 2
}
