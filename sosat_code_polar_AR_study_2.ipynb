{
 "cells": [
  {
   "cell_type": "code",
   "execution_count": null,
   "metadata": {},
   "outputs": [],
   "source": [
    "from SOSATpopy2 import sosat\n"
   ]
  },
  {
   "cell_type": "markdown",
   "metadata": {},
   "source": [
    "## Using uniform sampling to study the polarizaiton rotation at 45deg"
   ]
  },
  {
   "cell_type": "code",
   "execution_count": null,
   "metadata": {},
   "outputs": [],
   "source": [
    "dx_list = [180]\n",
    "angle_list = [45]#[45,30,15,0,-15,-30,-45] \n",
    "freq_list = [170]\n",
    "for freq in freq_list:\n",
    "    for angle in angle_list:\n",
    "        for item in dx_list:\n",
    "            print(freq, angle,item)\n",
    "            Model1 = sosat(freq,\n",
    "                        feedpos = [item,0,0],\n",
    "                        feedrot = [0,0,angle],\n",
    "                        AR_file = 'AR_LIB/Ideal_AR.h5',\n",
    "                        groupname= 'ideal_AR',\n",
    "                        outputfolder = '../Data/output_polar_ideal_AR_test/'+str(freq)+'GHz/')\n",
    "            factor10 = 2.5\n",
    "            factor20 = 2.5\n",
    "            if freq >90:\n",
    "                factor1 = 3.5\n",
    "                factor2 = 2.5\n",
    "            Model1.run_po([[int(380*factor10 ),int(1880*factor20)],[int(240*factor10 ),int(2160*factor10 )]],\n",
    "                        [[int(370*factor1 ),int(2320*factor2)],[int(195*factor1),int(390*factor2)]],\n",
    "                        [[int(340*factor1),int(2320*factor2)],[int(300*factor1),int(200*factor2)]],\n",
    "                        sampling_type = 'less')\n",
    "\n"
   ]
  },
  {
   "cell_type": "code",
   "execution_count": null,
   "metadata": {},
   "outputs": [],
   "source": [
    "Model1.plot_beam(cmap = 'inferno')\n"
   ]
  },
  {
   "cell_type": "markdown",
   "metadata": {},
   "source": [
    "150GHz: Lens3 2.5 2.5, lens2 3.5,2.5, lens1 3.5 2.5"
   ]
  },
  {
   "cell_type": "code",
   "execution_count": null,
   "metadata": {},
   "outputs": [],
   "source": []
  }
 ],
 "metadata": {
  "kernelspec": {
   "display_name": "ccatholo",
   "language": "python",
   "name": "python3"
  },
  "language_info": {
   "codemirror_mode": {
    "name": "ipython",
    "version": 3
   },
   "file_extension": ".py",
   "mimetype": "text/x-python",
   "name": "python",
   "nbconvert_exporter": "python",
   "pygments_lexer": "ipython3",
   "version": "3.9.21"
  }
 },
 "nbformat": 4,
 "nbformat_minor": 2
}
