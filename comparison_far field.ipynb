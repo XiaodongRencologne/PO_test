{
 "cells": [
  {
   "cell_type": "code",
   "execution_count": null,
   "metadata": {},
   "outputs": [],
   "source": [
    "import numpy as np\n",
    "import matplotlib.pyplot as plt"
   ]
  },
  {
   "cell_type": "code",
   "execution_count": null,
   "metadata": {},
   "outputs": [],
   "source": [
    "outputfolder = 'output/infocus/far_field/100GHz/'\n",
    "data=np.genfromtxt(outputfolder +'IF_field.txt',delimiter=',')\n",
    "N_if =151\n",
    "IF_x=data[...,0]+1j*data[...,1];\n",
    "IF_x=IF_x.reshape(N_if,-1)\n",
    "IF_y=data[...,2]+1j*data[...,3];\n",
    "IF_y=IF_y.reshape(N_if,-1)\n",
    "IF_z=data[...,4]+1j*data[...,5];\n",
    "IF_z=IF_z.reshape(N_if,-1)\n",
    "#test=test/test[50,50]"
   ]
  },
  {
   "cell_type": "code",
   "execution_count": null,
   "metadata": {},
   "outputs": [],
   "source": [
    "data=np.genfromtxt(outputfolder +'source_field.txt',delimiter=',')\n",
    "Ns =101\n",
    "u = np.linspace(-0.005,0.005,Ns)*180/np.pi\n",
    "S_co=data[...,0]+1j*data[...,1];\n",
    "S_co=S_co.reshape(Ns,-1)\n",
    "S_cx=data[...,2]+1j*data[...,3];\n",
    "S_cx=S_cx.reshape(Ns,-1)\n"
   ]
  },
  {
   "cell_type": "code",
   "execution_count": null,
   "metadata": {},
   "outputs": [],
   "source": [
    "plt.pcolor(np.log10(np.abs(IF_x))*20,cmap = 'jet',vmax = 20, vmin=-100)\n",
    "cbar = plt.colorbar()\n",
    "plt.show()\n",
    "\n",
    "plt.pcolor(np.log10(np.abs(IF_y))*20,cmap = 'jet',vmax = 20, vmin=-100)\n",
    "cbar = plt.colorbar()\n",
    "plt.show()\n",
    "\n",
    "plt.pcolor(np.log10(np.abs(IF_z))*20,cmap = 'jet',vmax = 20, vmin=-100)\n",
    "cbar = plt.colorbar()\n",
    "plt.show()"
   ]
  },
  {
   "cell_type": "code",
   "execution_count": null,
   "metadata": {},
   "outputs": [],
   "source": [
    "plt.pcolor(np.log10(np.abs(S_co))*20,cmap = 'jet',vmax = 130, vmin=30)\n",
    "cbar = plt.colorbar()\n",
    "plt.show()\n",
    "\n",
    "plt.pcolor(np.log10(np.abs(S_cx))*20,cmap = 'jet',vmax = 80, vmin=10)\n",
    "cbar = plt.colorbar()\n",
    "plt.show()\n"
   ]
  },
  {
   "cell_type": "code",
   "execution_count": null,
   "metadata": {},
   "outputs": [],
   "source": [
    "fig = plt.figure(figsize=(10,5))\n",
    "plt.plot(u, np.log10(np.abs(S_co[int(Ns/2),:]))*20)#,vmax = 20, vmin=-100)\n",
    "plt.xlim([-0.1,0.1])\n",
    "plt.show()"
   ]
  },
  {
   "cell_type": "code",
   "execution_count": null,
   "metadata": {},
   "outputs": [],
   "source": []
  },
  {
   "cell_type": "code",
   "execution_count": null,
   "metadata": {},
   "outputs": [],
   "source": []
  },
  {
   "cell_type": "code",
   "execution_count": null,
   "metadata": {},
   "outputs": [],
   "source": [
    "plt.plot(np.log10(np.abs(ref[50,...])));\n",
    "plt.plot(np.log10(np.abs(test[50,...])))"
   ]
  },
  {
   "cell_type": "code",
   "execution_count": null,
   "metadata": {},
   "outputs": [],
   "source": []
  }
 ],
 "metadata": {
  "kernelspec": {
   "display_name": "CCATholo",
   "language": "python",
   "name": "python3"
  },
  "language_info": {
   "codemirror_mode": {
    "name": "ipython",
    "version": 3
   },
   "file_extension": ".py",
   "mimetype": "text/x-python",
   "name": "python",
   "nbconvert_exporter": "python",
   "pygments_lexer": "ipython3",
   "version": "3.9.20"
  }
 },
 "nbformat": 4,
 "nbformat_minor": 4
}
