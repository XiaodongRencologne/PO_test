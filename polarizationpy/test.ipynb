{
 "cells": [
  {
   "cell_type": "code",
   "execution_count": 12,
   "metadata": {},
   "outputs": [],
   "source": [
    "import numpy as np\n"
   ]
  },
  {
   "cell_type": "code",
   "execution_count": null,
   "metadata": {},
   "outputs": [],
   "source": [
    "A = np.eye(2)\n",
    "B= np.linspace(1,5,5).reshape((5,-1)) * np.linspace(1,4,4)\n",
    "B= B.reshape(5,2,2)\n"
   ]
  },
  {
   "cell_type": "code",
   "execution_count": 16,
   "metadata": {},
   "outputs": [],
   "source": [
    "A = np.array([[1,0,0,1],\n",
    "                  [1,0,0,-1],\n",
    "                  [0,1,1,0],\n",
    "                  [0,1j, -1j,0]],dtype=complex)\n",
    "A_inv = np.array([[1,1,0,0],\n",
    "                      [0,0,1,-1j],\n",
    "                      [0,0,1,1j],\n",
    "                      [1,-1,0,0]],dtype = complex)*1/2\n"
   ]
  },
  {
   "cell_type": "code",
   "execution_count": 17,
   "metadata": {},
   "outputs": [
    {
     "data": {
      "text/plain": [
       "array([[ 1.+0.j,  1.+0.j,  0.+0.j,  0.+0.j],\n",
       "       [ 0.+0.j,  0.+0.j,  1.+0.j,  0.-1.j],\n",
       "       [-0.+0.j, -0.+0.j,  1.+0.j, -0.+1.j],\n",
       "       [ 1.+0.j, -1.-0.j,  0.+0.j,  0.+0.j]])"
      ]
     },
     "execution_count": 17,
     "metadata": {},
     "output_type": "execute_result"
    }
   ],
   "source": [
    "np.linalg.inv(A)*2\n"
   ]
  },
  {
   "cell_type": "code",
   "execution_count": null,
   "metadata": {},
   "outputs": [],
   "source": []
  }
 ],
 "metadata": {
  "kernelspec": {
   "display_name": "ccatholo",
   "language": "python",
   "name": "python3"
  },
  "language_info": {
   "codemirror_mode": {
    "name": "ipython",
    "version": 3
   },
   "file_extension": ".py",
   "mimetype": "text/x-python",
   "name": "python",
   "nbconvert_exporter": "python",
   "pygments_lexer": "ipython3",
   "version": "3.9.21"
  }
 },
 "nbformat": 4,
 "nbformat_minor": 2
}
