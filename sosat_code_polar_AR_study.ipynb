{
 "cells": [
  {
   "cell_type": "code",
   "execution_count": 1,
   "metadata": {},
   "outputs": [
    {
     "name": "stdout",
     "output_type": "stream",
     "text": [
      "10\n"
     ]
    }
   ],
   "source": [
    "from SOSATpopy import sosat\n"
   ]
  },
  {
   "cell_type": "code",
   "execution_count": 2,
   "metadata": {},
   "outputs": [],
   "source": [
    "freq_list= [92,94,96,98,100,102] #[78,80,82,84,86,88,90,\n"
   ]
  },
  {
   "cell_type": "code",
   "execution_count": null,
   "metadata": {},
   "outputs": [],
   "source": [
    "dx_list = [180]#,[160,100,60,20]# \n",
    "angle_list = [45]#[45,30,15,0,-15,-30,-45] \n",
    "for freq in freq_list:\n",
    "    for angle in angle_list:\n",
    "        for item in dx_list:\n",
    "            print(freq, angle,item)\n",
    "            Model1 = sosat(freq,\n",
    "                        feedpos = [item,0,0],\n",
    "                        feedrot = [0,0,angle],\n",
    "                        AR_file = 'AR_LIB/Ideal_AR.h5',\n",
    "                        groupname= 'ideal_AR',#str(freq)+'GHz',\n",
    "                        outputfolder = '../Data/output_polar_ideal_AR/'+str(freq)+'GHz/')\n",
    "            factor1 = 3\n",
    "            factor2 = 2\n",
    "            '''\n",
    "            if freq >90:\n",
    "                factor1 = 2.5\n",
    "                factor2 = 1.5\n",
    "            '''\n",
    "            Model1.run_po([[int(380*factor1),int(1880*factor2)],[int(240*factor1),int(2160*factor2)]],\n",
    "                        [[int(370*factor1),int(2320*factor2)],[int(195*factor1),int(390*factor2)]],\n",
    "                        [[int(340*factor1),int(2320*factor2)],[int(300*factor1),int(200*factor2)]],)\n",
    "\n"
   ]
  },
  {
   "cell_type": "code",
   "execution_count": null,
   "metadata": {},
   "outputs": [
    {
     "name": "stdout",
     "output_type": "stream",
     "text": [
      "92 45 160\n",
      "26584903304305.848\n",
      "Gain of the Guassian feedhonr!\n",
      "-2.3863886873293603 dB\n",
      "Batch size: 10\n"
     ]
    },
    {
     "name": "stderr",
     "output_type": "stream",
     "text": [
      "100%|██████████| 123997/123997 [1:03:41<00:00, 32.44it/s]\n",
      "/home/xren/Documents/Lens_PO/PO_test/Kirchhoffpy/LensPO.py:348: ComplexWarning: Casting complex values to real discards the imaginary part\n",
      "  r_p[NN_t] = 1.0 * np.exp(1j*np.pi)\n",
      "/home/xren/Documents/Lens_PO/PO_test/Kirchhoffpy/LensPO.py:349: ComplexWarning: Casting complex values to real discards the imaginary part\n",
      "  r_s[NN_t] = 1.0 * np.exp(1j*np.pi)\n"
     ]
    },
    {
     "name": "stdout",
     "output_type": "stream",
     "text": [
      "../Data/output_polar_normal_groove_AR/92GHz/L3_po_cur_160_0_0mm_polar_45deg.h5\n",
      "Here\n",
      "Batch size: 13\n"
     ]
    },
    {
     "name": "stderr",
     "output_type": "stream",
     "text": [
      "100%|██████████| 157912/157912 [1:16:58<00:00, 34.19it/s]\n"
     ]
    },
    {
     "name": "stdout",
     "output_type": "stream",
     "text": [
      "Batch size: 8\n"
     ]
    },
    {
     "name": "stderr",
     "output_type": "stream",
     "text": [
      "100%|██████████| 22897/22897 [12:02<00:00, 31.71it/s]\n"
     ]
    },
    {
     "name": "stdout",
     "output_type": "stream",
     "text": [
      "../Data/output_polar_normal_groove_AR/92GHz/L2_po_cur_160_0_0mm_polar_45deg.h5\n",
      "Here\n",
      "Batch size: 94\n"
     ]
    },
    {
     "name": "stderr",
     "output_type": "stream",
     "text": [
      "100%|██████████| 20068/20068 [10:12<00:00, 32.75it/s]\n"
     ]
    },
    {
     "name": "stdout",
     "output_type": "stream",
     "text": [
      "Batch size: 9\n"
     ]
    },
    {
     "name": "stderr",
     "output_type": "stream",
     "text": [
      "100%|██████████| 16221/16221 [08:48<00:00, 30.70it/s]\n"
     ]
    },
    {
     "name": "stdout",
     "output_type": "stream",
     "text": [
      "../Data/output_polar_normal_groove_AR/92GHz/L1_po_cur_160_0_0mm_polar_45deg.h5\n",
      "[[1. 0. 0.]\n",
      " [0. 1. 0.]\n",
      " [0. 0. 1.]]\n",
      "*(**)\n",
      "Batch size: 394\n"
     ]
    },
    {
     "name": "stderr",
     "output_type": "stream",
     "text": [
      "100%|██████████| 637/637 [00:26<00:00, 24.00it/s]\n"
     ]
    },
    {
     "name": "stdout",
     "output_type": "stream",
     "text": [
      "92 45 100\n",
      "26584903304305.848\n",
      "Gain of the Guassian feedhonr!\n",
      "-2.385743698179258 dB\n",
      "Batch size: 10\n"
     ]
    },
    {
     "name": "stderr",
     "output_type": "stream",
     "text": [
      "100%|██████████| 123997/123997 [1:08:06<00:00, 30.34it/s]\n"
     ]
    },
    {
     "name": "stdout",
     "output_type": "stream",
     "text": [
      "../Data/output_polar_normal_groove_AR/92GHz/L3_po_cur_100_0_0mm_polar_45deg.h5\n",
      "Here\n",
      "Batch size: 13\n"
     ]
    },
    {
     "name": "stderr",
     "output_type": "stream",
     "text": [
      "100%|██████████| 157912/157912 [1:21:42<00:00, 32.21it/s]\n"
     ]
    },
    {
     "name": "stdout",
     "output_type": "stream",
     "text": [
      "Batch size: 8\n"
     ]
    },
    {
     "name": "stderr",
     "output_type": "stream",
     "text": [
      "100%|██████████| 22897/22897 [12:04<00:00, 31.61it/s]\n"
     ]
    },
    {
     "name": "stdout",
     "output_type": "stream",
     "text": [
      "../Data/output_polar_normal_groove_AR/92GHz/L2_po_cur_100_0_0mm_polar_45deg.h5\n",
      "Here\n",
      "Batch size: 94\n"
     ]
    },
    {
     "name": "stderr",
     "output_type": "stream",
     "text": [
      "100%|██████████| 20068/20068 [10:12<00:00, 32.75it/s]\n"
     ]
    },
    {
     "name": "stdout",
     "output_type": "stream",
     "text": [
      "Batch size: 9\n"
     ]
    },
    {
     "name": "stderr",
     "output_type": "stream",
     "text": [
      "100%|██████████| 16221/16221 [08:47<00:00, 30.74it/s]\n"
     ]
    },
    {
     "name": "stdout",
     "output_type": "stream",
     "text": [
      "../Data/output_polar_normal_groove_AR/92GHz/L1_po_cur_100_0_0mm_polar_45deg.h5\n",
      "[[1. 0. 0.]\n",
      " [0. 1. 0.]\n",
      " [0. 0. 1.]]\n",
      "*(**)\n",
      "Batch size: 394\n"
     ]
    },
    {
     "name": "stderr",
     "output_type": "stream",
     "text": [
      "100%|██████████| 637/637 [00:26<00:00, 23.90it/s]\n"
     ]
    },
    {
     "name": "stdout",
     "output_type": "stream",
     "text": [
      "92 45 60\n",
      "26584903304305.848\n",
      "Gain of the Guassian feedhonr!\n",
      "-2.3863812106448554 dB\n",
      "Batch size: 10\n"
     ]
    },
    {
     "name": "stderr",
     "output_type": "stream",
     "text": [
      "100%|██████████| 123997/123997 [1:08:08<00:00, 30.33it/s]\n"
     ]
    },
    {
     "name": "stdout",
     "output_type": "stream",
     "text": [
      "../Data/output_polar_normal_groove_AR/92GHz/L3_po_cur_60_0_0mm_polar_45deg.h5\n",
      "Here\n",
      "Batch size: 13\n"
     ]
    },
    {
     "name": "stderr",
     "output_type": "stream",
     "text": [
      "100%|██████████| 157912/157912 [1:21:44<00:00, 32.19it/s]\n"
     ]
    },
    {
     "name": "stdout",
     "output_type": "stream",
     "text": [
      "Batch size: 8\n"
     ]
    },
    {
     "name": "stderr",
     "output_type": "stream",
     "text": [
      "100%|██████████| 22897/22897 [12:02<00:00, 31.71it/s]\n"
     ]
    },
    {
     "name": "stdout",
     "output_type": "stream",
     "text": [
      "../Data/output_polar_normal_groove_AR/92GHz/L2_po_cur_60_0_0mm_polar_45deg.h5\n",
      "Here\n",
      "Batch size: 94\n"
     ]
    },
    {
     "name": "stderr",
     "output_type": "stream",
     "text": [
      "100%|██████████| 20068/20068 [10:08<00:00, 33.00it/s]\n"
     ]
    },
    {
     "name": "stdout",
     "output_type": "stream",
     "text": [
      "Batch size: 9\n"
     ]
    },
    {
     "name": "stderr",
     "output_type": "stream",
     "text": [
      "100%|██████████| 16221/16221 [08:50<00:00, 30.56it/s]\n"
     ]
    },
    {
     "name": "stdout",
     "output_type": "stream",
     "text": [
      "../Data/output_polar_normal_groove_AR/92GHz/L1_po_cur_60_0_0mm_polar_45deg.h5\n",
      "[[1. 0. 0.]\n",
      " [0. 1. 0.]\n",
      " [0. 0. 1.]]\n",
      "*(**)\n",
      "Batch size: 394\n"
     ]
    },
    {
     "name": "stderr",
     "output_type": "stream",
     "text": [
      "100%|██████████| 637/637 [00:26<00:00, 23.63it/s]\n"
     ]
    },
    {
     "name": "stdout",
     "output_type": "stream",
     "text": [
      "92 45 20\n",
      "26584903304305.848\n",
      "Gain of the Guassian feedhonr!\n",
      "-2.385773299660329 dB\n",
      "Batch size: 10\n"
     ]
    },
    {
     "name": "stderr",
     "output_type": "stream",
     "text": [
      "100%|██████████| 123997/123997 [1:07:11<00:00, 30.75it/s]\n"
     ]
    }
   ],
   "source": [
    "dx_list = [160,100,60,20,0]# [180]#,\n",
    "angle_list = [45]#[45,30,15,0,-15,-30,-45] \n",
    "for freq in freq_list:\n",
    "    for angle in angle_list:\n",
    "        for item in dx_list:\n",
    "            print(freq, angle,item)\n",
    "            Model1 = sosat(freq,\n",
    "                        feedpos = [item,0,0],\n",
    "                        feedrot = [0,0,angle],\n",
    "                        AR_file = 'AR_LIB/normal_groove_AR.h5',\n",
    "                        groupname= str(freq)+'GHz',\n",
    "                        outputfolder = '../Data/output_polar_normal_groove_AR/'+str(freq)+'GHz/')\n",
    "            factor1 = 2\n",
    "            factor2 = 1\n",
    "            if freq >90:\n",
    "                factor1 = 2.5\n",
    "                factor2 = 1.5\n",
    "            Model1.run_po([[int(380*factor1),int(1880*factor2)],[int(240*factor1),int(2160*factor2)]],\n",
    "                        [[int(370*factor1),int(2320*factor2)],[int(195*factor1),int(390*factor2)]],\n",
    "                        [[int(340*factor1),int(2320*factor2)],[int(300*factor1),int(200*factor2)]],)\n",
    "\n"
   ]
  },
  {
   "cell_type": "code",
   "execution_count": null,
   "metadata": {},
   "outputs": [],
   "source": [
    "dx_list = [180,160,100,60,20]\n",
    "angle_list = [45]#[45,30,15,0,-15,-30,-45] \n",
    "for freq in freq_list:\n",
    "    for angle in angle_list:\n",
    "        for item in dx_list:\n",
    "            print(freq, angle,item)\n",
    "            Model1 = sosat(freq,\n",
    "                        feedpos = [item,0,0],\n",
    "                        feedrot = [0,0,angle],\n",
    "                        AR_file = 'AR_LIB/leaning_groove_AR.h5',\n",
    "                        groupname= str(freq)+'GHz',\n",
    "                        outputfolder = '../Data/output_polar_leaning_groove_AR/'+str(freq)+'GHz/')\n",
    "            factor1 = 2\n",
    "            factor2 = 1\n",
    "            if freq >90:\n",
    "                factor1 = 2.5\n",
    "                factor2 = 1.5\n",
    "            Model1.run_po([[int(380*factor1),int(1880*factor2)],[int(240*factor1),int(2160*factor2)]],\n",
    "                        [[int(370*factor1),int(2320*factor2)],[int(195*factor1),int(390*factor2)]],\n",
    "                        [[int(340*factor1),int(2320*factor2)],[int(300*factor1),int(200*factor2)]],)\n",
    "\n",
    "\n"
   ]
  },
  {
   "cell_type": "code",
   "execution_count": null,
   "metadata": {},
   "outputs": [],
   "source": []
  }
 ],
 "metadata": {
  "kernelspec": {
   "display_name": "ccatholo",
   "language": "python",
   "name": "python3"
  },
  "language_info": {
   "codemirror_mode": {
    "name": "ipython",
    "version": 3
   },
   "file_extension": ".py",
   "mimetype": "text/x-python",
   "name": "python",
   "nbconvert_exporter": "python",
   "pygments_lexer": "ipython3",
   "version": "3.9.21"
  }
 },
 "nbformat": 4,
 "nbformat_minor": 2
}
