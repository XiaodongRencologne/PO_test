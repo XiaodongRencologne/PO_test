{
 "cells": [
  {
   "cell_type": "code",
   "execution_count": 1,
   "id": "f1691dbf-8c73-4ebe-8189-b5277660d5f0",
   "metadata": {},
   "outputs": [],
   "source": [
    "import pyvista as pv\n",
    "from Kirchhoffpy import lenspy\n",
    "from Kirchhoffpy import Feedpy\n",
    "import matplotlib.pyplot as plt\n",
    "import matplotlib.tri as tri\n",
    "import numpy as np\n",
    "from Kirchhoffpy import coordinate,field_storage\n",
    "from Kirchhoffpy.Vopy import CO,dotproduct,abs_v\n",
    "c=299792458\n",
    "p = pv.Plotter()\n",
    "srffolder = 'srf/'\n"
   ]
  },
  {
   "cell_type": "code",
   "execution_count": 2,
   "id": "7dbe3d4f-2c07-4d35-b11c-a2add43ad2c5",
   "metadata": {},
   "outputs": [
    {
     "name": "stdout",
     "output_type": "stream",
     "text": [
      "1.362692990909091 4.610859048293699\n"
     ]
    }
   ],
   "source": [
    "# 1. define frequnecy and wavelength\n",
    "freq = 220*10**9\n",
    "Lambda = c*1000/freq\n",
    "k = 2*np.pi/Lambda\n",
    "print(Lambda,k)\n"
   ]
  },
  {
   "cell_type": "code",
   "execution_count": 3,
   "id": "13b91e40-87e1-4602-8f26-31d7ddb7819d",
   "metadata": {},
   "outputs": [],
   "source": [
    "# 2. define coordinate systems\n",
    "coord_ref = coordinate.coord_sys([0,0,0],[0,0,0],axes = 'xyz')\n",
    "\n",
    "coord_L1 = coordinate.coord_sys([0,0,-(803.9719951339465-4.34990822154231*10)],[np.pi,0,0],axes = 'xyz',ref_coord = coord_ref)\n",
    "coord_L2 = coordinate.coord_sys([0,0,-(227.64396727901004-4.696706712699847*10)],[np.pi,0,0],axes = 'xyz',ref_coord = coord_ref)\n",
    "\n",
    "coord_feed = coordinate.coord_sys([0,0,0],[np.pi,0,0],axes = 'xyz',ref_coord = coord_ref)\n",
    "\n",
    "coord_sky = coordinate.coord_sys([0,0,0],[np.pi,0,0],axes = 'xyz',ref_coord = coord_ref)\n"
   ]
  },
  {
   "cell_type": "code",
   "execution_count": 4,
   "id": "edf4f650-2bdc-4674-a541-0a86cd732ff3",
   "metadata": {},
   "outputs": [
    {
     "name": "stdout",
     "output_type": "stream",
     "text": [
      "3.5651522244162413e+21\n"
     ]
    }
   ],
   "source": [
    "# 3. define input Feedhorn\n",
    "feed= Feedpy.GaussiBeam(-2.17,8,\n",
    "                        k,\n",
    "                        coord_feed,\n",
    "                        polarization = 'x')\n"
   ]
  },
  {
   "cell_type": "code",
   "execution_count": 5,
   "id": "621a2729-ac20-4174-b37b-7597af405653",
   "metadata": {},
   "outputs": [],
   "source": [
    "# 4. Lenses and aperture \n",
    "L1 = lenspy.simple_Lens(3.36,\n",
    "                        4.34990822154231*10,# Thickness\n",
    "                        44.3704085511817*10, # diameter\n",
    "                        srffolder + 'lens1_f2.rsf', \n",
    "                        srffolder + 'lens1_f1.rsf',\n",
    "                        p,\n",
    "                        coord_L1,\n",
    "                        name = 'L1',\n",
    "                        outputfolder = 'output2/two_lens/')\n",
    "L2 = lenspy.simple_Lens(3.36,\n",
    "                        4.69671*10,# Thickness\n",
    "                        44.3704085511817*10, # diameter\n",
    "                        srffolder + 'lens2_f2.rsf', \n",
    "                        srffolder + 'lens2_f1.rsf',\n",
    "                        p,\n",
    "                        coord_L2,\n",
    "                        name = 'L2',\n",
    "                        outputfolder = 'output2/two_lens/')\n",
    "#L2 = lenspy.simple_Lens(2,46.9671 ,400, srffolder + 'lens2_f1.rsf', srffolder + 'lens2_f2.rsf',p,[0,0,-227.64396727901004],name = 'L2')\n",
    "#L3 = lenspy.simple_Lens(2,29.6556 ,400, srffolder + 'lens3_f1.rsf', srffolder + 'lens3_f2.rsf',p,[0,0,-71.77590111674095],name = 'L3')\n"
   ]
  },
  {
   "cell_type": "code",
   "execution_count": 6,
   "id": "cb530a7c-7782-4e22-93d2-36995513d003",
   "metadata": {},
   "outputs": [],
   "source": [
    "# 5. fiedl storage\n",
    "center_grd = field_storage.Spherical_grd(coord_sky,\n",
    "                                         0,\n",
    "                                         0,\n",
    "                                         10,\n",
    "                                         10,\n",
    "                                         201,201,\n",
    "                                         Type = 'ELoverAz', \n",
    "                                         far_near = 'far',\n",
    "                                         distance = 50000)\n"
   ]
  },
  {
   "cell_type": "code",
   "execution_count": 7,
   "id": "c3022924-72ed-4ef3-bdd4-1e7216c19be7",
   "metadata": {},
   "outputs": [
    {
     "name": "stdout",
     "output_type": "stream",
     "text": [
      "Gain of the Guassian feedhonr!\n",
      "-7.928146619579105 dB\n",
      "[[1. 0. 0.]\n",
      " [0. 1. 0.]\n",
      " [0. 0. 1.]]\n",
      "input power\n",
      "poynting value max!\n",
      "0.00014797923550835141\n",
      "12.753399737488705\n",
      "******\n",
      "(array([], dtype=int64),)\n",
      "test vx\n",
      "1.0000000000000004 0.9999999999999994\n",
      "cores: 16\n"
     ]
    },
    {
     "name": "stderr",
     "output_type": "stream",
     "text": [
      "100%|██████████| 16790/16790 [1:31:02<00:00,  3.07it/s]\n"
     ]
    },
    {
     "name": "stdout",
     "output_type": "stream",
     "text": [
      "(array([], dtype=int64),)\n",
      "test vx\n",
      "1.0000000000000004 0.9999999999999994\n",
      "Transform f1\n",
      "poynting value max!\n",
      "0.00010462297603469678\n",
      "8.820982602141614\n",
      "f2\n",
      "poynting value max!\n",
      "8.629145386436229e-05\n",
      "8.869897988705436\n",
      "f2 transmission\n",
      "poynting value max!\n",
      "6.2747938534713645\n"
     ]
    }
   ],
   "source": [
    "N1 =[1020,3280]\n",
    "N2 = [1040,400]\n",
    "L2.PO_analysis(#[400,1,400,1],\n",
    "               [1,N1[0],N1[1],1],\n",
    "               [1,N2[0],N2[1],1],\n",
    "               #[5,N2[0],N2[1],1],\n",
    "            feed,k,\n",
    "            sampling_type_f1='polar',\n",
    "            phi_type_f1 = 'less',\n",
    "            sampling_type_f2='polar',\n",
    "            phi_type_f2 = 'less',\n",
    "            po_name = '_po_cur_0mm_two_lens.h5',\n",
    "            Method ='POPO')\n"
   ]
  },
  {
   "cell_type": "code",
   "execution_count": 8,
   "id": "1d52ec46",
   "metadata": {},
   "outputs": [
    {
     "name": "stdout",
     "output_type": "stream",
     "text": [
      "output2/two_lens/L2_po_cur_0mm_two_lens.h5\n",
      "Here\n",
      "cores: 130\n"
     ]
    },
    {
     "name": "stderr",
     "output_type": "stream",
     "text": [
      "100%|██████████| 16190/16190 [1:25:28<00:00,  3.16it/s]\n"
     ]
    },
    {
     "name": "stdout",
     "output_type": "stream",
     "text": [
      "[[1. 0. 0.]\n",
      " [0. 1. 0.]\n",
      " [0. 0. 1.]]\n",
      "input power\n",
      "poynting value max!\n",
      "9.216831476963252e-06\n",
      "6.212361967804889\n",
      "******\n",
      "(array([], dtype=int64),)\n",
      "test vx\n",
      "1.0000000000000004 0.9999999999999994\n",
      "cores: 16\n"
     ]
    },
    {
     "name": "stderr",
     "output_type": "stream",
     "text": [
      "100%|██████████| 40019/40019 [3:33:17<00:00,  3.13it/s]  \n"
     ]
    },
    {
     "name": "stdout",
     "output_type": "stream",
     "text": [
      "(array([], dtype=int64),)\n",
      "test vx\n",
      "1.0000000000000004 0.9999999999999994\n",
      "Transform f1\n",
      "poynting value max!\n",
      "6.5164030305942726e-06\n",
      "4.38408829514549\n",
      "f2\n",
      "poynting value max!\n",
      "6.213928892464296e-06\n",
      "4.363093380906334\n",
      "f2 transmission\n",
      "poynting value max!\n",
      "3.093991429937693\n"
     ]
    }
   ],
   "source": [
    "N1 =[1000,3300]\n",
    "N2 = [1000,1000]\n",
    "L1.PO_analysis(#[400,1,400,1],\n",
    "               [1,N1[0],N1[1],1],\n",
    "               [1,N2[0],N2[1],1],\n",
    "               #[5,N2[0],N2[1],1],\n",
    "            L2,k,\n",
    "            sampling_type_f1='polar',\n",
    "            phi_type_f1 = 'less',\n",
    "            sampling_type_f2='polar',\n",
    "            phi_type_f2 = 'less',\n",
    "            po_name = '_po_cur_0mm_x.h5',\n",
    "            Method ='POPO')\n"
   ]
  },
  {
   "cell_type": "code",
   "execution_count": 9,
   "id": "5430f1b1-ca7d-4231-affb-816c4c70bf7a",
   "metadata": {},
   "outputs": [
    {
     "name": "stdout",
     "output_type": "stream",
     "text": [
      "40401\n"
     ]
    }
   ],
   "source": [
    "center_grd.grid.x = center_grd.grid.x.ravel()\n",
    "center_grd.grid.y = center_grd.grid.y.ravel()\n",
    "center_grd.grid.z = center_grd.grid.z.ravel()\n",
    "print(center_grd.grid.z.size)\n"
   ]
  },
  {
   "cell_type": "code",
   "execution_count": 16,
   "id": "b030e8ed-2655-4dd4-ab99-158497024c3b",
   "metadata": {
    "scrolled": true
   },
   "outputs": [
    {
     "name": "stdout",
     "output_type": "stream",
     "text": [
      "output2/two_lens/L1_po_cur_0mm_x.h5\n",
      "[[1. 0. 0.]\n",
      " [0. 1. 0.]\n",
      " [0. 0. 1.]]\n",
      "*(**)\n",
      "cores: 91\n"
     ]
    },
    {
     "name": "stderr",
     "output_type": "stream",
     "text": [
      "100%|██████████| 443/443 [00:40<00:00, 10.81it/s]\n"
     ]
    }
   ],
   "source": [
    "#L1.surf_cur_file = 'output/L1_po_cur_0mm_x.h5'\n",
    "\n",
    "L1.source(center_grd,\n",
    "          k,\n",
    "          far_near = 'far')\n"
   ]
  },
  {
   "cell_type": "code",
   "execution_count": 18,
   "id": "fbedef97-a3bb-4f4d-8f63-a5238db640e0",
   "metadata": {},
   "outputs": [],
   "source": [
    "r, theta, phi = center_grd.coord_sys._toSpherical(center_grd.grid.x,center_grd.grid.y,center_grd.grid.z)\n",
    "co,cx,crho = CO(theta,phi)\n",
    "E_co = dotproduct(center_grd.E,co)\n",
    "E_cx = dotproduct(center_grd.E,cx)\n"
   ]
  },
  {
   "cell_type": "code",
   "execution_count": 20,
   "id": "9b084722-7a92-4bfe-bf33-d7793b7aacab",
   "metadata": {},
   "outputs": [
    {
     "data": {
      "text/plain": [
       "<matplotlib.colorbar.Colorbar at 0x726b2dc4c0a0>"
      ]
     },
     "execution_count": 20,
     "metadata": {},
     "output_type": "execute_result"
    },
    {
     "data": {
      "image/png": "[encoded data removed]",
      "text/plain": [
       "<Figure size 700x600 with 2 Axes>"
      ]
     },
     "metadata": {},
     "output_type": "display_data"
    }
   ],
   "source": [
    "fig = plt.figure(figsize = (7,6))\n",
    "vmax= np.log10(np.abs(E_co.reshape(201,-1)).max())*20\n",
    "plt.pcolor(np.log10(np.abs(E_co.reshape(201,-1)))*20,vmax = vmax, vmin = vmax-50)\n",
    "plt.colorbar()\n"
   ]
  },
  {
   "cell_type": "code",
   "execution_count": 23,
   "id": "708b23e9",
   "metadata": {},
   "outputs": [
    {
     "data": {
      "text/plain": [
       "<matplotlib.colorbar.Colorbar at 0x726b1ac46a30>"
      ]
     },
     "execution_count": 23,
     "metadata": {},
     "output_type": "execute_result"
    },
    {
     "data": {
      "image/png": "[encoded data removed]",
      "text/plain": [
       "<Figure size 700x600 with 2 Axes>"
      ]
     },
     "metadata": {},
     "output_type": "display_data"
    }
   ],
   "source": [
    "fig = plt.figure(figsize = (7,6))\n",
    "plt.pcolor(np.log10(np.abs(center_grd.E.y.reshape(201,-1)))*20,vmax = vmax-40, vmin = vmax-70)\n",
    "plt.colorbar()\n"
   ]
  },
  {
   "cell_type": "code",
   "execution_count": null,
   "id": "1f86aa24-9dc6-4924-8f41-bf13e04aa368",
   "metadata": {},
   "outputs": [],
   "source": [
    "import h5py as h5\n",
    "def readh5(fname):\n",
    "    name = fname.split('.')\n",
    "    with h5.File(name[0]+'.h5','r') as f:\n",
    "        co = f['co-polar'][:,:]\n",
    "        cx = f['cx-polar'][:,:]\n",
    "        Az = f['Az'][:]\n",
    "        El = f['El'][:]\n",
    "    return Az, El, co, cx\n"
   ]
  },
  {
   "cell_type": "code",
   "execution_count": null,
   "id": "bbc5940a-e90c-4de5-8c7f-c4e4c1b48255",
   "metadata": {},
   "outputs": [],
   "source": [
    "Az, El, grasp_co,grasp_cx = readh5('output/_H5/Lens1_POPO_nostop_GaussianBeam_force_farGHz.h5')\n",
    "Az, El, grasp_co_2,grasp_cx_2 = readh5('output/_H5/Lens1_POPO_nostop_GaussianBeamGHz.h5')\n"
   ]
  },
  {
   "cell_type": "code",
   "execution_count": null,
   "id": "6b07a328-bce7-4bbb-aab2-0a34a3430647",
   "metadata": {},
   "outputs": [],
   "source": [
    "fig = plt.figure(figsize = (7,6))\n",
    "plt.pcolor(np.log10(np.abs(grasp_co_2.reshape(501,-1)))*20,vmax = 50, vmin = -20)\n",
    "plt.colorbar()\n"
   ]
  },
  {
   "cell_type": "code",
   "execution_count": null,
   "id": "31e138bb-5cb8-4daa-b33a-5397cb0691ac",
   "metadata": {},
   "outputs": [],
   "source": [
    "fig = plt.figure(figsize = (7,6))\n",
    "plt.pcolor(np.log10(np.abs(grasp_cx_2.reshape(501,-1)))*20,vmax = 0, vmin = -50)\n",
    "plt.colorbar()\n"
   ]
  },
  {
   "cell_type": "code",
   "execution_count": null,
   "id": "3a48100b-6d55-4c35-ad7c-84b312dd0d00",
   "metadata": {},
   "outputs": [],
   "source": [
    "fig  =  plt.figure(figsize= (10,6))\n",
    "plt.plot(np.log10(np.abs(grasp_co.reshape(501,-1)[250,:])/np.abs(grasp_co.reshape(501,-1)[250,:]).max())*20,'k-')\n",
    "plt.plot(np.log10(np.abs(E_co.reshape(501,-1)[250,:])/np.abs(E_co.reshape(501,-1)[250,:]).max())*20,'-')\n"
   ]
  },
  {
   "cell_type": "code",
   "execution_count": null,
   "id": "1974bd54-2132-488e-9e4e-2aabcd84caae",
   "metadata": {},
   "outputs": [],
   "source": [
    "fig  =  plt.figure(figsize= (10,6))\n",
    "plt.plot(np.log10(np.abs(grasp_co.reshape(501,-1)[250,:]))*20,'k-')\n",
    "plt.plot(np.log10(np.abs(E_co.reshape(501,-1)[250,:])**2)*10,'-')\n"
   ]
  },
  {
   "cell_type": "code",
   "execution_count": null,
   "id": "f155c057-599a-4003-961e-8b19449145de",
   "metadata": {},
   "outputs": [],
   "source": [
    "fig  =  plt.figure(figsize= (10,6))\n",
    "plt.plot(np.angle(grasp_co.reshape(501,-1)[250,:]/np.abs(grasp_co.reshape(501,-1)[250,:]).max()),'k-')\n",
    "plt.plot(np.angle(E_co.reshape(501,-1)[250,:]/np.abs(E_co.reshape(501,-1)[250,:]).max()),'-')\n"
   ]
  },
  {
   "cell_type": "code",
   "execution_count": null,
   "id": "c50d6720-7b59-46cb-8b42-1ccdf0862e81",
   "metadata": {},
   "outputs": [],
   "source": [
    "ratio = np.abs(E_co.reshape(501,-1)[250,:]).max()*np.sqrt(4*np.pi/Z0)/k/np.abs(grasp_co.reshape(501,-1)[250,:]).max()\n",
    "print(ratio)\n"
   ]
  },
  {
   "cell_type": "code",
   "execution_count": null,
   "id": "e2ac64f3-90a6-4133-8aba-86bb519ba8f7",
   "metadata": {},
   "outputs": [],
   "source": [
    "fig  =  plt.figure(figsize= (10,6))\n",
    "plt.plot(np.log10(np.abs(grasp_co.reshape(501,-1)[250,:]))*20,'k-')\n",
    "plt.plot(np.log10(np.abs(E_co.reshape(501,-1)[250,:])**2)*10,'-')\n"
   ]
  },
  {
   "cell_type": "code",
   "execution_count": null,
   "id": "475fb48c-bbe4-4427-b658-89cdab575b2c",
   "metadata": {},
   "outputs": [],
   "source": [
    "G_co = grasp_co.reshape(501,-1).T/grasp_co.reshape(501,-1)[250,250]\n",
    "G_co_2 = grasp_co_2.reshape(501,-1).T/grasp_co_2.reshape(501,-1)[250,250]\n",
    "H_co = E_co.reshape(501,-1).T/E_co.reshape(501,-1)[250,250]\n",
    "err = G_co-G_co_2\n"
   ]
  },
  {
   "cell_type": "code",
   "execution_count": null,
   "id": "0640f733-cc9f-46c6-9326-ecee6f88151d",
   "metadata": {},
   "outputs": [],
   "source": [
    "fig = plt.figure(figsize=(5,5))\n",
    "plt.pcolor(np.abs(err))\n",
    "plt.colorbar()\n"
   ]
  },
  {
   "cell_type": "code",
   "execution_count": null,
   "id": "206c85df-5ad7-4b69-affb-70c3f0d42238",
   "metadata": {},
   "outputs": [],
   "source": [
    "G_co = grasp_co.reshape(501,-1)/grasp_co.reshape(501,-1)[250,250]\n",
    "H_co = E_co.reshape(501,-1)/E_co.reshape(501,-1)[250,250]\n",
    "err = G_co-G_co.T\n",
    "err2 = H_co-H_co.T\n"
   ]
  },
  {
   "cell_type": "code",
   "execution_count": null,
   "id": "79f064d9-9481-407c-9eb5-735ebf677c57",
   "metadata": {},
   "outputs": [],
   "source": [
    "fig = plt.figure(figsize=(5,5))\n",
    "plt.pcolor(np.abs(err))\n",
    "plt.colorbar()\n"
   ]
  },
  {
   "cell_type": "code",
   "execution_count": null,
   "id": "c09ca8ac-9d83-4573-9432-572ef2f25bda",
   "metadata": {},
   "outputs": [],
   "source": [
    "fig = plt.figure(figsize=(5,5))\n",
    "plt.pcolor(np.abs(err2))\n",
    "plt.colorbar()\n"
   ]
  },
  {
   "cell_type": "code",
   "execution_count": null,
   "id": "87ad20ac-c29d-44b0-a55e-5ab153436f87",
   "metadata": {},
   "outputs": [],
   "source": [
    "fig = plt.figure(figsize=(5,5))\n",
    "plt.pcolor(err.imag)\n",
    "plt.colorbar()\n"
   ]
  },
  {
   "cell_type": "code",
   "execution_count": null,
   "id": "2ca15bfb-3d3d-424e-a3f2-d0e0a1d0fbb0",
   "metadata": {},
   "outputs": [],
   "source": [
    "fig = plt.figure(figsize=(5,5))\n",
    "plt.pcolor(np.abs(err))\n",
    "plt.colorbar()\n"
   ]
  },
  {
   "cell_type": "code",
   "execution_count": null,
   "id": "952e9e41-9ba6-4012-8681-f6d3f146f007",
   "metadata": {},
   "outputs": [],
   "source": [
    "fig  =  plt.figure(figsize= (10,6))\n",
    "plt.plot(np.log10(np.abs(grasp_co.reshape(501,-1)[250,:]))*20,'k-')\n",
    "plt.plot(np.log10(np.abs(E_co.reshape(501,-1)[250,:])**2)*10,'-')\n"
   ]
  },
  {
   "cell_type": "code",
   "execution_count": null,
   "id": "0f0a2014-7c13-40c8-8ae4-746d0ab85408",
   "metadata": {},
   "outputs": [],
   "source": [
    "fig  =  plt.figure(figsize= (10,6))\n",
    "plt.plot(np.log10(np.abs(np.diagonal(grasp_cx.reshape(501,-1))))*20,'k-')\n",
    "plt.plot(np.log10(np.abs(np.diagonal(center_grd.E.y.reshape(501,-1))))*20,'-')\n",
    "plt.ylim([-60,-10])\n"
   ]
  },
  {
   "cell_type": "code",
   "execution_count": null,
   "id": "ed4a3ff9-7266-4ba6-abbb-5957e8d3de35",
   "metadata": {},
   "outputs": [],
   "source": [
    "L_lensFp_3   = 7.177590111674096\n",
    "L_lens3_2    = 15.586806616226909\n",
    "L_lens2_1    = 57.632802785493645\n",
    "L_lens1_Lyot = 1.162050628144469\n",
    "L_Ly_vw      = 22.7114\n",
    "\n",
    "L_lens1_ref = L_lensFp_3 + L_lens3_2 + L_lens2_1\n",
    "L_lens2_ref = L_lensFp_3 + L_lens3_2\n",
    "L_lens3_ref = L_lensFp_3 \n",
    "L_Ly_ref = L_lens1_ref + L_lens1_Lyot\n",
    "L_vw_ref = L_Ly_ref + L_Ly_vw\n"
   ]
  },
  {
   "cell_type": "code",
   "execution_count": null,
   "id": "4f405b0a",
   "metadata": {},
   "outputs": [],
   "source": [
    "L_lens1_ref*10\n",
    "L_lens2_ref*10\n"
   ]
  },
  {
   "cell_type": "code",
   "execution_count": null,
   "id": "7e7e6fe1",
   "metadata": {},
   "outputs": [],
   "source": []
  }
 ],
 "metadata": {
  "kernelspec": {
   "display_name": "ccatholo",
   "language": "python",
   "name": "python3"
  },
  "language_info": {
   "codemirror_mode": {
    "name": "ipython",
    "version": 3
   },
   "file_extension": ".py",
   "mimetype": "text/x-python",
   "name": "python",
   "nbconvert_exporter": "python",
   "pygments_lexer": "ipython3",
   "version": "3.9.21"
  }
 },
 "nbformat": 4,
 "nbformat_minor": 5
}
