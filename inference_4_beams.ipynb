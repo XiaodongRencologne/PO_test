{
 "cells": [
  {
   "cell_type": "code",
   "execution_count": 1,
   "metadata": {},
   "outputs": [
    {
     "name": "stdout",
     "output_type": "stream",
     "text": [
      "0\n",
      "time used: 0.4791496999999998\n",
      "1\n",
      "time used: 0.5138401999999997\n",
      "2\n",
      "time used: 0.5148143000000003\n",
      "3\n",
      "time used: 0.5172879000000004\n"
     ]
    }
   ],
   "source": [
    "# %load inference_4_beams.py\n",
    "#!/usr/bin/env python\n",
    "\n",
    "# In[1]:\n",
    "\n",
    "\n",
    "import numpy as np;\n",
    "import torch as T;\n",
    "import copy ;\n",
    "import time;\n",
    "import matplotlib.pyplot as plt;\n",
    "import scipy.optimize\n",
    "import os;\n",
    "\n",
    "import Pyccat;\n",
    "from Pyccat import field_calculation;\n",
    "from Pyccat import Make_fitfuc;\n",
    "from Pyccat import Model;\n",
    "\n",
    "import Kirchhoffpy;\n",
    "from Kirchhoffpy.Spheical_field import spheical_grid;\n",
    "from Kirchhoffpy.coordinate_operations import Coord;\n",
    "from Kirchhoffpy.inference import correctphase;\n",
    "from fitting_error_plot import error_plots\n",
    "\n",
    "DEVICE0=T.device('cpu');\n",
    "\n",
    "# get the file name of the input parameters;\n",
    "inputfile='CCAT_model';\n",
    "# read coordinates of the measured maps;\n",
    "sourcefile='beam'\n",
    "# get the measured beam data;\n",
    "measuredbeams='input_beams/measured_beam_maps_51/err_4p_beams.txt'\n",
    "             \n",
    "\n",
    "\n",
    "# In[2]:\n",
    "\n",
    "\n",
    "# 1. the first calculation used to perpare the matrixes to speed up the calculations;\n",
    "defocus0=[400,400,600];\n",
    "defocus1=[400,-400,600];\n",
    "defocus2=[-400,400,600];\n",
    "defocus3=[-400,-400,600];\n",
    "\n",
    "# initial panel errors;\n",
    "ad_m2=np.zeros(5*69);\n",
    "ad_m1=np.zeros((5,77));\n",
    "# first acurrate forward calculations;\n",
    "forward_func,ad2_x,ad2_y,ad1_x,ad1_y=Make_fitfuc(inputfile,sourcefile,defocus0,defocus1,defocus2,defocus3,ad_m2,ad_m1);\n"
   ]
  },
  {
   "cell_type": "code",
   "execution_count": 3,
   "metadata": {},
   "outputs": [],
   "source": [
    "S0=np.genfromtxt('CCAT_model/panel_error_296GHz.txt')\n",
    "paraA=T.tensor([1.0,0,0,0,0,0,1.0,0,0,0,0,0,1.0,0,0,0,0,0,1.0,0,0,0,0,0],dtype=T.float64)\n",
    "paraP=T.tensor(np.zeros(6*4),dtype=T.float64)\n",
    "x=forward_func(T.tensor(S0,dtype=T.float64),paraA,paraP)"
   ]
  },
  {
   "cell_type": "code",
   "execution_count": 9,
   "metadata": {},
   "outputs": [
    {
     "data": {
      "text/plain": [
       "<matplotlib.colorbar.Colorbar at 0x280007579c8>"
      ]
     },
     "execution_count": 9,
     "metadata": {},
     "output_type": "execute_result"
    },
    {
     "data": {
      "image/png": "[encoded data removed]",
      "text/plain": [
       "<Figure size 504x432 with 2 Axes>"
      ]
     },
     "metadata": {
      "needs_background": "light"
     },
     "output_type": "display_data"
    }
   ],
   "source": [
    "fig=plt.figure(figsize=(7,6))\n",
    "plt.pcolor(x[4,].numpy().reshape(51,-1))\n",
    "plt.colorbar()"
   ]
  },
  {
   "cell_type": "code",
   "execution_count": 12,
   "metadata": {},
   "outputs": [
    {
     "data": {
      "text/plain": [
       "array([ 0.00083384,  0.00366551, -0.00586482, ..., -0.00177407,\n",
       "        0.00143305,  0.00210348])"
      ]
     },
     "execution_count": 12,
     "metadata": {},
     "output_type": "execute_result"
    }
   ],
   "source": [
    "x[7,].numpy()"
   ]
  },
  {
   "cell_type": "code",
   "execution_count": null,
   "metadata": {},
   "outputs": [],
   "source": []
  },
  {
   "cell_type": "code",
   "execution_count": null,
   "metadata": {},
   "outputs": [],
   "source": [
    "# 2.define the function used in least-square fitting loops;\n",
    "\n",
    "'''\n",
    "includes the large-scale parameters\n",
    "'''\n",
    "def inference(Lambda_00,Lambda_10,Lambda_01,Lambda_20,Lambda_02,measuredbeams,SNR=70):\n",
    "    '''\n",
    "    1. Lambda_00,Lambda_01,Lambda_10,Lambda_20,Lambda_02, parameters used to compress the degeneracy\n",
    "    in large scale, which is the intrinsic degeneracy of the two-mirror system;\n",
    "    2. measuredbeam, the input measured data;\n",
    "    3. noise added to the \n",
    "    '''\n",
    "    ''' get the locations of the adjusters'''\n",
    "    x2=T.tensor(ad2_x).to(DEVICE0);\n",
    "    y2=T.tensor(ad2_y).to(DEVICE0);\n",
    "    x1=T.tensor(ad1_x).to(DEVICE0);\n",
    "    y1=T.tensor(ad1_y).to(DEVICE0);\n",
    "    '''read the measured beams'''\n",
    "    test=np.genfromtxt(measuredbeams,delimiter=',');\n",
    "    test=T.tensor(test).to(DEVICE0);\n",
    "    test=correctphase(test)\n",
    "\n",
    "    def fitfuc(parameters):\n",
    "        '''input parameters put to tensor type'''\n",
    "        Params=T.tensor(parameters,requires_grad=True);\n",
    "        '''CPU OR GPU'''\n",
    "        parameters=Params.to(DEVICE0)\n",
    "        \n",
    "        '''adjusters'''\n",
    "        adjusters=parameters[0:5*(69+77)];\n",
    "        '''large scale error in amplitude'''\n",
    "        paraA=parameters[5*(69+77):5*(69+77)+6*4];\n",
    "        '''large scale error in phase term (pointing error, curvature erorr)'''\n",
    "        paraP=parameters[5*(69+77)+6*4:];\n",
    "        '''forward calculation'''\n",
    "        \n",
    "        Data=forward_func(adjusters,paraA,paraP);\n",
    "        Data=correctphase(Data)\n",
    "        '''residual between simulation and measurement'''\n",
    "        r0=((Data-test)**2).sum();\n",
    "        \n",
    "        # consider the lagrange factors\n",
    "        S2=adjusters[0:5*69];\n",
    "        S1=adjusters[5*69:];        \n",
    "        Z_00=T.abs((S1).sum())+T.abs((S2).sum()); # compress piston error in large scale;\n",
    "        Z_10=T.abs((x2*S2).sum())+T.abs((x1*S1).sum()) # compress slope error in x\n",
    "        Z_01=T.abs((y2*S2).sum())+T.abs((y1*S1).sum());# slope error in y\n",
    "        Z_20=T.abs((S2*x2**2).sum())+T.abs((S1*(x1**2)).sum()); #  curvature error;\n",
    "        Z_02=T.abs((S2*y2**2).sum())+T.abs((S1*(y1**2)).sum()); \n",
    "        r=r0+Lambda_00*Z_00+Lambda_10*Z_10+Lambda_01*Z_01+Lambda_20*Z_20+Lambda_02*Z_02;\n",
    "        \n",
    "        #Z_00=T.abs((S1).sum())+T.abs((S2).sum()); # compress piston error in large scale;\n",
    "        #Z_10=(S1**2).mean()+(S2**2).mean();\n",
    "        #Z_20=T.abs((S2*x2**2).sum())+T.abs((S1*(x1**2)).sum()); #  curvature error;\n",
    "        #Z_02=T.abs((S2*y2**2).sum())+T.abs((S1*(y1**2)).sum());\n",
    "        #r=r0+Lambda_00*Z_00+Lambda_10*Z_10+Lambda_20*Z_20+Lambda_02*Z_02;\n",
    "        print(Z_00.item(),Z_10.item(),Z_01.item(),Z_20.item(),Z_02.item(),Z_11.item(),Z_22.item());\n",
    "        \n",
    "        r=r.sum();\n",
    "        r.backward()\n",
    "    \n",
    "        return r.data.cpu().numpy(),Params.grad.data.cpu().numpy();\n",
    "    \n",
    "    '''initial input parameters'''\n",
    "    ad=np.zeros(5*146+(6+5)*4); \n",
    "    ad[5*146]=1;ad[5*146+6*1]=1;\n",
    "    ad[5*146+6*2]=1;ad[5*146+6*3]=1;\n",
    "    \n",
    "    start=time.perf_counter();\n",
    "    results=scipy.optimize.minimize(fitfuc,ad,method=\"BFGS\",jac=True,tol=1e-6);\n",
    "    elapsed =(time.perf_counter()-start);\n",
    "    print('time used:',elapsed);\n",
    "    \n",
    "    return results;\n",
    "\n",
    "'''\n",
    "start the fitting process;\n",
    "'''\n",
    "measuredbeams='input_beams/measured_beam_maps_51/err_4p_beams.txt'       \n",
    "results=inference(1*10**(-2),1*10**(-1),1*10**(-2),1*10**(-2),1*10**(-2),measuredbeams);\n",
    "'''\n",
    "save data\n",
    "'''\n",
    "filename='output/inference/test/'\n",
    "if not os.path.exists(filename):\n",
    "    os.makedirs(filename);\n",
    "file_input='input_beams/measured_beam_maps_51/panel_error_296GHz.txt'\n",
    "adjuster0=np.genfromtxt(file_input)\n",
    "np.savetxt(filename+'results'+'.txt',results.x)\n",
    "np.savetxt(filename+'fitting_error'+'.txt',results.x[0:5*146]-adjuster0);"
   ]
  },
  {
   "cell_type": "code",
   "execution_count": null,
   "metadata": {},
   "outputs": [],
   "source": [
    "'''\n",
    "results plots\n",
    "'''\n",
    "filename='output/inference/test/'\n",
    "file_input='input_beams/measured_beam_maps_51/panel_error_296GHz.txt'\n",
    "name='1';\n",
    "error_plots(file_input,filename+'results1.txt',name,inputrms=100,outputrms=10,scale=10)"
   ]
  },
  {
   "cell_type": "code",
   "execution_count": null,
   "metadata": {},
   "outputs": [],
   "source": []
  }
 ],
 "metadata": {
  "kernelspec": {
   "display_name": "Python 3",
   "language": "python",
   "name": "python3"
  },
  "language_info": {
   "codemirror_mode": {
    "name": "ipython",
    "version": 3
   },
   "file_extension": ".py",
   "mimetype": "text/x-python",
   "name": "python",
   "nbconvert_exporter": "python",
   "pygments_lexer": "ipython3",
   "version": "3.7.4"
  }
 },
 "nbformat": 4,
 "nbformat_minor": 2
}
