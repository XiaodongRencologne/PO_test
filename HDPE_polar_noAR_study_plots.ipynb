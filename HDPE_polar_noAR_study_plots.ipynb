{
 "cells": [
  {
   "cell_type": "code",
   "execution_count": 1,
   "metadata": {},
   "outputs": [],
   "source": [
    "from twolenspy.HDPE_lens import HDEP_2lens\n",
    "import h5py as h5\n",
    "import numpy as np\n",
    "import matplotlib.pyplot as plt\n"
   ]
  },
  {
   "cell_type": "code",
   "execution_count": null,
   "metadata": {},
   "outputs": [],
   "source": [
    "PO_sampling_file = 'twolenspy/HDPE_PO_points.h5'\n"
   ]
  },
  {
   "cell_type": "markdown",
   "metadata": {},
   "source": [
    "## Using uniform sampling to study the polarizaiton rotation at 45deg"
   ]
  },
  {
   "cell_type": "code",
   "execution_count": null,
   "metadata": {},
   "outputs": [],
   "source": [
    "Polar_offset = {}\n"
   ]
  },
  {
   "cell_type": "code",
   "execution_count": 6,
   "metadata": {},
   "outputs": [],
   "source": [
    "dx_list = [0,20,40,60,80,100,120]\n",
    "angle_list = [45]#[0,15,30,45,60,75,90,105,120,135,150,165]\n",
    "freq_list = [90,120,150]#,120,150]\n",
    "for freq in freq_list:\n",
    "    data = []\n",
    "    for angle in angle_list:\n",
    "        for item in dx_list:\n",
    "            print(freq, angle,item)\n",
    "            Model1 = HDEP_2lens(freq,\n",
    "                        feedpos = [item,0,0],\n",
    "                        feedrot = [0,0,angle],\n",
    "                        AR_file = None,\n",
    "                        groupname= None,\n",
    "                        outputfolder = '../Data/HDPE/noAR/'+str(freq)+'GHz/')\n",
    "            dA = Model1.plot_beam(cmap = 'inferno',plot = True)\n",
    "            data.append(dA)\n",
    "    Polar_offset[str(freq)] = data\n"
   ]
  },
  {
   "cell_type": "code",
   "execution_count": null,
   "metadata": {},
   "outputs": [],
   "source": [
    "fig, ax = plt.subplots(1,1,figsize=(12,5))\n",
    "for key in Polar_offset.keys():\n",
    "    ax.plot(dx_list,Polar_offset[key],'*-',label=key+' GHz')\n",
    "ax.set_xlabel('Feed offset (mm)',fontsize = 15)\n",
    "ax.set_ylabel('Polarization offset (deg)',fontsize = 15)\n",
    "ax.legend(loc='lower left',fontsize = 15)\n",
    "ax.set_title('Polarization offset vs feed offset, HDPE Lenses without ARC',fontsize = 15)\n"
   ]
  },
  {
   "cell_type": "code",
   "execution_count": null,
   "metadata": {},
   "outputs": [],
   "source": []
  }
 ],
 "metadata": {
  "kernelspec": {
   "display_name": "ccatholo",
   "language": "python",
   "name": "python3"
  },
  "language_info": {
   "codemirror_mode": {
    "name": "ipython",
    "version": 3
   },
   "file_extension": ".py",
   "mimetype": "text/x-python",
   "name": "python",
   "nbconvert_exporter": "python",
   "pygments_lexer": "ipython3",
   "version": "3.9.21"
  }
 },
 "nbformat": 4,
 "nbformat_minor": 2
}
