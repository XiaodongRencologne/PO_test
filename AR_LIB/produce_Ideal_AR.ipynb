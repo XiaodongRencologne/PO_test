{
 "cells": [
  {
   "cell_type": "code",
   "execution_count": 1,
   "metadata": {},
   "outputs": [],
   "source": [
    "import numpy as np\n",
    "import h5py\n",
    "from scipy.interpolate import CubicSpline\n",
    "import matplotlib.pyplot as plt\n"
   ]
  },
  {
   "cell_type": "markdown",
   "metadata": {},
   "source": [
    "1. define a perfect transmission AR coating"
   ]
  },
  {
   "cell_type": "code",
   "execution_count": 2,
   "metadata": {},
   "outputs": [],
   "source": [
    "def ideal_AR(angle0,angle1,N =201, outputfname = 'Ideal_AR.h5'):\n",
    "    \"\"\" \n",
    "    Fresnel Coefficients of Ideal AR COATING,\n",
    "    t and r are in amplitude, not intensity.\n",
    "    t and r are complex values\n",
    "    t and r are different with the real Fresnel coefficients for E and H fields.\n",
    "    becuase the Fresnel coefficients for E and H fields are dependent on n1 and n2. \n",
    "    \"\"\"\n",
    "    theta = np.linspace(angle0, angle1, N)/180*np.pi\n",
    "    rp = np.zeros_like(theta)*np.exp(1j*np.pi)\n",
    "    rs = np.zeros_like(theta)*np.exp(1j*np.pi)\n",
    "    tp = np.ones_like(theta)*np.exp(1j*0)\n",
    "    ts = np.ones_like(theta)*np.exp(1j*0)\n",
    "\n",
    "\n",
    "    fig, ax = plt.subplots(1, 1, figsize=(12, 6))\n",
    "    #ax.plot(theta * 180 / np.pi, 20*np.log10(np.abs(rp)), label='rp', color='blue')\n",
    "    #ax.plot(theta * 180 / np.pi, 20*np.log10(np.abs(rs)), label='rs', color='orange')\n",
    "    ax.plot(theta * 180 / np.pi, 20*np.log10(np.abs(tp)), label='tp', color='green')\n",
    "    ax.plot(theta * 180 / np.pi, 20*np.log10(np.abs(ts)), label='ts', color='red')\n",
    "    ax.set_xlabel('Angle of incidence (degrees)')\n",
    "    ax.set_ylabel('Fresnel Coefficients')\n",
    "    ax.set_title('Fresnel Coefficients for Ideal AR Coating')\n",
    "    ax.legend()\n",
    "    ax.grid()\n",
    "    plt.show()\n",
    "\n",
    "\n",
    "    with h5py.File(outputfname, 'w') as f:\n",
    "        g = f.create_group('ideal_AR')\n",
    "        g.create_dataset('theta', data=theta)\n",
    "        g.create_dataset('rp', data=rp)\n",
    "        g.create_dataset('rs', data=rs)\n",
    "        g.create_dataset('tp', data=tp)\n",
    "        g.create_dataset('ts', data=ts)\n",
    "    return theta, rp, rs, tp, ts\n"
   ]
  },
  {
   "cell_type": "code",
   "execution_count": 3,
   "metadata": {},
   "outputs": [
    {
     "data": {
      "image/png": "[encoded data removed]",
      "text/plain": [
       "<Figure size 1200x600 with 1 Axes>"
      ]
     },
     "metadata": {},
     "output_type": "display_data"
    }
   ],
   "source": [
    "data  = ideal_AR(0, 90, N=501, outputfname='Ideal_AR.h5')\n"
   ]
  },
  {
   "cell_type": "code",
   "execution_count": null,
   "metadata": {},
   "outputs": [],
   "source": [
    "### Fresnel coefficients for surface with AR coating\n",
    "def Creat_Fresnel_coeffi_AR(theta_i,t_p,r_p,t_s,r_s,n1,n2):\n",
    "    ### To be noted that t and r are the coefficients from air to silicon.\n",
    "    tp_AR = CubicSpline(theta_i,t_p)\n",
    "    rp_AR = CubicSpline(theta_i,r_p)\n",
    "    ts_AR = CubicSpline(theta_i,t_s)\n",
    "    rs_AR = CubicSpline(theta_i,r_s)\n",
    "    def Fresnel_coeffi_AR1(theta):\n",
    "        t_p = tp_AR(theta)\n",
    "        t_s = ts_AR(theta)\n",
    "        r_p = rp_AR(theta)\n",
    "        r_s = rs_AR(theta)\n",
    "        return t_p,t_s,r_p,r_s\n",
    "    def Fresnel_coeffi_AR2(theta):\n",
    "        theta_t = np.arcsin(n2*np.sin(theta)/n1)\n",
    "        factor = (n2/n1)* (np.cos(theta)/np.cos(theta_t))\n",
    "        t_p = tp_AR(theta_t) * factor\n",
    "        t_s = ts_AR(theta_t) * factor\n",
    "        r_p = rp_AR(theta_t)\n",
    "        r_s = rs_AR(theta_t)\n",
    "        return t_p,t_s,r_p,r_s\n",
    "    return Fresnel_coeffi_AR1,Fresnel_coeffi_AR2\n",
    "\n",
    "def read_Fresnel_coeffi_AR(filename, groupname, n1, n2):\n",
    "    with h5py.File(filename, 'r') as f:\n",
    "        if groupname in f:\n",
    "            group = f[groupname]\n",
    "            theta_i = group['theta'][:]\n",
    "            theta_t = np.arcsin(n1/n2 * np.sin(theta_i))\n",
    "            tp = group['tp'][:]\n",
    "            rp = group['rp'][:]\n",
    "            ts = group['ts'][:]\n",
    "            rs = group['rs'][:]\n",
    "            factor = np.sqrt(n1 * np.cos(theta_i) / n2 /np.cos(theta_t))\n",
    "            tp = tp * factor\n",
    "            ts = ts * factor\n",
    "            Fresnel_coeffi_AR1,Fresnel_coeffi_AR2 = Creat_Fresnel_coeffi_AR(theta_i,tp,rp,ts,rs,n1,n2)\n",
    "            return Fresnel_coeffi_AR1, Fresnel_coeffi_AR2\n",
    "        else:\n",
    "            print(f\"Group '{groupname}' not found in the file.\")\n",
    "            return None,None\n"
   ]
  },
  {
   "cell_type": "code",
   "execution_count": null,
   "metadata": {},
   "outputs": [],
   "source": [
    "AR1,AR2 = read_Fresnel_coeffi_AR('Ideal_AR.h5', 'ideal_AR', 1.0, 3.36)\n"
   ]
  },
  {
   "cell_type": "code",
   "execution_count": null,
   "metadata": {},
   "outputs": [],
   "source": [
    "Angle = np.linspace(0,80,201)/180*np.pi\n",
    "t_p, t_s, r_p, r_s = AR1(Angle)\n",
    "plt.figure(figsize=(12, 6))\n",
    "plt.plot(Angle * 180 / np.pi, np.abs(t_p), label='tp', color='green')\n",
    "plt.plot(Angle * 180 / np.pi, np.abs(t_s), label='ts', color='red')\n"
   ]
  },
  {
   "cell_type": "code",
   "execution_count": null,
   "metadata": {},
   "outputs": [],
   "source": [
    "Angle = np.linspace(0,15,201)/180*np.pi\n",
    "t_p, t_s, r_p, r_s = AR2(Angle)\n",
    "plt.figure(figsize=(12, 6))\n",
    "plt.plot(Angle * 180 / np.pi, np.abs(t_p), label='tp', color='green')\n",
    "plt.plot(Angle * 180 / np.pi, np.abs(t_s), label='ts', color='red')\n"
   ]
  },
  {
   "cell_type": "code",
   "execution_count": null,
   "metadata": {},
   "outputs": [],
   "source": [
    "n1 = 1.0\n",
    "n2 = 3.36\n",
    "theta_t = np.arcsin(n2/n1 * np.sin(Angle))\n"
   ]
  },
  {
   "cell_type": "code",
   "execution_count": null,
   "metadata": {},
   "outputs": [],
   "source": []
  }
 ],
 "metadata": {
  "kernelspec": {
   "display_name": "ccatholo",
   "language": "python",
   "name": "python3"
  },
  "language_info": {
   "codemirror_mode": {
    "name": "ipython",
    "version": 3
   },
   "file_extension": ".py",
   "mimetype": "text/x-python",
   "name": "python",
   "nbconvert_exporter": "python",
   "pygments_lexer": "ipython3",
   "version": "3.9.21"
  }
 },
 "nbformat": 4,
 "nbformat_minor": 2
}
