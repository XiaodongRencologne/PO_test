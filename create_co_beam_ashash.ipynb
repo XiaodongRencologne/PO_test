{
 "cells": [
  {
   "cell_type": "code",
   "execution_count": 1,
   "metadata": {},
   "outputs": [],
   "source": [
    "import matplotlib.pyplot as plt\n",
    "import numpy as np\n",
    "from Kirchhoffpy import coordinate_operations,field_storage\n",
    "from Kirchhoffpy.Vopy import CO,dotproduct,vector\n",
    "import h5py\n"
   ]
  },
  {
   "cell_type": "code",
   "execution_count": 2,
   "metadata": {},
   "outputs": [],
   "source": [
    "def read_file(fname):\n",
    "    E = vector()\n",
    "    with h5py.File(fname,'r') as f:\n",
    "        u   = f['u'][:]\n",
    "        v   = f['v'][:]\n",
    "\n",
    "        E.x = f['Ex'][:]#.reshape(sizey,sizex)\n",
    "        E.y = f['Ey'][:]#.reshape(sizey,sizex)\n",
    "        E.z = f['Ez'][:]#.reshape(sizey,sizex)\n",
    "    return E, u,v\n",
    "\n",
    "def convert_co_cx(x,y, E):\n",
    "    X,Y = np.meshgrid(x,y)\n",
    "    z = np.sqrt(1 - X**2- Y**2).ravel()\n",
    "    r, theta, phi = coordinate_operations.cartesian_to_spherical(X.ravel(),Y.ravel(),z)\n",
    "    co,cx,crho = CO(theta,phi)\n",
    "    E_co = dotproduct(E,co)\n",
    "    E_cx = dotproduct(E,cx)\n",
    "    sizex = x.size\n",
    "    sizey = y.size\n",
    "    return E_co.reshape(sizey,sizex), E_cx.reshape(sizey,sizex)\n",
    "\n",
    "def saveh5(fname,u,v,E_co, E_cx):\n",
    "    with h5py.File(fname,'w') as f:\n",
    "        f.create_dataset('u',data =u)\n",
    "        f.create_dataset('v',data =v)\n",
    "        f.create_dataset('E_co',data =E_co)\n",
    "        f.create_dataset('E_cx',data =E_cx)\n",
    "    return True\n"
   ]
  },
  {
   "cell_type": "code",
   "execution_count": 3,
   "metadata": {},
   "outputs": [
    {
     "data": {
      "text/plain": [
       "True"
      ]
     },
     "execution_count": 3,
     "metadata": {},
     "output_type": "execute_result"
    }
   ],
   "source": [
    "E_90, U, V = read_file('../Data/output_polar_ideal_AR/90GHz/0_0_0mm_polar_0_grd.h5')\n",
    "E_90_co, E_90_cx = convert_co_cx(U,V,E_90)\n",
    "saveh5('../Data/output_polar_ideal_AR/90GHz/center_beam_90GHz_sosat.h5',U,V,E_90_co,E_90_cx)\n"
   ]
  },
  {
   "cell_type": "code",
   "execution_count": 4,
   "metadata": {},
   "outputs": [],
   "source": [
    "def sigma(T,T_angle):\n",
    "    Sigma_2 = -T_angle**2*np.log10(np.exp(1))*20/T\n",
    "    return Sigma_2\n"
   ]
  },
  {
   "cell_type": "code",
   "execution_count": 6,
   "metadata": {},
   "outputs": [],
   "source": [
    "theta_0 = np.sqrt(sigma(-2.1714724,10.1161095))/180*np.pi\n"
   ]
  },
  {
   "cell_type": "code",
   "execution_count": null,
   "metadata": {},
   "outputs": [],
   "source": [
    "freq = 90*10**9\n",
    "c = 299792458*1000 \n",
    "Lambda = c/freq\n"
   ]
  },
  {
   "cell_type": "code",
   "execution_count": null,
   "metadata": {},
   "outputs": [],
   "source": [
    "w0 =Lambda/np.pi/theta_0\n"
   ]
  },
  {
   "cell_type": "code",
   "execution_count": null,
   "metadata": {},
   "outputs": [
    {
     "name": "stdout",
     "output_type": "stream",
     "text": [
      "0.3531188373083085 3.0026688249121296\n"
     ]
    }
   ],
   "source": [
    "print(theta_0,w0)\n"
   ]
  },
  {
   "cell_type": "code",
   "execution_count": null,
   "metadata": {},
   "outputs": [],
   "source": []
  }
 ],
 "metadata": {
  "kernelspec": {
   "display_name": "ccatholo",
   "language": "python",
   "name": "python3"
  },
  "language_info": {
   "codemirror_mode": {
    "name": "ipython",
    "version": 3
   },
   "file_extension": ".py",
   "mimetype": "text/x-python",
   "name": "python",
   "nbconvert_exporter": "python",
   "pygments_lexer": "ipython3",
   "version": "3.9.21"
  }
 },
 "nbformat": 4,
 "nbformat_minor": 2
}
