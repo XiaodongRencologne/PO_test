{
 "cells": [
  {
   "cell_type": "code",
   "execution_count": 1,
   "id": "f1691dbf-8c73-4ebe-8189-b5277660d5f0",
   "metadata": {},
   "outputs": [],
   "source": [
    "import pyvista as pv\n",
    "from Kirchhoffpy import lenspy\n",
    "import matplotlib.pyplot as plt\n",
    "import numpy as np"
   ]
  },
  {
   "cell_type": "code",
   "execution_count": 2,
   "id": "e6acd8d2",
   "metadata": {},
   "outputs": [
    {
     "data": {
      "text/plain": [
       "\"\\nsrffolder = 'srf2/'\\nx = np.linspace(0,200,101)/10\\nf1 = lenspy.read_rsf(srffolder + 'lens1_f1.rsf')\\nf2 = lenspy.read_rsf2(srffolder + 'lens1_f1.rsf')\\nz1,n1 = f1(x,np.zeros(x.shape))\\nz2,n2 = f2(x,np.zeros(x.shape))\\n\""
      ]
     },
     "execution_count": 2,
     "metadata": {},
     "output_type": "execute_result"
    }
   ],
   "source": [
    "\"\"\"\n",
    "srffolder = 'srf2/'\n",
    "x = np.linspace(0,200,101)/10\n",
    "f1 = lenspy.read_rsf(srffolder + 'lens1_f1.rsf')\n",
    "f2 = lenspy.read_rsf2(srffolder + 'lens1_f1.rsf')\n",
    "z1,n1 = f1(x,np.zeros(x.shape))\n",
    "z2,n2 = f2(x,np.zeros(x.shape))\n",
    "\"\"\""
   ]
  },
  {
   "cell_type": "code",
   "execution_count": 3,
   "id": "621a2729-ac20-4174-b37b-7597af405653",
   "metadata": {},
   "outputs": [],
   "source": [
    "p = pv.Plotter()\n",
    "srffolder = 'srf2/'\n",
    "L1 = lenspy.simple_Lens(2,43.4991 ,400, srffolder + 'lens1_f1.rsf', srffolder + 'lens1_f2.rsf',p,[0,0,-803.9719951339464],name = 'L1')\n",
    "L2 = lenspy.simple_Lens(2,46.9671 ,400, srffolder + 'lens2_f1.rsf', srffolder + 'lens2_f2.rsf',p,[0,0,-227.64396727901004],name = 'L2')\n",
    "L3 = lenspy.simple_Lens(2,29.6556 ,400, srffolder + 'lens3_f1.rsf', srffolder + 'lens3_f2.rsf',p,[0,0,-71.77590111674095],name = 'L3')"
   ]
  },
  {
   "cell_type": "code",
   "execution_count": 20,
   "id": "e38c6444-6e9f-44a3-83bd-44e925f23d14",
   "metadata": {},
   "outputs": [
    {
     "name": "stderr",
     "output_type": "stream",
     "text": [
      "/home/xren/miniconda3/envs/ccatholo/lib/python3.9/site-packages/pyvista/core/filters/poly_data.py:3144: PyVistaFutureWarning: The default value of the ``capping`` keyword argument will change in a future version to ``True`` to match the behavior of VTK. We recommend passing the keyword explicitly to prevent future surprises.\n",
      "  warnings.warn(\n"
     ]
    },
    {
     "name": "stdout",
     "output_type": "stream",
     "text": [
      "A view with name (P_0x7f74875d3a00_0) is already registered\n",
      " => returning previous one\n"
     ]
    },
    {
     "data": {
      "application/vnd.jupyter.widget-view+json": {
       "model_id": "5a232b39ecc74233bdb08a02c13a9c93",
       "version_major": 2,
       "version_minor": 0
      },
      "text/plain": [
       "Widget(value='<iframe src=\"http://localhost:35793/index.html?ui=P_0x7f74875d3a00_0&reconnect=auto\" class=\"pyvi…"
      ]
     },
     "metadata": {},
     "output_type": "display_data"
    }
   ],
   "source": [
    "L1.view(1001,11)\n",
    "#L2.view(201,201)\n",
    "#L3.view(201,201)\n",
    "p.show()"
   ]
  },
  {
   "cell_type": "code",
   "execution_count": 5,
   "id": "57287a14-a21a-45d0-bc7a-bc6878607d52",
   "metadata": {},
   "outputs": [],
   "source": [
    "def plot(L):\n",
    "    figure = plt.figure(figsize = (10,8))\n",
    "    plt.plot(L.v_x1,L.v_z1,'k-')\n",
    "    plt.plot(-L.v_x1,L.v_z1,'k-')\n",
    "    plt.plot(L.v_x2,L.v_z2,'k-')\n",
    "    plt.plot(-L.v_x2,L.v_z2,'k-')\n",
    "    plt.ylim([0,800])\n",
    "    plt.axis('equal')\n",
    "    plt.show()"
   ]
  },
  {
   "cell_type": "code",
   "execution_count": 6,
   "id": "632a65be-161f-4538-a879-37075c4b0168",
   "metadata": {},
   "outputs": [
    {
     "data": {
      "image/png": "[encoded data removed]",
      "text/plain": [
       "<Figure size 1000x800 with 1 Axes>"
      ]
     },
     "metadata": {},
     "output_type": "display_data"
    }
   ],
   "source": [
    "plot(L1)"
   ]
  },
  {
   "cell_type": "code",
   "execution_count": 7,
   "id": "44450a1e-8954-42f4-98f8-e2d59077bb33",
   "metadata": {},
   "outputs": [],
   "source": [
    "import numpy as np\n",
    "import torch as T"
   ]
  },
  {
   "cell_type": "code",
   "execution_count": 8,
   "id": "1522c448-fdb7-4eea-9e19-87e3f187bccd",
   "metadata": {},
   "outputs": [],
   "source": [
    "n=2\n",
    "x = np.linspace(0,n,n+1)\n",
    "y = np.linspace(0,n,n+1)\n",
    "z = np.linspace(0,n,n+1)"
   ]
  },
  {
   "cell_type": "code",
   "execution_count": 9,
   "id": "e2a5473c-5d51-4078-8470-b4f7f08ba276",
   "metadata": {},
   "outputs": [],
   "source": [
    "A =np.concatenate((x,y,z)).reshape(3,-1)"
   ]
  },
  {
   "cell_type": "code",
   "execution_count": 10,
   "id": "4eba8fa2-efc2-40c6-a99d-c5f86134cb78",
   "metadata": {},
   "outputs": [],
   "source": [
    "B = np.concatenate((x,y*2,z)).reshape(3,-1)"
   ]
  },
  {
   "cell_type": "code",
   "execution_count": 11,
   "id": "f18958a8-1f4d-4810-a3c9-5ffdb8a00657",
   "metadata": {},
   "outputs": [
    {
     "data": {
      "text/plain": [
       "array([[0., 1., 2.],\n",
       "       [0., 1., 2.],\n",
       "       [0., 1., 2.]])"
      ]
     },
     "execution_count": 11,
     "metadata": {},
     "output_type": "execute_result"
    }
   ],
   "source": [
    "A"
   ]
  },
  {
   "cell_type": "code",
   "execution_count": 12,
   "id": "61179caa-1149-4ed7-9d5b-8ce1428e5d8f",
   "metadata": {},
   "outputs": [
    {
     "data": {
      "text/plain": [
       "array([[0., 1., 2.],\n",
       "       [0., 2., 4.],\n",
       "       [0., 1., 2.]])"
      ]
     },
     "execution_count": 12,
     "metadata": {},
     "output_type": "execute_result"
    }
   ],
   "source": [
    "B"
   ]
  },
  {
   "cell_type": "code",
   "execution_count": 13,
   "id": "3eaba5b6-0b85-430a-a952-6ea737585f7c",
   "metadata": {},
   "outputs": [
    {
     "data": {
      "text/plain": [
       "array([[0., 0., 0.],\n",
       "       [0., 0., 0.],\n",
       "       [0., 0., 0.]])"
      ]
     },
     "execution_count": 13,
     "metadata": {},
     "output_type": "execute_result"
    }
   ],
   "source": [
    "np.cross(A,B,axisc=1)"
   ]
  },
  {
   "cell_type": "code",
   "execution_count": 14,
   "id": "75fe1147-3471-4cfc-9fc7-fab3a8888fb9",
   "metadata": {},
   "outputs": [
    {
     "name": "stderr",
     "output_type": "stream",
     "text": [
      "/tmp/ipykernel_3238108/492690706.py:1: UserWarning: Using torch.cross without specifying the dim arg is deprecated.\n",
      "Please either pass the dim explicitly or simply use torch.linalg.cross.\n",
      "The default value of dim will change to agree with that of linalg.cross in a future release. (Triggered internally at /pytorch/aten/src/ATen/native/Cross.cpp:62.)\n",
      "  T.cross(T.tensor(A),T.tensor(B))\n"
     ]
    },
    {
     "data": {
      "text/plain": [
       "tensor([[ 0., -1., -4.],\n",
       "        [ 0.,  0.,  0.],\n",
       "        [ 0.,  1.,  4.]], dtype=torch.float64)"
      ]
     },
     "execution_count": 14,
     "metadata": {},
     "output_type": "execute_result"
    }
   ],
   "source": [
    "T.cross(T.tensor(A),T.tensor(B))"
   ]
  },
  {
   "cell_type": "code",
   "execution_count": 15,
   "id": "a45f0f30-843d-422b-ae09-f970f94e01f8",
   "metadata": {},
   "outputs": [
    {
     "data": {
      "text/plain": [
       "tensor([[ 0., -1., -4.],\n",
       "        [ 0.,  0.,  0.],\n",
       "        [ 0.,  1.,  4.]], dtype=torch.float64)"
      ]
     },
     "execution_count": 15,
     "metadata": {},
     "output_type": "execute_result"
    }
   ],
   "source": [
    "T.cross(T.tensor(A),T.tensor(B))"
   ]
  },
  {
   "cell_type": "code",
   "execution_count": 16,
   "id": "e53ce832-048a-4d69-bf0f-5de6dff4c907",
   "metadata": {},
   "outputs": [
    {
     "data": {
      "text/plain": [
       "array([[0., 1., 2.],\n",
       "       [0., 2., 4.],\n",
       "       [0., 1., 2.]])"
      ]
     },
     "execution_count": 16,
     "metadata": {},
     "output_type": "execute_result"
    }
   ],
   "source": [
    "B"
   ]
  },
  {
   "cell_type": "code",
   "execution_count": 17,
   "id": "d7ba1d99-3f2d-4596-ab0f-24a100a99ed5",
   "metadata": {},
   "outputs": [
    {
     "data": {
      "text/plain": [
       "array([[0., 1., 2.],\n",
       "       [0., 1., 2.],\n",
       "       [0., 1., 2.]])"
      ]
     },
     "execution_count": 17,
     "metadata": {},
     "output_type": "execute_result"
    }
   ],
   "source": [
    "A"
   ]
  },
  {
   "cell_type": "code",
   "execution_count": null,
   "id": "57d2207d-fe1d-4da0-b3eb-af0424e03e6c",
   "metadata": {},
   "outputs": [],
   "source": []
  }
 ],
 "metadata": {
  "kernelspec": {
   "display_name": "Python 3 (ipykernel)",
   "language": "python",
   "name": "python3"
  },
  "language_info": {
   "codemirror_mode": {
    "name": "ipython",
    "version": 3
   },
   "file_extension": ".py",
   "mimetype": "text/x-python",
   "name": "python",
   "nbconvert_exporter": "python",
   "pygments_lexer": "ipython3",
   "version": "3.9.21"
  }
 },
 "nbformat": 4,
 "nbformat_minor": 5
}
