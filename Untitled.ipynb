{
 "cells": [
  {
   "cell_type": "code",
   "execution_count": 1,
   "id": "f1691dbf-8c73-4ebe-8189-b5277660d5f0",
   "metadata": {},
   "outputs": [],
   "source": [
    "import pyvista as pv\n",
    "from Kirchhoffpy import lenspy\n",
    "import matplotlib.pyplot as plt\n",
    "import numpy as np"
   ]
  },
  {
   "cell_type": "code",
   "execution_count": null,
   "id": "e6acd8d2",
   "metadata": {},
   "outputs": [
    {
     "name": "stderr",
     "output_type": "stream",
     "text": [
      "e:\\E_Laptop_new\\Project in Köln\\1_Holography inference\\program_POtest\\PO_test\\Kirchhoffpy\\lenspy.py:76: RuntimeWarning: invalid value encountered in true_divide\n",
      "  n.x = cs(r,1)*x/r\n",
      "e:\\E_Laptop_new\\Project in Köln\\1_Holography inference\\program_POtest\\PO_test\\Kirchhoffpy\\lenspy.py:77: RuntimeWarning: invalid value encountered in true_divide\n",
      "  n.y = cs(r,1)*y/r\n"
     ]
    }
   ],
   "source": [
    "\"\"\"\n",
    "srffolder = 'srf2/'\n",
    "x = np.linspace(0,200,101)/10\n",
    "f1 = lenspy.read_rsf(srffolder + 'lens1_f1.rsf')\n",
    "f2 = lenspy.read_rsf2(srffolder + 'lens1_f1.rsf')\n",
    "z1,n1 = f1(x,np.zeros(x.shape))\n",
    "z2,n2 = f2(x,np.zeros(x.shape))\n",
    "\"\"\""
   ]
  },
  {
   "cell_type": "code",
   "execution_count": null,
   "id": "621a2729-ac20-4174-b37b-7597af405653",
   "metadata": {},
   "outputs": [],
   "source": [
    "p = pv.Plotter()\n",
    "srffolder = 'srf2/'\n",
    "L1 = lenspy.simple_Lens(2,43.4991 ,400, srffolder + 'lens1_f1.rsf', srffolder + 'lens1_f2.rsf',p,[0,0,-803.9719951339464],name = 'L1')\n",
    "L2 = lenspy.simple_Lens(2,46.9671 ,400, srffolder + 'lens2_f1.rsf', srffolder + 'lens2_f2.rsf',p,[0,0,-227.64396727901004],name = 'L2')\n",
    "L3 = lenspy.simple_Lens(2,29.6556 ,400, srffolder + 'lens3_f1.rsf', srffolder + 'lens3_f2.rsf',p,[0,0,-71.77590111674095],name = 'L3')"
   ]
  },
  {
   "cell_type": "code",
   "execution_count": null,
   "id": "e38c6444-6e9f-44a3-83bd-44e925f23d14",
   "metadata": {},
   "outputs": [],
   "source": [
    "L1.view(21,11)\n",
    "#L2.view(201,201)\n",
    "#L3.view(201,201)\n",
    "p.show()"
   ]
  },
  {
   "cell_type": "code",
   "execution_count": null,
   "id": "57287a14-a21a-45d0-bc7a-bc6878607d52",
   "metadata": {},
   "outputs": [],
   "source": [
    "def plot(L):\n",
    "    figure = plt.figure(figsize = (10,8))\n",
    "    plt.plot(L.v_x1,L.v_z1,'k-')\n",
    "    plt.plot(-L.v_x1,L.v_z1,'k-')\n",
    "    plt.plot(L.v_x2,L.v_z2,'k-')\n",
    "    plt.plot(-L.v_x2,L.v_z2,'k-')\n",
    "    plt.ylim([0,800])\n",
    "    plt.axis('equal')\n",
    "    plt.show()"
   ]
  },
  {
   "cell_type": "code",
   "execution_count": null,
   "id": "632a65be-161f-4538-a879-37075c4b0168",
   "metadata": {},
   "outputs": [],
   "source": [
    "plot(L1)"
   ]
  },
  {
   "cell_type": "code",
   "execution_count": null,
   "id": "44450a1e-8954-42f4-98f8-e2d59077bb33",
   "metadata": {},
   "outputs": [],
   "source": []
  }
 ],
 "metadata": {
  "kernelspec": {
   "display_name": "Python 3",
   "language": "python",
   "name": "python3"
  },
  "language_info": {
   "codemirror_mode": {
    "name": "ipython",
    "version": 3
   },
   "file_extension": ".py",
   "mimetype": "text/x-python",
   "name": "python",
   "nbconvert_exporter": "python",
   "pygments_lexer": "ipython3",
   "version": "3.9.20"
  }
 },
 "nbformat": 4,
 "nbformat_minor": 5
}
