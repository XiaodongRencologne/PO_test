{
 "cells": [
  {
   "cell_type": "code",
   "execution_count": 1,
   "id": "f1691dbf-8c73-4ebe-8189-b5277660d5f0",
   "metadata": {},
   "outputs": [],
   "source": [
    "import pyvista as pv\n",
    "from Kirchhoffpy import lenspy\n",
    "import matplotlib.pyplot as plt\n",
    "import numpy as np"
   ]
  },
  {
   "cell_type": "code",
   "execution_count": 2,
   "id": "e6acd8d2",
   "metadata": {},
   "outputs": [
    {
     "data": {
      "text/plain": [
       "\"\\nsrffolder = 'srf2/'\\nx = np.linspace(0,200,101)/10\\nf1 = lenspy.read_rsf(srffolder + 'lens1_f1.rsf')\\nf2 = lenspy.read_rsf2(srffolder + 'lens1_f1.rsf')\\nz1,n1 = f1(x,np.zeros(x.shape))\\nz2,n2 = f2(x,np.zeros(x.shape))\\n\""
      ]
     },
     "execution_count": 2,
     "metadata": {},
     "output_type": "execute_result"
    }
   ],
   "source": [
    "\"\"\"\n",
    "srffolder = 'srf2/'\n",
    "x = np.linspace(0,200,101)/10\n",
    "f1 = lenspy.read_rsf(srffolder + 'lens1_f1.rsf')\n",
    "f2 = lenspy.read_rsf2(srffolder + 'lens1_f1.rsf')\n",
    "z1,n1 = f1(x,np.zeros(x.shape))\n",
    "z2,n2 = f2(x,np.zeros(x.shape))\n",
    "\"\"\""
   ]
  },
  {
   "cell_type": "code",
   "execution_count": 3,
   "id": "621a2729-ac20-4174-b37b-7597af405653",
   "metadata": {},
   "outputs": [],
   "source": [
    "p = pv.Plotter()\n",
    "srffolder = 'srf2/'\n",
    "L1 = lenspy.simple_Lens(2,43.4991 ,400, srffolder + 'lens1_f1.rsf', srffolder + 'lens1_f2.rsf',p,[0,0,-803.9719951339464],name = 'L1')\n",
    "L2 = lenspy.simple_Lens(2,46.9671 ,400, srffolder + 'lens2_f1.rsf', srffolder + 'lens2_f2.rsf',p,[0,0,-227.64396727901004],name = 'L2')\n",
    "L3 = lenspy.simple_Lens(2,29.6556 ,400, srffolder + 'lens3_f1.rsf', srffolder + 'lens3_f2.rsf',p,[0,0,-71.77590111674095],name = 'L3')"
   ]
  },
  {
   "cell_type": "code",
   "execution_count": 7,
   "id": "e38c6444-6e9f-44a3-83bd-44e925f23d14",
   "metadata": {},
   "outputs": [
    {
     "name": "stdout",
     "output_type": "stream",
     "text": [
      "A view with name (P_0x7de46ef123d0_0) is already registered\n",
      " => returning previous one\n"
     ]
    },
    {
     "data": {
      "application/vnd.jupyter.widget-view+json": {
       "model_id": "a30e81c682954dfb8b1682d61a2cf036",
       "version_major": 2,
       "version_minor": 0
      },
      "text/plain": [
       "Widget(value='<iframe src=\"http://localhost:34371/index.html?ui=P_0x7de46ef123d0_0&reconnect=auto\" class=\"pyvi…"
      ]
     },
     "metadata": {},
     "output_type": "display_data"
    }
   ],
   "source": [
    "L1.view3(N1 = [11,1,11,1],N2 =[11,1,11,1])\n",
    "#L2.view3(N1 = [5,1,5,1],N2 =[5,1,5,1])\n",
    "#L3.view3(N1 = [3,1,3,1],N2 =[3,1,3,1])\n",
    "p.show()"
   ]
  },
  {
   "cell_type": "code",
   "execution_count": 5,
   "id": "57287a14-a21a-45d0-bc7a-bc6878607d52",
   "metadata": {},
   "outputs": [],
   "source": [
    "def plot(L):\n",
    "    figure = plt.figure(figsize = (10,8))\n",
    "    plt.plot(L.v_x1,L.v_z1,'k-')\n",
    "    plt.plot(-L.v_x1,L.v_z1,'k-')\n",
    "    plt.plot(L.v_x2,L.v_z2,'k-')\n",
    "    plt.plot(-L.v_x2,L.v_z2,'k-')\n",
    "    plt.ylim([0,800])\n",
    "    plt.axis('equal')\n",
    "    plt.show()"
   ]
  },
  {
   "cell_type": "code",
   "execution_count": 6,
   "id": "632a65be-161f-4538-a879-37075c4b0168",
   "metadata": {},
   "outputs": [
    {
     "ename": "AttributeError",
     "evalue": "'simple_Lens' object has no attribute 'v_x1'",
     "output_type": "error",
     "traceback": [
      "\u001b[0;31m---------------------------------------------------------------------------\u001b[0m",
      "\u001b[0;31mAttributeError\u001b[0m                            Traceback (most recent call last)",
      "Cell \u001b[0;32mIn[6], line 1\u001b[0m\n\u001b[0;32m----> 1\u001b[0m \u001b[43mplot\u001b[49m\u001b[43m(\u001b[49m\u001b[43mL1\u001b[49m\u001b[43m)\u001b[49m\n",
      "Cell \u001b[0;32mIn[5], line 3\u001b[0m, in \u001b[0;36mplot\u001b[0;34m(L)\u001b[0m\n\u001b[1;32m      1\u001b[0m \u001b[38;5;28;01mdef\u001b[39;00m\u001b[38;5;250m \u001b[39m\u001b[38;5;21mplot\u001b[39m(L):\n\u001b[1;32m      2\u001b[0m     figure \u001b[38;5;241m=\u001b[39m plt\u001b[38;5;241m.\u001b[39mfigure(figsize \u001b[38;5;241m=\u001b[39m (\u001b[38;5;241m10\u001b[39m,\u001b[38;5;241m8\u001b[39m))\n\u001b[0;32m----> 3\u001b[0m     plt\u001b[38;5;241m.\u001b[39mplot(\u001b[43mL\u001b[49m\u001b[38;5;241;43m.\u001b[39;49m\u001b[43mv_x1\u001b[49m,L\u001b[38;5;241m.\u001b[39mv_z1,\u001b[38;5;124m'\u001b[39m\u001b[38;5;124mk-\u001b[39m\u001b[38;5;124m'\u001b[39m)\n\u001b[1;32m      4\u001b[0m     plt\u001b[38;5;241m.\u001b[39mplot(\u001b[38;5;241m-\u001b[39mL\u001b[38;5;241m.\u001b[39mv_x1,L\u001b[38;5;241m.\u001b[39mv_z1,\u001b[38;5;124m'\u001b[39m\u001b[38;5;124mk-\u001b[39m\u001b[38;5;124m'\u001b[39m)\n\u001b[1;32m      5\u001b[0m     plt\u001b[38;5;241m.\u001b[39mplot(L\u001b[38;5;241m.\u001b[39mv_x2,L\u001b[38;5;241m.\u001b[39mv_z2,\u001b[38;5;124m'\u001b[39m\u001b[38;5;124mk-\u001b[39m\u001b[38;5;124m'\u001b[39m)\n",
      "\u001b[0;31mAttributeError\u001b[0m: 'simple_Lens' object has no attribute 'v_x1'"
     ]
    },
    {
     "data": {
      "text/plain": [
       "<Figure size 1000x800 with 0 Axes>"
      ]
     },
     "metadata": {},
     "output_type": "display_data"
    }
   ],
   "source": [
    "plot(L1)"
   ]
  },
  {
   "cell_type": "code",
   "execution_count": null,
   "id": "44450a1e-8954-42f4-98f8-e2d59077bb33",
   "metadata": {},
   "outputs": [],
   "source": [
    "import numpy as np\n",
    "import torch as T"
   ]
  },
  {
   "cell_type": "code",
   "execution_count": null,
   "id": "1522c448-fdb7-4eea-9e19-87e3f187bccd",
   "metadata": {},
   "outputs": [],
   "source": [
    "n=2\n",
    "x = np.linspace(0,n,n+1)\n",
    "y = np.linspace(0,n,n+1)\n",
    "z = np.linspace(0,n,n+1)"
   ]
  },
  {
   "cell_type": "code",
   "execution_count": null,
   "id": "e2a5473c-5d51-4078-8470-b4f7f08ba276",
   "metadata": {},
   "outputs": [],
   "source": [
    "A =np.concatenate((x,y,z)).reshape(3,-1)"
   ]
  },
  {
   "cell_type": "code",
   "execution_count": null,
   "id": "4eba8fa2-efc2-40c6-a99d-c5f86134cb78",
   "metadata": {},
   "outputs": [],
   "source": [
    "B = np.concatenate((x,y*2,z)).reshape(3,-1)"
   ]
  },
  {
   "cell_type": "code",
   "execution_count": null,
   "id": "f18958a8-1f4d-4810-a3c9-5ffdb8a00657",
   "metadata": {},
   "outputs": [],
   "source": [
    "A"
   ]
  },
  {
   "cell_type": "code",
   "execution_count": null,
   "id": "61179caa-1149-4ed7-9d5b-8ce1428e5d8f",
   "metadata": {},
   "outputs": [],
   "source": [
    "B"
   ]
  },
  {
   "cell_type": "code",
   "execution_count": null,
   "id": "3eaba5b6-0b85-430a-a952-6ea737585f7c",
   "metadata": {},
   "outputs": [],
   "source": [
    "np.cross(A,B,axisc=1)"
   ]
  },
  {
   "cell_type": "code",
   "execution_count": null,
   "id": "75fe1147-3471-4cfc-9fc7-fab3a8888fb9",
   "metadata": {},
   "outputs": [],
   "source": [
    "T.cross(T.tensor(A),T.tensor(B))"
   ]
  },
  {
   "cell_type": "code",
   "execution_count": null,
   "id": "a45f0f30-843d-422b-ae09-f970f94e01f8",
   "metadata": {},
   "outputs": [],
   "source": [
    "T.cross(T.tensor(A),T.tensor(B))"
   ]
  },
  {
   "cell_type": "code",
   "execution_count": null,
   "id": "e53ce832-048a-4d69-bf0f-5de6dff4c907",
   "metadata": {},
   "outputs": [],
   "source": [
    "B"
   ]
  },
  {
   "cell_type": "code",
   "execution_count": null,
   "id": "d7ba1d99-3f2d-4596-ab0f-24a100a99ed5",
   "metadata": {},
   "outputs": [],
   "source": [
    "A"
   ]
  },
  {
   "cell_type": "code",
   "execution_count": null,
   "id": "57d2207d-fe1d-4da0-b3eb-af0424e03e6c",
   "metadata": {},
   "outputs": [],
   "source": [
    "np.acos(1/2)"
   ]
  },
  {
   "cell_type": "code",
   "execution_count": null,
   "id": "10d6a153-bfb8-4fcc-a4b8-cbe43f0760d2",
   "metadata": {},
   "outputs": [],
   "source": []
  }
 ],
 "metadata": {
  "kernelspec": {
   "display_name": "Python 3 (ipykernel)",
   "language": "python",
   "name": "python3"
  },
  "language_info": {
   "codemirror_mode": {
    "name": "ipython",
    "version": 3
   },
   "file_extension": ".py",
   "mimetype": "text/x-python",
   "name": "python",
   "nbconvert_exporter": "python",
   "pygments_lexer": "ipython3",
   "version": "3.9.21"
  }
 },
 "nbformat": 4,
 "nbformat_minor": 5
}
