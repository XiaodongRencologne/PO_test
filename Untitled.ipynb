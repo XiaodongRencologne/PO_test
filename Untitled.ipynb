{
 "cells": [
  {
   "cell_type": "code",
   "execution_count": 1,
   "id": "f1691dbf-8c73-4ebe-8189-b5277660d5f0",
   "metadata": {},
   "outputs": [],
   "source": [
    "import pyvista as pv\n",
    "from Kirchhoffpy import lenspy\n",
    "import matplotlib.pyplot as plt\n",
    "import numpy as np"
   ]
  },
  {
   "cell_type": "code",
   "execution_count": 2,
   "id": "e6acd8d2",
   "metadata": {},
   "outputs": [
    {
     "data": {
      "text/plain": [
       "\"\\nsrffolder = 'srf2/'\\nx = np.linspace(0,200,101)/10\\nf1 = lenspy.read_rsf(srffolder + 'lens1_f1.rsf')\\nf2 = lenspy.read_rsf2(srffolder + 'lens1_f1.rsf')\\nz1,n1 = f1(x,np.zeros(x.shape))\\nz2,n2 = f2(x,np.zeros(x.shape))\\n\""
      ]
     },
     "execution_count": 2,
     "metadata": {},
     "output_type": "execute_result"
    }
   ],
   "source": [
    "\"\"\"\n",
    "srffolder = 'srf2/'\n",
    "x = np.linspace(0,200,101)/10\n",
    "f1 = lenspy.read_rsf(srffolder + 'lens1_f1.rsf')\n",
    "f2 = lenspy.read_rsf2(srffolder + 'lens1_f1.rsf')\n",
    "z1,n1 = f1(x,np.zeros(x.shape))\n",
    "z2,n2 = f2(x,np.zeros(x.shape))\n",
    "\"\"\""
   ]
  },
  {
   "cell_type": "code",
   "execution_count": 3,
   "id": "621a2729-ac20-4174-b37b-7597af405653",
   "metadata": {},
   "outputs": [],
   "source": [
    "p = pv.Plotter()\n",
    "srffolder = 'srf2/'\n",
    "L1 = lenspy.simple_Lens(2,43.4991 ,400, srffolder + 'lens1_f1.rsf', srffolder + 'lens1_f2.rsf',p,[0,0,-803.9719951339464],name = 'L1')\n",
    "L2 = lenspy.simple_Lens(2,46.9671 ,400, srffolder + 'lens2_f1.rsf', srffolder + 'lens2_f2.rsf',p,[0,0,-227.64396727901004],name = 'L2')\n",
    "L3 = lenspy.simple_Lens(2,29.6556 ,400, srffolder + 'lens3_f1.rsf', srffolder + 'lens3_f2.rsf',p,[0,0,-71.77590111674095],name = 'L3')"
   ]
  },
  {
   "cell_type": "code",
   "execution_count": 4,
   "id": "e38c6444-6e9f-44a3-83bd-44e925f23d14",
   "metadata": {},
   "outputs": [
    {
     "name": "stderr",
     "output_type": "stream",
     "text": [
      "c:\\Users\\xiaod\\.conda\\envs\\CCATholo\\lib\\site-packages\\pyvista\\core\\filters\\poly_data.py:3144: PyVistaFutureWarning: The default value of the ``capping`` keyword argument will change in a future version to ``True`` to match the behavior of VTK. We recommend passing the keyword explicitly to prevent future surprises.\n",
      "  warnings.warn(\n"
     ]
    },
    {
     "ename": "RuntimeError",
     "evalue": "Could not infer dtype of Coord",
     "output_type": "error",
     "traceback": [
      "\u001b[1;31m---------------------------------------------------------------------------\u001b[0m",
      "\u001b[1;31mRuntimeError\u001b[0m                              Traceback (most recent call last)",
      "Cell \u001b[1;32mIn[4], line 1\u001b[0m\n\u001b[1;32m----> 1\u001b[0m \u001b[43mL1\u001b[49m\u001b[38;5;241;43m.\u001b[39;49m\u001b[43mview\u001b[49m\u001b[43m(\u001b[49m\u001b[38;5;241;43m21\u001b[39;49m\u001b[43m,\u001b[49m\u001b[38;5;241;43m11\u001b[39;49m\u001b[43m)\u001b[49m\n\u001b[0;32m      2\u001b[0m \u001b[38;5;66;03m#L2.view(201,201)\u001b[39;00m\n\u001b[0;32m      3\u001b[0m \u001b[38;5;66;03m#L3.view(201,201)\u001b[39;00m\n\u001b[0;32m      4\u001b[0m p\u001b[38;5;241m.\u001b[39mshow()\n",
      "File \u001b[1;32me:\\E_Laptop_new\\Project in Köln\\1_Holography inference\\program_POtest\\PO_test\\Kirchhoffpy\\lenspy.py:231\u001b[0m, in \u001b[0;36msimple_Lens.view\u001b[1;34m(self, N1, N2)\u001b[0m\n\u001b[0;32m    228\u001b[0m direction \u001b[38;5;241m=\u001b[39m  np\u001b[38;5;241m.\u001b[39mcolumn_stack((k_v1\u001b[38;5;241m.\u001b[39mx,k_v1\u001b[38;5;241m.\u001b[39my,k_v1\u001b[38;5;241m.\u001b[39mz))\n\u001b[0;32m    229\u001b[0m \u001b[38;5;28mself\u001b[39m\u001b[38;5;241m.\u001b[39mwidget\u001b[38;5;241m.\u001b[39madd_arrows(cent,\u001b[38;5;241m-\u001b[39mdirection\u001b[38;5;241m*\u001b[39m\u001b[38;5;241m10\u001b[39m,mag \u001b[38;5;241m=\u001b[39m\u001b[38;5;241m1\u001b[39m)\n\u001b[1;32m--> 231\u001b[0m E_t,E_r,H_t,H_r \u001b[38;5;241m=\u001b[39m Fresnel_coeffi(\u001b[38;5;241m3.36\u001b[39m,\u001b[38;5;241m1\u001b[39m,\u001b[43mT\u001b[49m\u001b[38;5;241;43m.\u001b[39;49m\u001b[43mtensor\u001b[49m\u001b[43m(\u001b[49m\u001b[38;5;28;43mself\u001b[39;49m\u001b[38;5;241;43m.\u001b[39;49m\u001b[43mv_n1\u001b[49m\u001b[43m)\u001b[49m,T\u001b[38;5;241m.\u001b[39mtensor(E),T\u001b[38;5;241m.\u001b[39mtensor(H))\n\u001b[0;32m    233\u001b[0m k_v1 \u001b[38;5;241m=\u001b[39m poyntingVector(E_t,H_t)\n\u001b[0;32m    234\u001b[0m cent \u001b[38;5;241m=\u001b[39m np\u001b[38;5;241m.\u001b[39mcolumn_stack((\u001b[38;5;28mself\u001b[39m\u001b[38;5;241m.\u001b[39mv_x1,np\u001b[38;5;241m.\u001b[39mzeros(\u001b[38;5;28mself\u001b[39m\u001b[38;5;241m.\u001b[39mv_x1\u001b[38;5;241m.\u001b[39mshape),\u001b[38;5;28mself\u001b[39m\u001b[38;5;241m.\u001b[39mv_z1))\n",
      "\u001b[1;31mRuntimeError\u001b[0m: Could not infer dtype of Coord"
     ]
    }
   ],
   "source": [
    "L1.view(21,11)\n",
    "#L2.view(201,201)\n",
    "#L3.view(201,201)\n",
    "p.show()"
   ]
  },
  {
   "cell_type": "code",
   "execution_count": null,
   "id": "57287a14-a21a-45d0-bc7a-bc6878607d52",
   "metadata": {},
   "outputs": [],
   "source": [
    "def plot(L):\n",
    "    figure = plt.figure(figsize = (10,8))\n",
    "    plt.plot(L.v_x1,L.v_z1,'k-')\n",
    "    plt.plot(-L.v_x1,L.v_z1,'k-')\n",
    "    plt.plot(L.v_x2,L.v_z2,'k-')\n",
    "    plt.plot(-L.v_x2,L.v_z2,'k-')\n",
    "    plt.ylim([0,800])\n",
    "    plt.axis('equal')\n",
    "    plt.show()"
   ]
  },
  {
   "cell_type": "code",
   "execution_count": null,
   "id": "632a65be-161f-4538-a879-37075c4b0168",
   "metadata": {},
   "outputs": [],
   "source": [
    "plot(L1)"
   ]
  },
  {
   "cell_type": "code",
   "execution_count": null,
   "id": "44450a1e-8954-42f4-98f8-e2d59077bb33",
   "metadata": {},
   "outputs": [],
   "source": []
  }
 ],
 "metadata": {
  "kernelspec": {
   "display_name": "Python 3",
   "language": "python",
   "name": "python3"
  },
  "language_info": {
   "codemirror_mode": {
    "name": "ipython",
    "version": 3
   },
   "file_extension": ".py",
   "mimetype": "text/x-python",
   "name": "python",
   "nbconvert_exporter": "python",
   "pygments_lexer": "ipython3",
   "version": "3.9.20"
  }
 },
 "nbformat": 4,
 "nbformat_minor": 5
}
