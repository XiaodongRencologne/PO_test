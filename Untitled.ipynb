{
 "cells": [
  {
   "cell_type": "code",
   "execution_count": 1,
   "id": "f1691dbf-8c73-4ebe-8189-b5277660d5f0",
   "metadata": {},
   "outputs": [],
   "source": [
    "import pyvista as pv\n",
    "from Kirchhoffpy import lenspy\n",
    "from Kirchhoffpy import Feedpy\n",
    "import matplotlib.pyplot as plt\n",
    "import numpy as np\n",
    "from Kirchhoffpy import LensPO\n",
    "c=299792458"
   ]
  },
  {
   "cell_type": "code",
   "execution_count": 2,
   "id": "7dbe3d4f-2c07-4d35-b11c-a2add43ad2c5",
   "metadata": {},
   "outputs": [
    {
     "name": "stdout",
     "output_type": "stream",
     "text": [
      "3.3310273111111113 1.8862605197565134\n"
     ]
    }
   ],
   "source": [
    "freq = 90*10**9\n",
    "Lambda = c*1000/freq\n",
    "k = 2*np.pi/Lambda\n",
    "print(Lambda,k)"
   ]
  },
  {
   "cell_type": "code",
   "execution_count": 3,
   "id": "e6acd8d2",
   "metadata": {},
   "outputs": [
    {
     "data": {
      "text/plain": [
       "\"\\nsrffolder = 'srf2/'\\nx = np.linspace(0,200,101)/10\\nf1 = lenspy.read_rsf(srffolder + 'lens1_f1.rsf')\\nf2 = lenspy.read_rsf2(srffolder + 'lens1_f1.rsf')\\nz1,n1 = f1(x,np.zeros(x.shape))\\nz2,n2 = f2(x,np.zeros(x.shape))\\n\""
      ]
     },
     "execution_count": 3,
     "metadata": {},
     "output_type": "execute_result"
    }
   ],
   "source": [
    "\"\"\"\n",
    "srffolder = 'srf2/'\n",
    "x = np.linspace(0,200,101)/10\n",
    "f1 = lenspy.read_rsf(srffolder + 'lens1_f1.rsf')\n",
    "f2 = lenspy.read_rsf2(srffolder + 'lens1_f1.rsf')\n",
    "z1,n1 = f1(x,np.zeros(x.shape))\n",
    "z2,n2 = f2(x,np.zeros(x.shape))\n",
    "\"\"\""
   ]
  },
  {
   "cell_type": "code",
   "execution_count": 4,
   "id": "edf4f650-2bdc-4674-a541-0a86cd732ff3",
   "metadata": {},
   "outputs": [
    {
     "name": "stdout",
     "output_type": "stream",
     "text": [
      "18.549365655963875 4.459096657731002\n",
      "18.549365655963875 4.459096657731002\n",
      "4.434847511583666 2.1743908088082686\n",
      "13.698476266553271 27.93916030969044\n",
      "13.612456756419371 27.224913512838743\n",
      "1.2357373519678617e-05\n",
      "284.4702883418159\n",
      "1.0\n"
     ]
    }
   ],
   "source": [
    "feed= Feedpy.Elliptical_GaussianBeam([-3,-3],[8,16],k,[0,0,0],[0,0,-200],polarization = 'x')"
   ]
  },
  {
   "cell_type": "code",
   "execution_count": 5,
   "id": "621a2729-ac20-4174-b37b-7597af405653",
   "metadata": {},
   "outputs": [],
   "source": [
    "p = pv.Plotter()\n",
    "srffolder = 'srf2/'\n",
    "L1 = lenspy.simple_Lens(3.36,43.4991 ,400, srffolder + 'lens1_f1.rsf', srffolder + 'lens1_f2.rsf',p,[0,0,-803.9719951339464],name = 'L1')\n",
    "#L2 = lenspy.simple_Lens(2,46.9671 ,400, srffolder + 'lens2_f1.rsf', srffolder + 'lens2_f2.rsf',p,[0,0,-227.64396727901004],name = 'L2')\n",
    "#L3 = lenspy.simple_Lens(2,29.6556 ,400, srffolder + 'lens3_f1.rsf', srffolder + 'lens3_f2.rsf',p,[0,0,-71.77590111674095],name = 'L3')"
   ]
  },
  {
   "cell_type": "code",
   "execution_count": null,
   "id": "c3022924-72ed-4ef3-bdd4-1e7216c19be7",
   "metadata": {},
   "outputs": [
    {
     "name": "stdout",
     "output_type": "stream",
     "text": [
      "[0.22043421 0.22043427 0.22043439 ... 0.22043439 0.22043427 0.22043421]\n"
     ]
    },
    {
     "name": "stderr",
     "output_type": "stream",
     "text": [
      "/home/xren/Documents/PO_test/Kirchhoffpy/LensPO.py:161: RuntimeWarning: divide by zero encountered in divide\n",
      "  s_n = scalarproduct(1/abs_v(s_n),s_n)\n",
      "/home/xren/Documents/PO_test/Kirchhoffpy/Vopy.py:113: RuntimeWarning: invalid value encountered in multiply\n",
      "  B.x=k*A.x;\n",
      "/home/xren/Documents/PO_test/Kirchhoffpy/Vopy.py:114: RuntimeWarning: invalid value encountered in multiply\n",
      "  B.y=k*A.y;\n",
      "/home/xren/Documents/PO_test/Kirchhoffpy/Vopy.py:115: RuntimeWarning: invalid value encountered in multiply\n",
      "  B.z=k*A.z;\n"
     ]
    },
    {
     "name": "stdout",
     "output_type": "stream",
     "text": [
      "cores: 1\n"
     ]
    },
    {
     "name": "stderr",
     "output_type": "stream",
     "text": [
      "  0%|▏                                                                | 31/10201 [00:10<57:52,  2.93it/s]"
     ]
    }
   ],
   "source": [
    "L1.method = LensPO.lensPO\n",
    "N1 =5001\n",
    "N2 = 101\n",
    "L1.analysis([1,N1,1,N1],[N2,1,N2,1],feed.beam,k)"
   ]
  },
  {
   "cell_type": "code",
   "execution_count": null,
   "id": "bd9ff671-5265-4a8e-b450-f24d32319a5c",
   "metadata": {},
   "outputs": [],
   "source": [
    "#plt.pcolor(np.abs(L1.f1_E_t.x.reshape(N1,-1)))\n",
    "#plt.colorbar()"
   ]
  },
  {
   "cell_type": "code",
   "execution_count": null,
   "id": "696b8c23-baeb-4b50-8bd0-74a31ed74e53",
   "metadata": {},
   "outputs": [],
   "source": [
    "#plt.pcolor(np.abs(L1.f1_E_t.y.reshape(N1,-1)))\n",
    "#plt.colorbar()"
   ]
  },
  {
   "cell_type": "code",
   "execution_count": null,
   "id": "832174bc-9cd1-4edf-8fad-1e23b8e545b3",
   "metadata": {},
   "outputs": [],
   "source": [
    "#plt.pcolor(np.abs(L1.f1_E_t.z.reshape(N1,-1)))"
   ]
  },
  {
   "cell_type": "code",
   "execution_count": null,
   "id": "e38c6444-6e9f-44a3-83bd-44e925f23d14",
   "metadata": {},
   "outputs": [],
   "source": [
    "#plt.pcolor(np.abs(L1.f_E_in.x.reshape(N1,-1)))"
   ]
  },
  {
   "cell_type": "code",
   "execution_count": null,
   "id": "8e38b4c8-8b8a-4953-9013-f65ae0ef64a1",
   "metadata": {},
   "outputs": [],
   "source": [
    "#plt.pcolor(np.abs(L1.f_E_in.y.reshape(N1,-1)))"
   ]
  },
  {
   "cell_type": "code",
   "execution_count": null,
   "id": "f69c3bee-e148-4bdf-898a-9cad3c0b9cf7",
   "metadata": {},
   "outputs": [],
   "source": [
    "#plt.pcolor(np.abs(L1.f_E_in.z.reshape(N1,-1)))"
   ]
  },
  {
   "cell_type": "code",
   "execution_count": null,
   "id": "356cfb0c-dd60-4fef-b5df-7dc46065fd76",
   "metadata": {},
   "outputs": [],
   "source": [
    "plt.pcolor(np.abs(L1.f2_E.x.reshape(N2,-1)))"
   ]
  },
  {
   "cell_type": "code",
   "execution_count": null,
   "id": "c04d2d0b-f471-471f-99fa-fdd16d786b15",
   "metadata": {},
   "outputs": [],
   "source": [
    "plt.pcolor(np.abs(L1.f2_E.y.reshape(N2,-1)))"
   ]
  },
  {
   "cell_type": "code",
   "execution_count": null,
   "id": "618cbf65-9377-4bb2-8b85-0b682ce1b126",
   "metadata": {},
   "outputs": [],
   "source": [
    "plt.pcolor(np.abs(L1.f2_E_t.z.reshape(N2,-1)))"
   ]
  },
  {
   "cell_type": "code",
   "execution_count": null,
   "id": "332b8413-82b2-484c-af8f-edb6006ed4ba",
   "metadata": {},
   "outputs": [],
   "source": [
    "plt.pcolor(np.abs(L1.f2_H_t.y.reshape(101,-1)))"
   ]
  },
  {
   "cell_type": "code",
   "execution_count": null,
   "id": "a35615ee-9ee1-4459-96d3-82fb18469692",
   "metadata": {},
   "outputs": [],
   "source": [
    "plt.pcolor(np.abs(L1.f2_H_t.z.reshape(101,-1)))"
   ]
  },
  {
   "cell_type": "code",
   "execution_count": null,
   "id": "27331f6c-f5d1-4fdf-8e34-1bdbf4dc7854",
   "metadata": {},
   "outputs": [],
   "source": [
    "#L1.view3()"
   ]
  },
  {
   "cell_type": "code",
   "execution_count": null,
   "id": "4ad1ef94-cf6a-44b5-ac0b-2df712a69ea7",
   "metadata": {},
   "outputs": [],
   "source": [
    "#p.show()"
   ]
  },
  {
   "cell_type": "code",
   "execution_count": null,
   "id": "6da9e982-810c-466a-8a0f-98fa3a7ad535",
   "metadata": {},
   "outputs": [],
   "source": [
    "(np.abs(L1.f2_E_t.x.reshape(N2,-1))).max()/(np.abs(L1.f_E_in.x.reshape(N1,-1))).max()"
   ]
  },
  {
   "cell_type": "code",
   "execution_count": null,
   "id": "ec3b01c9-a7ce-47f0-9bf5-bc8ce5a48228",
   "metadata": {},
   "outputs": [],
   "source": []
  }
 ],
 "metadata": {
  "kernelspec": {
   "display_name": "Python 3 (ipykernel)",
   "language": "python",
   "name": "python3"
  },
  "language_info": {
   "codemirror_mode": {
    "name": "ipython",
    "version": 3
   },
   "file_extension": ".py",
   "mimetype": "text/x-python",
   "name": "python",
   "nbconvert_exporter": "python",
   "pygments_lexer": "ipython3",
   "version": "3.9.21"
  }
 },
 "nbformat": 4,
 "nbformat_minor": 5
}
